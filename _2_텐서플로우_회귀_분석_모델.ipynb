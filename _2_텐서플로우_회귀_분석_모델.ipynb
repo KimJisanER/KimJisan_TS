{
  "nbformat": 4,
  "nbformat_minor": 0,
  "metadata": {
    "colab": {
      "name": "_2 텐서플로우 회귀 분석 모델.ipynb",
      "provenance": [],
      "collapsed_sections": [],
      "include_colab_link": true
    },
    "kernelspec": {
      "name": "python3",
      "display_name": "Python 3"
    },
    "accelerator": "GPU"
  },
  "cells": [
    {
      "cell_type": "markdown",
      "metadata": {
        "id": "view-in-github",
        "colab_type": "text"
      },
      "source": [
        "<a href=\"https://colab.research.google.com/github/KimJisanER/KimJisan_TS/blob/main/_2_%ED%85%90%EC%84%9C%ED%94%8C%EB%A1%9C%EC%9A%B0_%ED%9A%8C%EA%B7%80_%EB%B6%84%EC%84%9D_%EB%AA%A8%EB%8D%B8.ipynb\" target=\"_parent\"><img src=\"https://colab.research.google.com/assets/colab-badge.svg\" alt=\"Open In Colab\"/></a>"
      ]
    },
    {
      "cell_type": "markdown",
      "metadata": {
        "id": "ME4xVKRSvWxH"
      },
      "source": [
        "# 텐서플로우 회귀 분석 모델\n",
        "\n",
        "- 다양한 방법이 존재\n",
        "- 텐서플로우2만 사용하는 방법, 케라스를 이용한 방법, 둘을 모두 섞은 방법 등등  \n"
      ]
    },
    {
      "cell_type": "markdown",
      "metadata": {
        "id": "Lw9JHQ2btU9O"
      },
      "source": [
        "## 선형 회귀(Linear Regression)"
      ]
    },
    {
      "cell_type": "code",
      "metadata": {
        "id": "rc0SydSstXAj"
      },
      "source": [
        "import numpy as np\n",
        "import tensorflow as tf\n",
        "import matplotlib.pyplot as plt\n",
        "plt.style.use('seaborn-white')"
      ],
      "execution_count": 1,
      "outputs": []
    },
    {
      "cell_type": "code",
      "metadata": {
        "id": "qvFld-m-tcnD"
      },
      "source": [
        "learning_rate = 0.01\n",
        "training_steps = 1000"
      ],
      "execution_count": 2,
      "outputs": []
    },
    {
      "cell_type": "code",
      "metadata": {
        "id": "0-3wzjHjtgBg"
      },
      "source": [
        "X = np.random.randn(50)\n",
        "Y = 2*X + np.random.randn(50)"
      ],
      "execution_count": 3,
      "outputs": []
    },
    {
      "cell_type": "code",
      "metadata": {
        "id": "yAdt62LKti-W"
      },
      "source": [
        "W = tf.Variable(np.random.randn(), name='weight')\n",
        "b = tf.Variable(np.random.randn(), name='bias')\n",
        "\n",
        "def linear_regression(x):\n",
        "  return W*x + b\n",
        "\n",
        "def mean_square(y_pred, y_true):\n",
        "  return tf.reduce_mean(tf.square(y_pred-y_true))\n",
        "\n",
        "optimizer = tf.optimizers.SGD(learning_rate)"
      ],
      "execution_count": 4,
      "outputs": []
    },
    {
      "cell_type": "code",
      "metadata": {
        "id": "P8mLzC5vuCwp"
      },
      "source": [
        "def run_optimization():\n",
        "  with tf.GradientTape() as tape:\n",
        "    pred = linear_regression(X)\n",
        "    loss = mean_square(pred, Y)\n",
        "  \n",
        "  gradients = tape.gradient(loss,[W,b])\n",
        "\n",
        "  optimizer.apply_gradients(zip(gradients, [W, b]))\n"
      ],
      "execution_count": 5,
      "outputs": []
    },
    {
      "cell_type": "markdown",
      "source": [
        "TensorFlow 2.0의 자동 미분 기능인 GradientTape\n",
        "\n",
        "GradientTape은 자동 미분을 통해 동적으로 Gradient 값들을 확인해 볼 수 있다는 장점을 가지고 있습니다.\n",
        "\n",
        "apply_gradients 는 W,b 를 업데이트해줌"
      ],
      "metadata": {
        "id": "xdWpFuj0T973"
      }
    },
    {
      "cell_type": "code",
      "metadata": {
        "id": "dpMeJIaquPld",
        "colab": {
          "base_uri": "https://localhost:8080/"
        },
        "outputId": "63e9aff2-c64a-45be-fe01-5cedd72d559d"
      },
      "source": [
        "for step in range(1, training_steps +1):\n",
        "  run_optimization()\n",
        "\n",
        "  if step % 50 == 0:\n",
        "    pred = linear_regression(X)\n",
        "    loss = mean_square(pred, Y)\n",
        "    print(\"step: {:4d}\\tloss: {:.4f}\\tW: {:.4f}\\tb: {:.4f}\".format(step, loss, W.numpy(), b.numpy()))\n"
      ],
      "execution_count": 6,
      "outputs": [
        {
          "output_type": "stream",
          "name": "stdout",
          "text": [
            "step:   50\tloss: 0.8518\tW: 2.1052\tb: -0.0802\n",
            "step:  100\tloss: 0.8245\tW: 2.2161\tb: -0.0580\n",
            "step:  150\tloss: 0.8206\tW: 2.2571\tb: -0.0458\n",
            "step:  200\tloss: 0.8200\tW: 2.2725\tb: -0.0398\n",
            "step:  250\tloss: 0.8199\tW: 2.2783\tb: -0.0370\n",
            "step:  300\tloss: 0.8199\tW: 2.2805\tb: -0.0358\n",
            "step:  350\tloss: 0.8199\tW: 2.2813\tb: -0.0353\n",
            "step:  400\tloss: 0.8199\tW: 2.2816\tb: -0.0351\n",
            "step:  450\tloss: 0.8199\tW: 2.2818\tb: -0.0350\n",
            "step:  500\tloss: 0.8199\tW: 2.2818\tb: -0.0349\n",
            "step:  550\tloss: 0.8199\tW: 2.2818\tb: -0.0349\n",
            "step:  600\tloss: 0.8199\tW: 2.2819\tb: -0.0349\n",
            "step:  650\tloss: 0.8199\tW: 2.2819\tb: -0.0349\n",
            "step:  700\tloss: 0.8199\tW: 2.2819\tb: -0.0349\n",
            "step:  750\tloss: 0.8199\tW: 2.2819\tb: -0.0349\n",
            "step:  800\tloss: 0.8199\tW: 2.2819\tb: -0.0349\n",
            "step:  850\tloss: 0.8199\tW: 2.2819\tb: -0.0349\n",
            "step:  900\tloss: 0.8199\tW: 2.2819\tb: -0.0349\n",
            "step:  950\tloss: 0.8199\tW: 2.2819\tb: -0.0349\n",
            "step: 1000\tloss: 0.8199\tW: 2.2819\tb: -0.0349\n"
          ]
        }
      ]
    },
    {
      "cell_type": "markdown",
      "source": [
        "W, b 를 Variable에서 numpy로 변환시켜서 깔끔하게 숫자만 나오도록함\n",
        "\n",
        "\\t는 tab"
      ],
      "metadata": {
        "id": "ZKC2-IlBV620"
      }
    },
    {
      "cell_type": "code",
      "metadata": {
        "id": "is397GkquXu1",
        "colab": {
          "base_uri": "https://localhost:8080/",
          "height": 262
        },
        "outputId": "4a28db58-79fd-4e2d-ef16-883b59c2ea65"
      },
      "source": [
        "plt.plot(X,Y, 'ro', label='Data')\n",
        "plt.plot(X, np.array(W*X + b), label='Fitted Line')\n",
        "plt.legend()\n",
        "plt.grid()\n",
        "plt.show()"
      ],
      "execution_count": 8,
      "outputs": [
        {
          "output_type": "display_data",
          "data": {
            "text/plain": [
              "<Figure size 432x288 with 1 Axes>"
            ],
            "image/png": "[encoded data removed]"
          },
          "metadata": {
            "needs_background": "light"
          }
        }
      ]
    },
    {
      "cell_type": "markdown",
      "metadata": {
        "id": "hmwhh8v7ooEh"
      },
      "source": [
        "## 다항 회귀 (Nonlinear Regression)\n"
      ]
    },
    {
      "cell_type": "markdown",
      "metadata": {
        "id": "JzPHMupUouoj"
      },
      "source": [
        "### modules import"
      ]
    },
    {
      "cell_type": "code",
      "metadata": {
        "id": "nwjaLZxmosFb"
      },
      "source": [
        "from tensorflow.keras.optimizers import Adam"
      ],
      "execution_count": 9,
      "outputs": []
    },
    {
      "cell_type": "markdown",
      "metadata": {
        "id": "a4Eypd3lqIH7"
      },
      "source": [
        "### Hyper Parameters"
      ]
    },
    {
      "cell_type": "code",
      "metadata": {
        "id": "PwYv4RjrqKDk"
      },
      "source": [
        "epochs =1000\n",
        "learning_rate = 0.04"
      ],
      "execution_count": 10,
      "outputs": []
    },
    {
      "cell_type": "markdown",
      "metadata": {
        "id": "SBFf3xYkpK__"
      },
      "source": [
        "### 변수 지정"
      ]
    },
    {
      "cell_type": "code",
      "metadata": {
        "id": "rdYHM586osJT"
      },
      "source": [
        "a = tf.Variable(np.random.randn())\n",
        "b = tf.Variable(np.random.randn())\n",
        "c = tf.Variable(np.random.randn())"
      ],
      "execution_count": 11,
      "outputs": []
    },
    {
      "cell_type": "code",
      "metadata": {
        "id": "n0BoMoSgqmR2",
        "colab": {
          "base_uri": "https://localhost:8080/"
        },
        "outputId": "58f2939c-3429-41d1-87e7-b7d4abacd005"
      },
      "source": [
        "print(a.numpy())\n",
        "print(b.numpy())\n",
        "print(c.numpy())"
      ],
      "execution_count": 12,
      "outputs": [
        {
          "output_type": "stream",
          "name": "stdout",
          "text": [
            "-0.3093277\n",
            "-1.7904763\n",
            "-0.5661725\n"
          ]
        }
      ]
    },
    {
      "cell_type": "markdown",
      "metadata": {
        "id": "3-ks5u2ypTtb"
      },
      "source": [
        "### 데이터 지정"
      ]
    },
    {
      "cell_type": "code",
      "metadata": {
        "id": "rgVzGBLEor8l"
      },
      "source": [
        "X = np.random.randn(50)\n",
        "Y= X**2 + X*np.random.randn(50)"
      ],
      "execution_count": 13,
      "outputs": []
    },
    {
      "cell_type": "code",
      "metadata": {
        "id": "uodrzxT1rU1G",
        "colab": {
          "base_uri": "https://localhost:8080/",
          "height": 264
        },
        "outputId": "f937351e-a4bb-4ded-ae4a-4e79ea494ce3"
      },
      "source": [
        "line_x = np.arange(min(X), max(X), 0.001)\n",
        "line_y = a*line_x**2 + b*line_x + c\n",
        "\n",
        "x_ = np.arange(-4.0, 4.0, 0.001)\n",
        "y_ = a*x_**2 + b*x_ + c\n",
        "\n",
        "plt.scatter(X, Y, label=\"X_data\")\n",
        "plt.plot(x_, y_, 'g--', label='origin line')\n",
        "plt.plot(line_x, line_y, 'r--', label='before train')\n",
        "plt.xlim(-4.0,4.0)\n",
        "plt.legend()\n",
        "plt.grid()\n",
        "plt.show()"
      ],
      "execution_count": 15,
      "outputs": [
        {
          "output_type": "display_data",
          "data": {
            "text/plain": [
              "<Figure size 432x288 with 1 Axes>"
            ],
            "image/png": "[encoded data removed]"
          },
          "metadata": {
            "needs_background": "light"
          }
        }
      ]
    },
    {
      "cell_type": "markdown",
      "source": [
        "line_x = np.arange(min(X), max(X), 0.001)\n",
        "\n",
        "0.001 단위로\n",
        "\n"
      ],
      "metadata": {
        "id": "F-snJuzrZvy9"
      }
    },
    {
      "cell_type": "markdown",
      "metadata": {
        "id": "7C56lq45uM-V"
      },
      "source": [
        "### Util Functions"
      ]
    },
    {
      "cell_type": "code",
      "metadata": {
        "id": "_pvdH6U9uJ8i"
      },
      "source": [
        "def compute_loss():\n",
        "  pred_y = a*(np.array(X)**2) + b*np.array(X) + c\n",
        "  loss = tf.reduce_mean((Y - pred_y)**2)\n",
        "  return loss"
      ],
      "execution_count": 16,
      "outputs": []
    },
    {
      "cell_type": "markdown",
      "metadata": {
        "id": "kcme5VWPp6fz"
      },
      "source": [
        "### Optimizer"
      ]
    },
    {
      "cell_type": "code",
      "metadata": {
        "id": "R4TSy8j2or5J"
      },
      "source": [
        "optimizer = Adam(learning_rate=learning_rate)"
      ],
      "execution_count": 17,
      "outputs": []
    },
    {
      "cell_type": "markdown",
      "metadata": {
        "id": "5QVfbg2uqEx8"
      },
      "source": [
        "### 학습"
      ]
    },
    {
      "cell_type": "code",
      "metadata": {
        "id": "DBjCdWz9or1p",
        "colab": {
          "base_uri": "https://localhost:8080/"
        },
        "outputId": "ae004749-1e1b-4a8b-b67f-e3050d29abc8"
      },
      "source": [
        "for epoch in range(1, epochs+1, 1):\n",
        "  optimizer.minimize(compute_loss, var_list=[a, b, c])\n",
        "\n",
        "  if epoch % 100 == 0:\n",
        "    print(\"epoch: {:4d}\\ta: {:.4f}\\tb: {:.4f}\\tc: {:.4f}\".format(epoch, a.numpy(), b.numpy(), c.numpy()))"
      ],
      "execution_count": 19,
      "outputs": [
        {
          "output_type": "stream",
          "name": "stdout",
          "text": [
            "epoch:  100\ta: 0.7289\tb: 0.2539\tc: 0.2356\n",
            "epoch:  200\ta: 0.7289\tb: 0.2539\tc: 0.2356\n",
            "epoch:  300\ta: 0.7289\tb: 0.2539\tc: 0.2356\n",
            "epoch:  400\ta: 0.7289\tb: 0.2539\tc: 0.2356\n",
            "epoch:  500\ta: 0.7289\tb: 0.2539\tc: 0.2356\n",
            "epoch:  600\ta: 0.7289\tb: 0.2539\tc: 0.2356\n",
            "epoch:  700\ta: 0.7289\tb: 0.2539\tc: 0.2356\n",
            "epoch:  800\ta: 0.7289\tb: 0.2539\tc: 0.2356\n",
            "epoch:  900\ta: 0.7289\tb: 0.2539\tc: 0.2356\n",
            "epoch: 1000\ta: 0.7289\tb: 0.2539\tc: 0.2356\n"
          ]
        }
      ]
    },
    {
      "cell_type": "markdown",
      "metadata": {
        "id": "Fbyej01IumFX"
      },
      "source": [
        "### 학습 후의 회귀선"
      ]
    },
    {
      "cell_type": "code",
      "metadata": {
        "id": "gKqDyDwXugdP",
        "colab": {
          "base_uri": "https://localhost:8080/",
          "height": 264
        },
        "outputId": "4e3e2836-b3b0-44f6-baff-aac6e23a4a96"
      },
      "source": [
        "line_x = np.arange(min(X), max(X), 0.001)\n",
        "line_y = a*line_x**2 + b*line_x + c\n",
        "\n",
        "\n",
        "plt.scatter(X, Y, label=\"X_data\")\n",
        "plt.plot(x_, y_, 'g--', label='origin line')\n",
        "plt.plot(line_x, line_y, 'r--', label='after train')\n",
        "plt.xlim(-4.0,4.0)\n",
        "plt.legend()\n",
        "plt.grid()\n",
        "plt.show()"
      ],
      "execution_count": 21,
      "outputs": [
        {
          "output_type": "display_data",
          "data": {
            "text/plain": [
              "<Figure size 432x288 with 1 Axes>"
            ],
            "image/png": "[encoded data removed]"
          },
          "metadata": {
            "needs_background": "light"
          }
        }
      ]
    },
    {
      "cell_type": "markdown",
      "metadata": {
        "id": "jtCFXjS6uwry"
      },
      "source": [
        "## 로지스틱 회귀(Logistic Regression)\n",
        "- 다항 분류, MNIST"
      ]
    },
    {
      "cell_type": "markdown",
      "metadata": {
        "id": "GIdxzXa1vJmt"
      },
      "source": [
        "### modules import"
      ]
    },
    {
      "cell_type": "code",
      "metadata": {
        "id": "LGHeQjgYumXM"
      },
      "source": [
        "from tensorflow.keras.datasets import mnist"
      ],
      "execution_count": 22,
      "outputs": []
    },
    {
      "cell_type": "markdown",
      "metadata": {
        "id": "96xeDaPJvFW1"
      },
      "source": [
        "### 하이퍼 파라미터 (Hyper Parameter)\n"
      ]
    },
    {
      "cell_type": "code",
      "metadata": {
        "id": "-lPlvJz1u6k-"
      },
      "source": [
        "num_classes = 10\n",
        "num_features = 784\n",
        "\n",
        "learning_rate = 0.1\n",
        "training_steps = 1000\n",
        "batch_size = 256"
      ],
      "execution_count": 23,
      "outputs": []
    },
    {
      "cell_type": "markdown",
      "metadata": {
        "id": "ZM5M9h8NvDWV"
      },
      "source": [
        "### 데이터 로드"
      ]
    },
    {
      "cell_type": "code",
      "metadata": {
        "id": "qnobrT26vAvQ",
        "colab": {
          "base_uri": "https://localhost:8080/"
        },
        "outputId": "f44e83ea-4b4c-4b12-b6f5-71c71b47d25f"
      },
      "source": [
        "(x_train, y_train), (x_test, y_test) = mnist.load_data()\n",
        "\n",
        "x_train, x_test = np.array(x_train, np.float32), np.array(x_test, np.float32)\n",
        "\n",
        "x_train, x_test = x_train.reshape([-1, num_features]), x_test.reshape([-1, num_features])\n",
        "\n",
        "x_train, x_test = x_train / 255. , x_test / 255."
      ],
      "execution_count": 24,
      "outputs": [
        {
          "output_type": "stream",
          "name": "stdout",
          "text": [
            "Downloading data from https://storage.googleapis.com/tensorflow/tf-keras-datasets/mnist.npz\n",
            "11493376/11490434 [==============================] - 0s 0us/step\n",
            "11501568/11490434 [==============================] - 0s 0us/step\n"
          ]
        }
      ]
    },
    {
      "cell_type": "markdown",
      "source": [
        "2d를 1d로 flatten"
      ],
      "metadata": {
        "id": "ZYn0d08omC1w"
      }
    },
    {
      "cell_type": "markdown",
      "metadata": {
        "id": "o3bJVBPtve43"
      },
      "source": [
        "### tf.data API 사용\n",
        "- 03 에서 다시 다룸 "
      ]
    },
    {
      "cell_type": "code",
      "metadata": {
        "id": "-OWS2nV_vPly"
      },
      "source": [
        "train_data = tf.data.Dataset.from_tensor_slices((x_train,y_train))\n",
        "train_data = train_data.repeat().shuffle(5000).batch(batch_size).prefetch(1)"
      ],
      "execution_count": 25,
      "outputs": []
    },
    {
      "cell_type": "markdown",
      "metadata": {
        "id": "fHbbQ29awub_"
      },
      "source": [
        "### 변수 지정"
      ]
    },
    {
      "cell_type": "code",
      "metadata": {
        "id": "NTMKizyIww0x"
      },
      "source": [
        "W = tf.Variable(tf.random.normal([num_features, num_classes]), name='weight')\n",
        "b = tf.Variable(tf.zeros([num_classes]), name='bias') "
      ],
      "execution_count": 26,
      "outputs": []
    },
    {
      "cell_type": "markdown",
      "metadata": {
        "id": "kiK9LRUNwxC1"
      },
      "source": [
        "### Util Functions"
      ]
    },
    {
      "cell_type": "code",
      "metadata": {
        "id": "ylkNeSdhvbi6"
      },
      "source": [
        "def logistic_regression(x):\n",
        "  return tf.nn.softmax(tf.matmul(x,W) + b)\n",
        "\n",
        "def cross_entropy(pred_y, true_y):\n",
        "  true_y = tf.one_hot(true_y, depth=num_classes)\n",
        "  pred_y = tf.clip_by_value(pred_y, 1e-9,1.)\n",
        "\n",
        "  return tf.reduce_mean(-tf.reduce_sum(true_y*tf.math.log(pred_y), 1))\n",
        "\n",
        "def accuracy(y_pred, y_true):\n",
        "  correct_prediction = tf.equal(tf.argmax(y_pred, 1), tf.cast(y_true, tf.int64))\n",
        "  return tf.reduce_mean(tf.cast(correct_prediction, tf.float32))"
      ],
      "execution_count": 27,
      "outputs": []
    },
    {
      "cell_type": "markdown",
      "source": [
        " pred_y = tf.clip_by_value(pred_y, 1e-9,1.) 크로스에트로피라 min값은 0들어가면 안됨 max는 1로\n",
        " \n",
        "tf.cast는 데이터 타입을 바꿔줌"
      ],
      "metadata": {
        "id": "IXllSIpnor9g"
      }
    },
    {
      "cell_type": "markdown",
      "metadata": {
        "id": "ePdcyFeUxVNu"
      },
      "source": [
        "### Optimizer"
      ]
    },
    {
      "cell_type": "code",
      "metadata": {
        "id": "uAQHksH_xW6h"
      },
      "source": [
        "optimizer = tf.optimizers.SGD(learning_rate)"
      ],
      "execution_count": 29,
      "outputs": []
    },
    {
      "cell_type": "code",
      "metadata": {
        "id": "hksbn4Njvvyk"
      },
      "source": [
        "def run_optimization(x,y):\n",
        "  with tf.GradientTape() as tape:\n",
        "    pred = logistic_regression(x)\n",
        "    loss = cross_entropy(pred, y)\n",
        "  \n",
        "  gradients = tape.gradient(loss, [W,b])\n",
        "\n",
        "  optimizer.apply_gradients(zip(gradients, [W, b]))"
      ],
      "execution_count": 31,
      "outputs": []
    },
    {
      "cell_type": "markdown",
      "metadata": {
        "id": "6B0i4_VvzheR"
      },
      "source": [
        "### 학습 진행"
      ]
    },
    {
      "cell_type": "code",
      "metadata": {
        "id": "k1z97_GVwrOV",
        "colab": {
          "base_uri": "https://localhost:8080/"
        },
        "outputId": "0e91a0f7-da3b-4764-f2e9-644c6feed8a9"
      },
      "source": [
        "for step, ( batch_x, batch_y) in enumerate(train_data.take(training_steps),1):\n",
        "  run_optimization(batch_x, batch_y)\n",
        "\n",
        "  if step % 50 == 0:\n",
        "    pred = logistic_regression(batch_x)\n",
        "    loss = cross_entropy(pred, batch_y)\n",
        "    acc = accuracy(pred, batch_y)\n",
        "    print(\"step: {:4d}\\tloss: {:.4f}\\taccuracy: {:4f}\".format(step, loss, acc))"
      ],
      "execution_count": 38,
      "outputs": [
        {
          "output_type": "stream",
          "name": "stdout",
          "text": [
            "step:   50\tloss: 1.4922\taccuracy: 0.679688\n",
            "step:  100\tloss: 1.5620\taccuracy: 0.695312\n",
            "step:  150\tloss: 1.5368\taccuracy: 0.695312\n",
            "step:  200\tloss: 1.4476\taccuracy: 0.703125\n",
            "step:  250\tloss: 1.1648\taccuracy: 0.753906\n",
            "step:  300\tloss: 1.1668\taccuracy: 0.738281\n",
            "step:  350\tloss: 1.3205\taccuracy: 0.761719\n",
            "step:  400\tloss: 1.0747\taccuracy: 0.773438\n",
            "step:  450\tloss: 0.9182\taccuracy: 0.769531\n",
            "step:  500\tloss: 1.0341\taccuracy: 0.765625\n",
            "step:  550\tloss: 0.9848\taccuracy: 0.792969\n",
            "step:  600\tloss: 0.9234\taccuracy: 0.792969\n",
            "step:  650\tloss: 0.9140\taccuracy: 0.824219\n",
            "step:  700\tloss: 0.7594\taccuracy: 0.832031\n",
            "step:  750\tloss: 0.8386\taccuracy: 0.824219\n",
            "step:  800\tloss: 0.9702\taccuracy: 0.828125\n",
            "step:  850\tloss: 1.2025\taccuracy: 0.785156\n",
            "step:  900\tloss: 1.0102\taccuracy: 0.812500\n",
            "step:  950\tloss: 0.7355\taccuracy: 0.847656\n",
            "step: 1000\tloss: 0.8022\taccuracy: 0.804688\n"
          ]
        }
      ]
    },
    {
      "cell_type": "markdown",
      "metadata": {
        "id": "RTv-fBSMzj3e"
      },
      "source": [
        "###  테스트"
      ]
    },
    {
      "cell_type": "code",
      "metadata": {
        "id": "MlKYyRnWxbzs",
        "colab": {
          "base_uri": "https://localhost:8080/"
        },
        "outputId": "bad99d1a-9a7f-44d3-a905-ec44ff514674"
      },
      "source": [
        "pred = logistic_regression(x_test)\n",
        "print(\"Test Accuarcy:{}\".format(accuracy(pred, y_test)))"
      ],
      "execution_count": 39,
      "outputs": [
        {
          "output_type": "stream",
          "name": "stdout",
          "text": [
            "Test Accuarcy:0.8312000036239624\n"
          ]
        }
      ]
    },
    {
      "cell_type": "markdown",
      "metadata": {
        "id": "NX_R9BP3zkzH"
      },
      "source": [
        "### 시각화"
      ]
    },
    {
      "cell_type": "code",
      "metadata": {
        "id": "Y2sVd13zyh3a",
        "colab": {
          "base_uri": "https://localhost:8080/",
          "height": 194
        },
        "outputId": "e05c7385-8fac-4b47-b469-c7b72df8d6aa"
      },
      "source": [
        "num_images = 5\n",
        "test_images = x_test[:num_images]\n",
        "predictions = logistic_regression(test_images)\n",
        "\n",
        "plt.figure(figsize=(14,8))\n",
        "for i in range(1, num_images+1, 1):\n",
        "  plt.subplot(1, num_images, i)\n",
        "  plt.imshow(np.reshape(test_images[i-1], [28,28]), cmap='gray')\n",
        "  plt.title(\"Model prediction:{}\".format(np.argmax(predictions.numpy()[i-1])))\n",
        "\n",
        "plt.show()"
      ],
      "execution_count": 40,
      "outputs": [
        {
          "output_type": "display_data",
          "data": {
            "text/plain": [
              "<Figure size 1008x576 with 5 Axes>"
            ],
            "image/png": "[encoded data removed]"
          },
          "metadata": {
            "needs_background": "light"
          }
        }
      ]
    }
  ]
}