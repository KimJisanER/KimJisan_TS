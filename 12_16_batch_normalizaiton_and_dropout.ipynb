{
  "nbformat": 4,
  "nbformat_minor": 0,
  "metadata": {
    "colab": {
      "name": "12_16_batch_normalizaiton_and_dropout.ipynb",
      "provenance": [],
      "authorship_tag": "ABX9TyO65yDvRRQca/c5sjpv54cx",
      "include_colab_link": true
    },
    "kernelspec": {
      "name": "python3",
      "display_name": "Python 3"
    },
    "language_info": {
      "name": "python"
    }
  },
  "cells": [
    {
      "cell_type": "markdown",
      "metadata": {
        "id": "view-in-github",
        "colab_type": "text"
      },
      "source": [
        "<a href=\"https://colab.research.google.com/github/KimJisanER/KimJisan_TS/blob/main/12_16_batch_normalizaiton_and_dropout.ipynb\" target=\"_parent\"><img src=\"https://colab.research.google.com/assets/colab-badge.svg\" alt=\"Open In Colab\"/></a>"
      ]
    },
    {
      "cell_type": "code",
      "execution_count": 3,
      "metadata": {
        "colab": {
          "base_uri": "https://localhost:8080/"
        },
        "id": "CoFjh1_MOlKD",
        "outputId": "543e12ad-fd22-438e-db73-1b3db989cf61"
      },
      "outputs": [
        {
          "output_type": "stream",
          "name": "stdout",
          "text": [
            "Epoch 1/5\n",
            "750/750 [==============================] - 5s 6ms/step - loss: 4.0087 - accuracy: 0.7929 - val_loss: 0.7735 - val_accuracy: 0.8328\n",
            "Epoch 2/5\n",
            "750/750 [==============================] - 4s 5ms/step - loss: 0.6445 - accuracy: 0.8580 - val_loss: 0.5656 - val_accuracy: 0.8826\n",
            "Epoch 3/5\n",
            "750/750 [==============================] - 4s 5ms/step - loss: 0.4252 - accuracy: 0.8988 - val_loss: 0.4644 - val_accuracy: 0.9057\n",
            "Epoch 4/5\n",
            "750/750 [==============================] - 4s 5ms/step - loss: 0.3417 - accuracy: 0.9140 - val_loss: 0.4025 - val_accuracy: 0.9201\n",
            "Epoch 5/5\n",
            "750/750 [==============================] - 4s 5ms/step - loss: 0.2822 - accuracy: 0.9265 - val_loss: 0.3679 - val_accuracy: 0.9245\n"
          ]
        }
      ],
      "source": [
        "# 라이브러리 불러오기\n",
        "import tensorflow as tf\n",
        "from tensorflow.keras.models import Sequential\n",
        "from tensorflow.keras.layers import Dense, Flatten\n",
        "\n",
        "# Mnist 데이터셋\n",
        "mnist = tf.keras.datasets.mnist\n",
        "(X, y), (x_test, y_test) = mnist.load_data()\n",
        "\n",
        "# 시퀀셜 모델 만들기\n",
        "model = Sequential([\n",
        "                    Flatten(input_shape=(28,28)),\n",
        "                    Dense(64, activation='relu'),\n",
        "                    Dense(10, activation='softmax')\n",
        "])\n",
        "\n",
        "# 모델 컴파일\n",
        "\n",
        "model.compile(optimizer='adam',\n",
        "              loss='sparse_categorical_crossentropy',\n",
        "              metrics=['accuracy'])\n",
        "\n",
        "#훈련(학습) validation_split\n",
        "history = model.fit(X,y, validation_split=0.2, epochs=5, batch_size=64)"
      ]
    },
    {
      "cell_type": "code",
      "source": [
        "import matplotlib.pyplot as plt\n",
        "\n",
        "plt.plot(history.history['accuracy'])\n",
        "plt.plot(history.history['val_accuracy'])\n",
        "plt.xlabel('epochs')\n",
        "plt.ylabel('accuracy')\n",
        "plt.legend(['training','validation'])"
      ],
      "metadata": {
        "colab": {
          "base_uri": "https://localhost:8080/",
          "height": 297
        },
        "id": "Bm4f5GifSB8l",
        "outputId": "8ad4bdce-ac43-4d51-9971-a6a3656c3bf5"
      },
      "execution_count": 4,
      "outputs": [
        {
          "output_type": "execute_result",
          "data": {
            "text/plain": [
              "<matplotlib.legend.Legend at 0x7feda25d6e10>"
            ]
          },
          "metadata": {},
          "execution_count": 4
        },
        {
          "output_type": "display_data",
          "data": {
            "image/png": "[encoded data removed]",
            "text/plain": [
              "<Figure size 432x288 with 1 Axes>"
            ]
          },
          "metadata": {
            "needs_background": "light"
          }
        }
      ]
    },
    {
      "cell_type": "markdown",
      "source": [
        "Batch Normalization 추가"
      ],
      "metadata": {
        "id": "cnVt53eISnAP"
      }
    },
    {
      "cell_type": "code",
      "source": [
        "# 라이브러리 불러오기\n",
        "import tensorflow as tf\n",
        "from tensorflow.keras.models import Sequential\n",
        "from tensorflow.keras.layers import Dense, Flatten, BatchNormalization\n",
        "\n",
        "# Mnist 데이터셋\n",
        "mnist = tf.keras.datasets.mnist\n",
        "(X, y), (x_test, y_test) = mnist.load_data()\n",
        "\n",
        "# 시퀀셜 모델 만들기\n",
        "model = Sequential([\n",
        "                    Flatten(input_shape=(28,28)),\n",
        "                    BatchNormalization(),\n",
        "                    Dense(64, activation='relu'),\n",
        "                    BatchNormalization(),\n",
        "                    Dense(10, activation='softmax')\n",
        "])\n",
        "\n",
        "# 모델 컴파일\n",
        "\n",
        "model.compile(optimizer='adam',\n",
        "              loss='sparse_categorical_crossentropy',\n",
        "              metrics=['accuracy'])\n",
        "\n",
        "#훈련(학습) validation_split\n",
        "history = model.fit(X,y, validation_split=0.2, epochs=5, batch_size=64)"
      ],
      "metadata": {
        "colab": {
          "base_uri": "https://localhost:8080/"
        },
        "id": "PCQalgVeSITv",
        "outputId": "a2f4ae68-4e7f-471f-f564-c8036bd318f5"
      },
      "execution_count": 5,
      "outputs": [
        {
          "output_type": "stream",
          "name": "stdout",
          "text": [
            "Epoch 1/5\n",
            "750/750 [==============================] - 3s 4ms/step - loss: 0.3194 - accuracy: 0.9072 - val_loss: 0.3009 - val_accuracy: 0.9502\n",
            "Epoch 2/5\n",
            "750/750 [==============================] - 3s 4ms/step - loss: 0.1538 - accuracy: 0.9555 - val_loss: 0.3021 - val_accuracy: 0.9588\n",
            "Epoch 3/5\n",
            "750/750 [==============================] - 3s 4ms/step - loss: 0.1122 - accuracy: 0.9664 - val_loss: 0.2634 - val_accuracy: 0.9629\n",
            "Epoch 4/5\n",
            "750/750 [==============================] - 3s 4ms/step - loss: 0.0889 - accuracy: 0.9730 - val_loss: 0.3105 - val_accuracy: 0.9657\n",
            "Epoch 5/5\n",
            "750/750 [==============================] - 3s 3ms/step - loss: 0.0765 - accuracy: 0.9771 - val_loss: 0.3075 - val_accuracy: 0.9666\n"
          ]
        }
      ]
    },
    {
      "cell_type": "code",
      "source": [
        "import matplotlib.pyplot as plt\n",
        "\n",
        "plt.plot(history.history['accuracy'])\n",
        "plt.plot(history.history['val_accuracy'])\n",
        "plt.xlabel('epochs')\n",
        "plt.ylabel('accuracy')\n",
        "plt.legend(['training','validation'])"
      ],
      "metadata": {
        "colab": {
          "base_uri": "https://localhost:8080/",
          "height": 300
        },
        "id": "5iWo_OIFTTXW",
        "outputId": "35e5cf05-4667-4389-c01a-10b107e51aaf"
      },
      "execution_count": 6,
      "outputs": [
        {
          "output_type": "execute_result",
          "data": {
            "text/plain": [
              "<matplotlib.legend.Legend at 0x7feda1f74750>"
            ]
          },
          "metadata": {},
          "execution_count": 6
        },
        {
          "output_type": "display_data",
          "data": {
            "image/png": "[encoded data removed]",
            "text/plain": [
              "<Figure size 432x288 with 1 Axes>"
            ]
          },
          "metadata": {
            "needs_background": "light"
          }
        }
      ]
    },
    {
      "cell_type": "markdown",
      "source": [
        "Dropout 레이어 추가"
      ],
      "metadata": {
        "id": "dDNxYal9TaAC"
      }
    },
    {
      "cell_type": "code",
      "source": [
        "#라이브러리 불러오기\n",
        "from tensorflow.keras.layers import Dropout\n",
        "\n",
        "# 라이브러리 불러오기\n",
        "import tensorflow as tf\n",
        "from tensorflow.keras.models import Sequential\n",
        "from tensorflow.keras.layers import Dense, Flatten, BatchNormalization\n",
        "\n",
        "# Mnist 데이터셋\n",
        "mnist = tf.keras.datasets.mnist\n",
        "(X, y), (x_test, y_test) = mnist.load_data()\n",
        "\n",
        "# 시퀀셜 모델 만들기\n",
        "model = Sequential([\n",
        "                    Flatten(input_shape=(28,28)),\n",
        "                    Dropout(0.2),\n",
        "                    BatchNormalization(),\n",
        "                    Dense(64, activation='relu'),\n",
        "                    Dropout(0.2),\n",
        "                    BatchNormalization(),\n",
        "                    Dense(10, activation='softmax')\n",
        "])\n",
        "\n",
        "# 모델 컴파일\n",
        "\n",
        "model.compile(optimizer='adam',\n",
        "              loss='sparse_categorical_crossentropy',\n",
        "              metrics=['accuracy'])\n",
        "\n",
        "#훈련(학습) validation_split\n",
        "history = model.fit(X,y, validation_split=0.2, epochs=5, batch_size=64, verbose=1)"
      ],
      "metadata": {
        "colab": {
          "base_uri": "https://localhost:8080/"
        },
        "id": "SVhduUaZTYuo",
        "outputId": "6054942a-f383-4b74-9b6b-b2831e1b451a"
      },
      "execution_count": 8,
      "outputs": [
        {
          "output_type": "stream",
          "name": "stdout",
          "text": [
            "Epoch 1/5\n",
            "750/750 [==============================] - 7s 8ms/step - loss: 0.5051 - accuracy: 0.8453 - val_loss: 0.3228 - val_accuracy: 0.9372\n",
            "Epoch 2/5\n",
            "750/750 [==============================] - 5s 7ms/step - loss: 0.2861 - accuracy: 0.9137 - val_loss: 0.3021 - val_accuracy: 0.9526\n",
            "Epoch 3/5\n",
            "750/750 [==============================] - 5s 7ms/step - loss: 0.2370 - accuracy: 0.9288 - val_loss: 0.2445 - val_accuracy: 0.9580\n",
            "Epoch 4/5\n",
            "750/750 [==============================] - 5s 7ms/step - loss: 0.2115 - accuracy: 0.9345 - val_loss: 0.3003 - val_accuracy: 0.9598\n",
            "Epoch 5/5\n",
            "750/750 [==============================] - 5s 7ms/step - loss: 0.1938 - accuracy: 0.9405 - val_loss: 0.2379 - val_accuracy: 0.9652\n"
          ]
        }
      ]
    }
  ]
}