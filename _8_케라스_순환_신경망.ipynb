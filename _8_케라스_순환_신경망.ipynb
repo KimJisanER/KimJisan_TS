{
  "nbformat": 4,
  "nbformat_minor": 0,
  "metadata": {
    "colab": {
      "name": "_8 케라스 순환 신경망.ipynb",
      "provenance": [],
      "collapsed_sections": [],
      "include_colab_link": true
    },
    "kernelspec": {
      "name": "python3",
      "display_name": "Python 3"
    },
    "accelerator": "GPU"
  },
  "cells": [
    {
      "cell_type": "markdown",
      "metadata": {
        "id": "view-in-github",
        "colab_type": "text"
      },
      "source": [
        "<a href=\"https://colab.research.google.com/github/KimJisanER/Tensorflow/blob/main/_8_%EC%BC%80%EB%9D%BC%EC%8A%A4_%EC%88%9C%ED%99%98_%EC%8B%A0%EA%B2%BD%EB%A7%9D.ipynb\" target=\"_parent\"><img src=\"https://colab.research.google.com/assets/colab-badge.svg\" alt=\"Open In Colab\"/></a>"
      ]
    },
    {
      "cell_type": "markdown",
      "metadata": {
        "id": "XP9Qr2-36gAf"
      },
      "source": [
        "# 순환 신경망(Recurrent Neural Network, RNN)\n",
        "\n",
        "- 루프(loop)를 가진 신경망의 한 종류\n",
        "\n",
        "- 시퀀스의 원소를 순회하면서 지금까지 처리한 정보를 상태(state)에 저장\n",
        "\n",
        "<img src=\"https://miro.medium.com/max/627/1*go8PHsPNbbV6qRiwpUQ5BQ.png\">\n",
        "\n",
        "<sub>출처: https://towardsdatascience.com/understanding-rnn-and-lstm-f7cdf6dfc14e</sub>"
      ]
    },
    {
      "cell_type": "markdown",
      "metadata": {
        "id": "lp3_sVIjHk0F"
      },
      "source": [
        "## 순환 신경망 레이어 (RNN Layer)\n",
        "\n",
        "- 입력: `(timesteps, input_features)`\n",
        "\n",
        "- 출력: `(timesteps, output_features)`"
      ]
    },
    {
      "cell_type": "code",
      "metadata": {
        "id": "n08yr0aAIbFD"
      },
      "source": [
        "import numpy as np"
      ],
      "execution_count": 1,
      "outputs": []
    },
    {
      "cell_type": "code",
      "metadata": {
        "id": "ZKIInEEZIcBj"
      },
      "source": [
        "timesteps = 100\n",
        "input_features = 32\n",
        "output_features = 64\n",
        "\n",
        "inputs = np.random.random((timesteps, input_features))\n",
        "\n",
        "state_t = np.zeros((output_features, ))\n",
        "\n",
        "W = np.random.random((output_features, input_features))\n",
        "U = np.random.random((output_features, output_features))\n",
        "b = np.random.random((output_features, ))\n",
        "\n",
        "successive_outputs = []\n",
        "\n",
        "for input_t in inputs:\n",
        "  output_t = np.tanh(np.dot(W, input_t) + np.dot(U, state_t) + b)\n",
        "  successive_outputs.append(output_t)\n",
        "  state_t = output_t\n",
        "\n",
        "final_output_sequence = np.stack(successive_outputs, axis=0)\n"
      ],
      "execution_count": 2,
      "outputs": []
    },
    {
      "cell_type": "markdown",
      "metadata": {
        "id": "bEZ8dQEEKxlQ"
      },
      "source": [
        "## 케라스의 순환층\n",
        "- `SimpleRNN` layer\n",
        "\n",
        "- 입력: `(batch_size, timesteps, input_features)`\n",
        "\n",
        "- 출력\n",
        "  - `return_sequences`로 결정할 수 있음\n",
        "  \n",
        "  - 3D 텐서\n",
        "    - 타임스텝의 출력을 모은 전체 시퀀스를 반환\n",
        "\n",
        "    - `(batch_size, timesteps, output_features)`\n",
        "\n",
        "  - 2D 텐서\n",
        "    - 입력 시퀀스에 대한 마지막 출력만 반환\n",
        "\n",
        "    - `(batch_size, output_features)`\n"
      ]
    },
    {
      "cell_type": "code",
      "metadata": {
        "id": "lZ1YCi1iKMC8"
      },
      "source": [
        "from tensorflow.keras.layers import SimpleRNN, Embedding\n",
        "from tensorflow.keras.models import Sequential"
      ],
      "execution_count": 3,
      "outputs": []
    },
    {
      "cell_type": "code",
      "metadata": {
        "id": "GQ9LbTgoKxIl",
        "colab": {
          "base_uri": "https://localhost:8080/"
        },
        "outputId": "88b6fe01-6845-4695-b5ec-273caa4bf5e6"
      },
      "source": [
        "model = Sequential()\n",
        "model.add(Embedding(10000, 32))\n",
        "model.add(SimpleRNN(32))\n",
        "model.summary()"
      ],
      "execution_count": 4,
      "outputs": [
        {
          "output_type": "stream",
          "name": "stdout",
          "text": [
            "Model: \"sequential\"\n",
            "_________________________________________________________________\n",
            " Layer (type)                Output Shape              Param #   \n",
            "=================================================================\n",
            " embedding (Embedding)       (None, None, 32)          320000    \n",
            "                                                                 \n",
            " simple_rnn (SimpleRNN)      (None, 32)                2080      \n",
            "                                                                 \n",
            "=================================================================\n",
            "Total params: 322,080\n",
            "Trainable params: 322,080\n",
            "Non-trainable params: 0\n",
            "_________________________________________________________________\n"
          ]
        }
      ]
    },
    {
      "cell_type": "code",
      "metadata": {
        "id": "KDxE5Jv0Kc7O",
        "colab": {
          "base_uri": "https://localhost:8080/"
        },
        "outputId": "b65198d2-16fb-4d2d-dc33-8c288df2f353"
      },
      "source": [
        "model = Sequential()\n",
        "model.add(Embedding(10000, 32))\n",
        "model.add(SimpleRNN(32, return_sequences=True))\n",
        "model.add(SimpleRNN(32, return_sequences=True))\n",
        "model.add(SimpleRNN(32, return_sequences=True))\n",
        "model.add(SimpleRNN(32))\n",
        "model.summary()"
      ],
      "execution_count": 5,
      "outputs": [
        {
          "output_type": "stream",
          "name": "stdout",
          "text": [
            "Model: \"sequential_1\"\n",
            "_________________________________________________________________\n",
            " Layer (type)                Output Shape              Param #   \n",
            "=================================================================\n",
            " embedding_1 (Embedding)     (None, None, 32)          320000    \n",
            "                                                                 \n",
            " simple_rnn_1 (SimpleRNN)    (None, None, 32)          2080      \n",
            "                                                                 \n",
            " simple_rnn_2 (SimpleRNN)    (None, None, 32)          2080      \n",
            "                                                                 \n",
            " simple_rnn_3 (SimpleRNN)    (None, None, 32)          2080      \n",
            "                                                                 \n",
            " simple_rnn_4 (SimpleRNN)    (None, 32)                2080      \n",
            "                                                                 \n",
            "=================================================================\n",
            "Total params: 328,320\n",
            "Trainable params: 328,320\n",
            "Non-trainable params: 0\n",
            "_________________________________________________________________\n"
          ]
        }
      ]
    },
    {
      "cell_type": "markdown",
      "metadata": {
        "id": "E-MDIz1zcIyP"
      },
      "source": [
        "- 네트워크의 표현력을 증가시키기 위해 여러 개의 순환층을 차례대로 쌓는 것이 유용할 때가 있음\n",
        "\n",
        "  - 이런 설정에서는 중간층들이 전체 출력 시퀀스를 반환하도록 설정"
      ]
    },
    {
      "cell_type": "markdown",
      "metadata": {
        "id": "j0CNAzN_deXE"
      },
      "source": [
        "## IMDB 데이터 적용"
      ]
    },
    {
      "cell_type": "markdown",
      "metadata": {
        "id": "W1SbNYRdmVTY"
      },
      "source": [
        "### 데이터 로드"
      ]
    },
    {
      "cell_type": "code",
      "metadata": {
        "id": "-27Tkihbcei2"
      },
      "source": [
        "from tensorflow.keras.datasets import imdb\n",
        "from tensorflow.keras.preprocessing import sequence"
      ],
      "execution_count": 6,
      "outputs": []
    },
    {
      "cell_type": "code",
      "metadata": {
        "id": "KL-_piPIdms6",
        "colab": {
          "base_uri": "https://localhost:8080/"
        },
        "outputId": "05bd362e-2641-4bdd-b59a-6696b84c50ca"
      },
      "source": [
        "num_words = 10000\n",
        "max_len = 500\n",
        "batch_size = 32\n",
        "\n",
        "(input_train, y_train), (input_test, y_test) = imdb.load_data(num_words=num_words)\n",
        "print(len(input_train))\n",
        "print(len(input_test))\n",
        "\n",
        "input_train = sequence.pad_sequences(input_train, maxlen=max_len)\n",
        "input_test = sequence.pad_sequences(input_test, maxlen=max_len)\n",
        "print(input_train.shape)\n",
        "print(input_test.shape)"
      ],
      "execution_count": 7,
      "outputs": [
        {
          "output_type": "stream",
          "name": "stdout",
          "text": [
            "Downloading data from https://storage.googleapis.com/tensorflow/tf-keras-datasets/imdb.npz\n",
            "17465344/17464789 [==============================] - 0s 0us/step\n",
            "17473536/17464789 [==============================] - 0s 0us/step\n",
            "25000\n",
            "25000\n",
            "(25000, 500)\n",
            "(25000, 500)\n"
          ]
        }
      ]
    },
    {
      "cell_type": "markdown",
      "metadata": {
        "id": "uf2EVnzceS4R"
      },
      "source": [
        "### 모델 구성"
      ]
    },
    {
      "cell_type": "code",
      "metadata": {
        "id": "d7dfeDC5eMdj"
      },
      "source": [
        "from tensorflow.keras.layers import Dense"
      ],
      "execution_count": 8,
      "outputs": []
    },
    {
      "cell_type": "code",
      "metadata": {
        "id": "KnAUijOReWGu",
        "colab": {
          "base_uri": "https://localhost:8080/"
        },
        "outputId": "b05d38c3-4936-4577-ebbc-2781df7d0dc9"
      },
      "source": [
        "model = Sequential()\n",
        "\n",
        "model.add(Embedding(num_words, 32))\n",
        "model.add(SimpleRNN(32))\n",
        "model.add(Dense(1, activation='sigmoid'))\n",
        "\n",
        "model.compile(optimizer='rmsprop',\n",
        "              loss='binary_crossentropy',\n",
        "              metrics=['acc'])\n",
        "model.summary()"
      ],
      "execution_count": 9,
      "outputs": [
        {
          "output_type": "stream",
          "name": "stdout",
          "text": [
            "Model: \"sequential_2\"\n",
            "_________________________________________________________________\n",
            " Layer (type)                Output Shape              Param #   \n",
            "=================================================================\n",
            " embedding_2 (Embedding)     (None, None, 32)          320000    \n",
            "                                                                 \n",
            " simple_rnn_5 (SimpleRNN)    (None, 32)                2080      \n",
            "                                                                 \n",
            " dense (Dense)               (None, 1)                 33        \n",
            "                                                                 \n",
            "=================================================================\n",
            "Total params: 322,113\n",
            "Trainable params: 322,113\n",
            "Non-trainable params: 0\n",
            "_________________________________________________________________\n"
          ]
        }
      ]
    },
    {
      "cell_type": "markdown",
      "metadata": {
        "id": "pU_9-Hu7mcMa"
      },
      "source": [
        "### 모델 학습"
      ]
    },
    {
      "cell_type": "code",
      "metadata": {
        "id": "XdPtzPwNeonA",
        "colab": {
          "base_uri": "https://localhost:8080/"
        },
        "outputId": "29daef60-173a-4cec-f291-8fcf23e6fcfa"
      },
      "source": [
        "history = model.fit(input_train, y_train,\n",
        "                    epochs=10,\n",
        "                    batch_size=128,\n",
        "                    validation_split=0.2)"
      ],
      "execution_count": 10,
      "outputs": [
        {
          "output_type": "stream",
          "name": "stdout",
          "text": [
            "Epoch 1/10\n",
            "157/157 [==============================] - 78s 469ms/step - loss: 0.6321 - acc: 0.6295 - val_loss: 0.5563 - val_acc: 0.7158\n",
            "Epoch 2/10\n",
            "157/157 [==============================] - 75s 476ms/step - loss: 0.3967 - acc: 0.8315 - val_loss: 0.4766 - val_acc: 0.7666\n",
            "Epoch 3/10\n",
            "157/157 [==============================] - 90s 575ms/step - loss: 0.2881 - acc: 0.8831 - val_loss: 0.4111 - val_acc: 0.8188\n",
            "Epoch 4/10\n",
            "157/157 [==============================] - 92s 585ms/step - loss: 0.2160 - acc: 0.9184 - val_loss: 0.3909 - val_acc: 0.8370\n",
            "Epoch 5/10\n",
            "157/157 [==============================] - 73s 462ms/step - loss: 0.1552 - acc: 0.9441 - val_loss: 0.4016 - val_acc: 0.8470\n",
            "Epoch 6/10\n",
            "157/157 [==============================] - 82s 525ms/step - loss: 0.1038 - acc: 0.9646 - val_loss: 0.4486 - val_acc: 0.8268\n",
            "Epoch 7/10\n",
            "157/157 [==============================] - 91s 583ms/step - loss: 0.0666 - acc: 0.9785 - val_loss: 0.4600 - val_acc: 0.8538\n",
            "Epoch 8/10\n",
            "157/157 [==============================] - 82s 525ms/step - loss: 0.0449 - acc: 0.9865 - val_loss: 0.5434 - val_acc: 0.8256\n",
            "Epoch 9/10\n",
            "157/157 [==============================] - 83s 529ms/step - loss: 0.0266 - acc: 0.9922 - val_loss: 0.5833 - val_acc: 0.8296\n",
            "Epoch 10/10\n",
            "157/157 [==============================] - 88s 562ms/step - loss: 0.0213 - acc: 0.9937 - val_loss: 0.6323 - val_acc: 0.8448\n"
          ]
        }
      ]
    },
    {
      "cell_type": "markdown",
      "metadata": {
        "id": "afIyKdLsmj6N"
      },
      "source": [
        "### 시각화"
      ]
    },
    {
      "cell_type": "code",
      "metadata": {
        "id": "sendhEujeu8S"
      },
      "source": [
        "import matplotlib.pyplot as plt\n",
        "plt.style.use('seaborn-white')"
      ],
      "execution_count": 11,
      "outputs": []
    },
    {
      "cell_type": "code",
      "metadata": {
        "id": "3rjMFpiBe4Fa",
        "colab": {
          "base_uri": "https://localhost:8080/",
          "height": 507
        },
        "outputId": "f4dfba30-485d-40e6-b6f3-c35ddb80f1d8"
      },
      "source": [
        "loss = history.history['loss']\n",
        "val_loss = history.history['val_loss']\n",
        "acc = history.history['acc']\n",
        "val_acc = history.history['val_acc']\n",
        "\n",
        "epochs = range(1, len(loss)+1)\n",
        "\n",
        "plt.plot(epochs, loss, 'b--', label='training loss')\n",
        "plt.plot(epochs, val_loss, 'r:', label='validation accuracy')\n",
        "plt.grid()\n",
        "plt.legend()\n",
        "\n",
        "plt.figure()\n",
        "plt.plot(epochs, acc, 'b--', label='training accuracy')\n",
        "plt.plot(epochs, val_acc, 'r:', label='validation accuracy')\n",
        "plt.grid()\n",
        "plt.legend()\n",
        "\n",
        "plt.show()"
      ],
      "execution_count": 12,
      "outputs": [
        {
          "output_type": "display_data",
          "data": {
            "text/plain": [
              "<Figure size 432x288 with 1 Axes>"
            ],
            "image/png": "[encoded data removed]"
          },
          "metadata": {}
        },
        {
          "output_type": "display_data",
          "data": {
            "text/plain": [
              "<Figure size 432x288 with 1 Axes>"
            ],
            "image/png": "[encoded data removed]"
          },
          "metadata": {}
        }
      ]
    },
    {
      "cell_type": "code",
      "metadata": {
        "id": "YLO526Sgf-U_",
        "colab": {
          "base_uri": "https://localhost:8080/"
        },
        "outputId": "63044de9-1d44-4b86-987f-de6770f65452"
      },
      "source": [
        "model.evaluate(input_test, y_test)"
      ],
      "execution_count": 13,
      "outputs": [
        {
          "output_type": "stream",
          "name": "stdout",
          "text": [
            "782/782 [==============================] - 33s 42ms/step - loss: 0.6709 - acc: 0.8391\n"
          ]
        },
        {
          "output_type": "execute_result",
          "data": {
            "text/plain": [
              "[0.6708990335464478, 0.8390799760818481]"
            ]
          },
          "metadata": {},
          "execution_count": 13
        }
      ]
    },
    {
      "cell_type": "markdown",
      "metadata": {
        "id": "ytqqPh0ZgSja"
      },
      "source": [
        "- 전체 시퀀스가 아니라 순서대로 500개의 단어만 입력했기 때문에 성능이 낮게 나옴\n",
        "\n",
        "- SimpleRNN은 긴 시퀀스를 처리하는데 적합하지 않음"
      ]
    },
    {
      "cell_type": "markdown",
      "metadata": {
        "id": "VTmZ_XiZguM5"
      },
      "source": [
        "# LSTM과 GRU 레이어\n",
        "\n",
        "- SimpleRNN은 실전에 사용하기엔 너무 단순\n",
        "\n",
        "- SimpleRNN은 이론적으로 시간 $t$ 에서 이전의 모든 타임스텝의 정보를 유지할 수 있지만, 실제로는 긴 시간에 걸친 의존성은 학습할 수 없음\n",
        "\n",
        "- 그래디언트 소실 문제(vanishing gradient problem)\n",
        "  - 이를 방지하기 위해 LSTM, GRU 같은 레이어 등장\n",
        "\n"
      ]
    },
    {
      "cell_type": "markdown",
      "metadata": {
        "id": "oZXJIdDai7sV"
      },
      "source": [
        "## LSTM(Long Short-Term Memory)\n",
        "- 장단기 메모리 알고리즘\n",
        "\n",
        "- 나중을 위해 정보를 저장함으로써 오래된 시그널이 점차 소실되는 것을 막아줌\n",
        "\n",
        "  <img src=\"https://colah.github.io/posts/2015-08-Understanding-LSTMs/img/LSTM3-chain.png\">\n",
        "\n",
        "  <sub>출처: https://colah.github.io/posts/2015-08-Understanding-LSTMs/</sub>"
      ]
    },
    {
      "cell_type": "markdown",
      "metadata": {
        "id": "TvnFLeqSsOSh"
      },
      "source": [
        "## 예제로 보는 순환 신경망: Reuters \n",
        "\n",
        "- IMDB와 유사한 데이터셋(텍스트 데이터)\n",
        "\n",
        "- 46개의 상호 배타적인 토픽으로 이루어진 데이터셋 \n",
        "  - 다중 분류 문제\n"
      ]
    },
    {
      "cell_type": "markdown",
      "metadata": {
        "id": "ONPaMDFEsftq"
      },
      "source": [
        "### 데이터셋 로드"
      ]
    },
    {
      "cell_type": "code",
      "metadata": {
        "id": "sFyvFVizsUVD"
      },
      "source": [
        "from tensorflow.keras.datasets import reuters"
      ],
      "execution_count": 14,
      "outputs": []
    },
    {
      "cell_type": "code",
      "metadata": {
        "id": "C234q3AVsUSp",
        "colab": {
          "base_uri": "https://localhost:8080/"
        },
        "outputId": "08b50ebe-1f29-45f1-c653-3e2a0bc6593d"
      },
      "source": [
        "num_words = 10000\n",
        "(x_train, y_train), (x_test, y_test) =reuters.load_data(num_words=num_words)\n",
        "\n",
        "print(x_train.shape)\n",
        "print(y_train.shape)\n",
        "\n",
        "print(x_test.shape)\n",
        "print(y_test.shape)"
      ],
      "execution_count": 15,
      "outputs": [
        {
          "output_type": "stream",
          "name": "stdout",
          "text": [
            "Downloading data from https://storage.googleapis.com/tensorflow/tf-keras-datasets/reuters.npz\n",
            "2113536/2110848 [==============================] - 0s 0us/step\n",
            "2121728/2110848 [==============================] - 0s 0us/step\n",
            "(8982,)\n",
            "(8982,)\n",
            "(2246,)\n",
            "(2246,)\n"
          ]
        }
      ]
    },
    {
      "cell_type": "markdown",
      "metadata": {
        "id": "VioYGD8Ms4zH"
      },
      "source": [
        "### 데이터 전처리 및 확인"
      ]
    },
    {
      "cell_type": "code",
      "metadata": {
        "id": "2Sb0OxNlsUQT"
      },
      "source": [
        "from tensorflow.keras.preprocessing.sequence import pad_sequences"
      ],
      "execution_count": 16,
      "outputs": []
    },
    {
      "cell_type": "code",
      "metadata": {
        "id": "rNUkve6-sUN6"
      },
      "source": [
        "max_len = 500"
      ],
      "execution_count": 17,
      "outputs": []
    },
    {
      "cell_type": "code",
      "metadata": {
        "id": "jBxQZtOJsULl",
        "colab": {
          "base_uri": "https://localhost:8080/"
        },
        "outputId": "89ca013d-e0d9-429e-8cff-239abfeb859e"
      },
      "source": [
        "pad_x_train = pad_sequences(x_train, maxlen=max_len)\n",
        "pad_x_test = pad_sequences(x_test, maxlen=max_len)\n",
        "\n",
        "print(len(pad_x_train[0]))"
      ],
      "execution_count": 18,
      "outputs": [
        {
          "output_type": "stream",
          "name": "stdout",
          "text": [
            "500\n"
          ]
        }
      ]
    },
    {
      "cell_type": "code",
      "metadata": {
        "id": "a6hwQtn_sUJN",
        "colab": {
          "base_uri": "https://localhost:8080/"
        },
        "outputId": "97eaaa7d-6ebe-4b36-f5bc-4e141ef9ca66"
      },
      "source": [
        "print(pad_x_train[0])"
      ],
      "execution_count": 19,
      "outputs": [
        {
          "output_type": "stream",
          "name": "stdout",
          "text": [
            "[   0    0    0    0    0    0    0    0    0    0    0    0    0    0\n",
            "    0    0    0    0    0    0    0    0    0    0    0    0    0    0\n",
            "    0    0    0    0    0    0    0    0    0    0    0    0    0    0\n",
            "    0    0    0    0    0    0    0    0    0    0    0    0    0    0\n",
            "    0    0    0    0    0    0    0    0    0    0    0    0    0    0\n",
            "    0    0    0    0    0    0    0    0    0    0    0    0    0    0\n",
            "    0    0    0    0    0    0    0    0    0    0    0    0    0    0\n",
            "    0    0    0    0    0    0    0    0    0    0    0    0    0    0\n",
            "    0    0    0    0    0    0    0    0    0    0    0    0    0    0\n",
            "    0    0    0    0    0    0    0    0    0    0    0    0    0    0\n",
            "    0    0    0    0    0    0    0    0    0    0    0    0    0    0\n",
            "    0    0    0    0    0    0    0    0    0    0    0    0    0    0\n",
            "    0    0    0    0    0    0    0    0    0    0    0    0    0    0\n",
            "    0    0    0    0    0    0    0    0    0    0    0    0    0    0\n",
            "    0    0    0    0    0    0    0    0    0    0    0    0    0    0\n",
            "    0    0    0    0    0    0    0    0    0    0    0    0    0    0\n",
            "    0    0    0    0    0    0    0    0    0    0    0    0    0    0\n",
            "    0    0    0    0    0    0    0    0    0    0    0    0    0    0\n",
            "    0    0    0    0    0    0    0    0    0    0    0    0    0    0\n",
            "    0    0    0    0    0    0    0    0    0    0    0    0    0    0\n",
            "    0    0    0    0    0    0    0    0    0    0    0    0    0    0\n",
            "    0    0    0    0    0    0    0    0    0    0    0    0    0    0\n",
            "    0    0    0    0    0    0    0    0    0    0    0    0    0    0\n",
            "    0    0    0    0    0    0    0    0    0    0    0    0    0    0\n",
            "    0    0    0    0    0    0    0    0    0    0    0    0    0    0\n",
            "    0    0    0    0    0    0    0    0    0    0    0    0    0    0\n",
            "    0    0    0    0    0    0    0    0    0    0    0    0    0    0\n",
            "    0    0    0    0    0    0    0    0    0    0    0    0    0    0\n",
            "    0    0    0    0    0    0    0    0    0    0    0    0    0    0\n",
            "    0    0    0    0    0    0    0    1    2    2    8   43   10  447\n",
            "    5   25  207  270    5 3095  111   16  369  186   90   67    7   89\n",
            "    5   19  102    6   19  124   15   90   67   84   22  482   26    7\n",
            "   48    4   49    8  864   39  209  154    6  151    6   83   11   15\n",
            "   22  155   11   15    7   48    9 4579 1005  504    6  258    6  272\n",
            "   11   15   22  134   44   11   15   16    8  197 1245   90   67   52\n",
            "   29  209   30   32  132    6  109   15   17   12]\n"
          ]
        }
      ]
    },
    {
      "cell_type": "markdown",
      "metadata": {
        "id": "_P_JxBFntQOP"
      },
      "source": [
        "### 모델 구성\n",
        "- LSTM 레이어도 SimpleRNN과 같이 `return_sequences` 인자 사용가능"
      ]
    },
    {
      "cell_type": "code",
      "metadata": {
        "id": "1vG3ZGSksUG5"
      },
      "source": [
        "from tensorflow.keras.models import Sequential\n",
        "from tensorflow.keras.layers import LSTM, Dense, Embedding"
      ],
      "execution_count": 20,
      "outputs": []
    },
    {
      "cell_type": "code",
      "metadata": {
        "id": "K_uMdxmysUEg",
        "colab": {
          "base_uri": "https://localhost:8080/"
        },
        "outputId": "a1950c1d-d696-4fcd-d328-fcaeb355cb24"
      },
      "source": [
        "model = Sequential()\n",
        "model.add(Embedding(input_dim=num_words, output_dim=64))\n",
        "model.add(LSTM(64, return_sequences=True))\n",
        "model.add(LSTM(32))\n",
        "model.add(Dense(46, activation='softmax'))\n",
        "\n",
        "model.compile(optimizer='adam',\n",
        "              loss='sparse_categorical_crossentropy',\n",
        "              metrics=['acc'])\n",
        "model.summary()"
      ],
      "execution_count": 21,
      "outputs": [
        {
          "output_type": "stream",
          "name": "stdout",
          "text": [
            "Model: \"sequential_3\"\n",
            "_________________________________________________________________\n",
            " Layer (type)                Output Shape              Param #   \n",
            "=================================================================\n",
            " embedding_3 (Embedding)     (None, None, 64)          640000    \n",
            "                                                                 \n",
            " lstm (LSTM)                 (None, None, 64)          33024     \n",
            "                                                                 \n",
            " lstm_1 (LSTM)               (None, 32)                12416     \n",
            "                                                                 \n",
            " dense_1 (Dense)             (None, 46)                1518      \n",
            "                                                                 \n",
            "=================================================================\n",
            "Total params: 686,958\n",
            "Trainable params: 686,958\n",
            "Non-trainable params: 0\n",
            "_________________________________________________________________\n"
          ]
        }
      ]
    },
    {
      "cell_type": "markdown",
      "metadata": {
        "id": "qjgupW2puHXA"
      },
      "source": [
        "### 모델 학습"
      ]
    },
    {
      "cell_type": "code",
      "metadata": {
        "id": "T22YsRQ8sUBg",
        "colab": {
          "base_uri": "https://localhost:8080/"
        },
        "outputId": "2b68f6ff-3932-46b6-cbfc-efb4497cc1bd"
      },
      "source": [
        "history = model.fit(pad_x_train, y_train,\n",
        "                    batch_size=32, epochs=20,\n",
        "                    validation_split=0.2)"
      ],
      "execution_count": 22,
      "outputs": [
        {
          "output_type": "stream",
          "name": "stdout",
          "text": [
            "Epoch 1/20\n",
            "225/225 [==============================] - 15s 45ms/step - loss: 2.5010 - acc: 0.3787 - val_loss: 2.0892 - val_acc: 0.4942\n",
            "Epoch 2/20\n",
            "225/225 [==============================] - 9s 42ms/step - loss: 1.9719 - acc: 0.4971 - val_loss: 2.0145 - val_acc: 0.5025\n",
            "Epoch 3/20\n",
            "225/225 [==============================] - 10s 43ms/step - loss: 1.7940 - acc: 0.5255 - val_loss: 1.7911 - val_acc: 0.5403\n",
            "Epoch 4/20\n",
            "225/225 [==============================] - 9s 42ms/step - loss: 1.7651 - acc: 0.5324 - val_loss: 1.8000 - val_acc: 0.5264\n",
            "Epoch 5/20\n",
            "225/225 [==============================] - 9s 42ms/step - loss: 1.7180 - acc: 0.5399 - val_loss: 1.7269 - val_acc: 0.5442\n",
            "Epoch 6/20\n",
            "225/225 [==============================] - 9s 42ms/step - loss: 1.6039 - acc: 0.5819 - val_loss: 1.7077 - val_acc: 0.5643\n",
            "Epoch 7/20\n",
            "225/225 [==============================] - 10s 44ms/step - loss: 1.5411 - acc: 0.6007 - val_loss: 1.6657 - val_acc: 0.5743\n",
            "Epoch 8/20\n",
            "225/225 [==============================] - 9s 42ms/step - loss: 1.4868 - acc: 0.6122 - val_loss: 1.5985 - val_acc: 0.5843\n",
            "Epoch 9/20\n",
            "225/225 [==============================] - 9s 42ms/step - loss: 1.4138 - acc: 0.6291 - val_loss: 1.5639 - val_acc: 0.5988\n",
            "Epoch 10/20\n",
            "225/225 [==============================] - 9s 42ms/step - loss: 1.3611 - acc: 0.6387 - val_loss: 1.5980 - val_acc: 0.5921\n",
            "Epoch 11/20\n",
            "225/225 [==============================] - 10s 43ms/step - loss: 1.2962 - acc: 0.6587 - val_loss: 1.5659 - val_acc: 0.6071\n",
            "Epoch 12/20\n",
            "225/225 [==============================] - 10s 43ms/step - loss: 1.2353 - acc: 0.6809 - val_loss: 1.5869 - val_acc: 0.6004\n",
            "Epoch 13/20\n",
            "225/225 [==============================] - 10s 43ms/step - loss: 1.2008 - acc: 0.6902 - val_loss: 1.6355 - val_acc: 0.5893\n",
            "Epoch 14/20\n",
            "225/225 [==============================] - 10s 43ms/step - loss: 1.1494 - acc: 0.7056 - val_loss: 1.5978 - val_acc: 0.5932\n",
            "Epoch 15/20\n",
            "225/225 [==============================] - 10s 43ms/step - loss: 1.0697 - acc: 0.7237 - val_loss: 1.5658 - val_acc: 0.6199\n",
            "Epoch 16/20\n",
            "225/225 [==============================] - 10s 43ms/step - loss: 1.1148 - acc: 0.7109 - val_loss: 1.6507 - val_acc: 0.6093\n",
            "Epoch 17/20\n",
            "225/225 [==============================] - 10s 43ms/step - loss: 1.0410 - acc: 0.7280 - val_loss: 1.5984 - val_acc: 0.6183\n",
            "Epoch 18/20\n",
            "225/225 [==============================] - 10s 43ms/step - loss: 0.9567 - acc: 0.7499 - val_loss: 1.6195 - val_acc: 0.6144\n",
            "Epoch 19/20\n",
            "225/225 [==============================] - 12s 52ms/step - loss: 0.9524 - acc: 0.7506 - val_loss: 1.6057 - val_acc: 0.6216\n",
            "Epoch 20/20\n",
            "225/225 [==============================] - 11s 49ms/step - loss: 0.8978 - acc: 0.7620 - val_loss: 1.6386 - val_acc: 0.6183\n"
          ]
        }
      ]
    },
    {
      "cell_type": "markdown",
      "metadata": {
        "id": "JGZhIiYeuSCD"
      },
      "source": [
        "### 시각화"
      ]
    },
    {
      "cell_type": "code",
      "metadata": {
        "id": "INJu0-itsT_T",
        "colab": {
          "base_uri": "https://localhost:8080/",
          "height": 507
        },
        "outputId": "acc2b186-ba4a-404f-e5e5-09eaecb3a278"
      },
      "source": [
        "loss = history.history['loss']\n",
        "val_loss = history.history['val_loss']\n",
        "acc = history.history['acc']\n",
        "val_acc = history.history['val_acc']\n",
        "\n",
        "epochs = range(1, len(loss)+1)\n",
        "\n",
        "plt.plot(epochs, loss, 'b--', label='training loss')\n",
        "plt.plot(epochs, val_loss, 'r:', label='validation accuracy')\n",
        "plt.grid()\n",
        "plt.legend()\n",
        "\n",
        "plt.figure()\n",
        "plt.plot(epochs, acc, 'b--', label='training accuracy')\n",
        "plt.plot(epochs, val_acc, 'r:', label='validation accuracy')\n",
        "plt.grid()\n",
        "plt.legend()\n",
        "\n",
        "plt.show()"
      ],
      "execution_count": 23,
      "outputs": [
        {
          "output_type": "display_data",
          "data": {
            "text/plain": [
              "<Figure size 432x288 with 1 Axes>"
            ],
            "image/png": "[encoded data removed]"
          },
          "metadata": {}
        },
        {
          "output_type": "display_data",
          "data": {
            "text/plain": [
              "<Figure size 432x288 with 1 Axes>"
            ],
            "image/png": "[encoded data removed]"
          },
          "metadata": {}
        }
      ]
    },
    {
      "cell_type": "markdown",
      "metadata": {
        "id": "dLZLATDBuTtj"
      },
      "source": [
        "### 모델 평가\n"
      ]
    },
    {
      "cell_type": "code",
      "metadata": {
        "id": "SVxVV-kmsT6D",
        "colab": {
          "base_uri": "https://localhost:8080/"
        },
        "outputId": "4a57a2e4-c4dd-44dc-880a-fdc9a488e8ec"
      },
      "source": [
        "model.evaluate(pad_x_test, y_test)"
      ],
      "execution_count": 24,
      "outputs": [
        {
          "output_type": "stream",
          "name": "stdout",
          "text": [
            "71/71 [==============================] - 2s 21ms/step - loss: 1.7030 - acc: 0.6158\n"
          ]
        },
        {
          "output_type": "execute_result",
          "data": {
            "text/plain": [
              "[1.703048825263977, 0.6157613396644592]"
            ]
          },
          "metadata": {},
          "execution_count": 24
        }
      ]
    },
    {
      "cell_type": "markdown",
      "metadata": {
        "id": "j3afhQOUlqG9"
      },
      "source": [
        "## IMDB 데이터셋 with LSTM"
      ]
    },
    {
      "cell_type": "markdown",
      "metadata": {
        "id": "tZOCK6EQl1QI"
      },
      "source": [
        "### 데이터 로드"
      ]
    },
    {
      "cell_type": "code",
      "metadata": {
        "id": "00ZS9v3YmT_H"
      },
      "source": [
        "from tensorflow.keras.datasets import imdb\n",
        "from tensorflow.keras.preprocessing import sequence"
      ],
      "execution_count": 25,
      "outputs": []
    },
    {
      "cell_type": "code",
      "metadata": {
        "id": "UW-VG35_gwmt",
        "colab": {
          "base_uri": "https://localhost:8080/"
        },
        "outputId": "cc870129-4880-4e9e-af6a-9ab5387b2d32"
      },
      "source": [
        "num_words = 10000\n",
        "max_len = 500\n",
        "batch_size = 32\n",
        "\n",
        "(x_train, y_train), (x_test, y_test) = imdb.load_data(num_words=num_words)\n",
        "print(len(x_train))\n",
        "print(len(x_test))\n",
        "\n",
        "pad_x_train = sequence.pad_sequences(x_train, maxlen=max_len)\n",
        "pad_x_test = sequence.pad_sequences(x_test, maxlen=max_len)\n",
        "print(pad_x_train.shape)\n",
        "print(pad_x_test.shape)"
      ],
      "execution_count": 26,
      "outputs": [
        {
          "output_type": "stream",
          "name": "stdout",
          "text": [
            "25000\n",
            "25000\n",
            "(25000, 500)\n",
            "(25000, 500)\n"
          ]
        }
      ]
    },
    {
      "cell_type": "markdown",
      "metadata": {
        "id": "uo8uhFyBl2k-"
      },
      "source": [
        "### 모델 구성"
      ]
    },
    {
      "cell_type": "code",
      "metadata": {
        "id": "tFkAN2Dzl3GC"
      },
      "source": [
        "from tensorflow.keras.models import Sequential\n",
        "from tensorflow.keras.layers import Dense, LSTM, Embedding"
      ],
      "execution_count": 27,
      "outputs": []
    },
    {
      "cell_type": "code",
      "metadata": {
        "id": "TPr9Ec-El50W",
        "colab": {
          "base_uri": "https://localhost:8080/"
        },
        "outputId": "56845d94-35f5-41e5-d0db-4685c5218050"
      },
      "source": [
        "model = Sequential()\n",
        "\n",
        "model.add(Embedding(num_words, 32))\n",
        "model.add(LSTM(32))\n",
        "model.add(Dense(1, activation='sigmoid'))\n",
        "\n",
        "model.compile(optimizer='rmsprop',\n",
        "              loss='binary_crossentropy',\n",
        "              metrics=['acc'])\n",
        "model.summary()"
      ],
      "execution_count": 28,
      "outputs": [
        {
          "output_type": "stream",
          "name": "stdout",
          "text": [
            "Model: \"sequential_4\"\n",
            "_________________________________________________________________\n",
            " Layer (type)                Output Shape              Param #   \n",
            "=================================================================\n",
            " embedding_4 (Embedding)     (None, None, 32)          320000    \n",
            "                                                                 \n",
            " lstm_2 (LSTM)               (None, 32)                8320      \n",
            "                                                                 \n",
            " dense_2 (Dense)             (None, 1)                 33        \n",
            "                                                                 \n",
            "=================================================================\n",
            "Total params: 328,353\n",
            "Trainable params: 328,353\n",
            "Non-trainable params: 0\n",
            "_________________________________________________________________\n"
          ]
        }
      ]
    },
    {
      "cell_type": "markdown",
      "metadata": {
        "id": "vAPnX6ACmenz"
      },
      "source": [
        "### 모델 학습"
      ]
    },
    {
      "cell_type": "code",
      "metadata": {
        "id": "FGWhqX5GmNeR",
        "colab": {
          "base_uri": "https://localhost:8080/"
        },
        "outputId": "c49e1fe1-52aa-4c87-d545-0cc028a45fa7"
      },
      "source": [
        "history = model.fit(pad_x_train, y_train,\n",
        "                    epochs=10,\n",
        "                    batch_size=128,\n",
        "                    validation_split=0.2)"
      ],
      "execution_count": 29,
      "outputs": [
        {
          "output_type": "stream",
          "name": "stdout",
          "text": [
            "Epoch 1/10\n",
            "157/157 [==============================] - 8s 35ms/step - loss: 0.5120 - acc: 0.7536 - val_loss: 0.4165 - val_acc: 0.8250\n",
            "Epoch 2/10\n",
            "157/157 [==============================] - 5s 32ms/step - loss: 0.2946 - acc: 0.8829 - val_loss: 0.2851 - val_acc: 0.8870\n",
            "Epoch 3/10\n",
            "157/157 [==============================] - 5s 29ms/step - loss: 0.2315 - acc: 0.9142 - val_loss: 0.2804 - val_acc: 0.8890\n",
            "Epoch 4/10\n",
            "157/157 [==============================] - 4s 28ms/step - loss: 0.1971 - acc: 0.9258 - val_loss: 0.6512 - val_acc: 0.7942\n",
            "Epoch 5/10\n",
            "157/157 [==============================] - 5s 32ms/step - loss: 0.1757 - acc: 0.9376 - val_loss: 0.4614 - val_acc: 0.8338\n",
            "Epoch 6/10\n",
            "157/157 [==============================] - 5s 29ms/step - loss: 0.1573 - acc: 0.9445 - val_loss: 0.3170 - val_acc: 0.8860\n",
            "Epoch 7/10\n",
            "157/157 [==============================] - 5s 31ms/step - loss: 0.1396 - acc: 0.9508 - val_loss: 0.4690 - val_acc: 0.8630\n",
            "Epoch 8/10\n",
            "157/157 [==============================] - 4s 27ms/step - loss: 0.1246 - acc: 0.9566 - val_loss: 0.6218 - val_acc: 0.8358\n",
            "Epoch 9/10\n",
            "157/157 [==============================] - 4s 28ms/step - loss: 0.1198 - acc: 0.9575 - val_loss: 0.4026 - val_acc: 0.8646\n",
            "Epoch 10/10\n",
            "157/157 [==============================] - 4s 28ms/step - loss: 0.1035 - acc: 0.9639 - val_loss: 0.3381 - val_acc: 0.8758\n"
          ]
        }
      ]
    },
    {
      "cell_type": "markdown",
      "metadata": {
        "id": "gFiE5SpPmh_x"
      },
      "source": [
        "### 시각화"
      ]
    },
    {
      "cell_type": "code",
      "metadata": {
        "id": "jwQ6ZYHTyXHS",
        "colab": {
          "base_uri": "https://localhost:8080/",
          "height": 507
        },
        "outputId": "87e86ab5-9965-463d-fefd-ecb2c24c0dc4"
      },
      "source": [
        "loss = history.history['loss']\n",
        "val_loss = history.history['val_loss']\n",
        "acc = history.history['acc']\n",
        "val_acc = history.history['val_acc']\n",
        "\n",
        "epochs = range(1, len(loss)+1)\n",
        "\n",
        "plt.plot(epochs, loss, 'b--', label='training loss')\n",
        "plt.plot(epochs, val_loss, 'r:', label='validation accuracy')\n",
        "plt.grid()\n",
        "plt.legend()\n",
        "\n",
        "plt.figure()\n",
        "plt.plot(epochs, acc, 'b--', label='training accuracy')\n",
        "plt.plot(epochs, val_acc, 'r:', label='validation accuracy')\n",
        "plt.grid()\n",
        "plt.legend()\n",
        "\n",
        "plt.show()"
      ],
      "execution_count": 30,
      "outputs": [
        {
          "output_type": "display_data",
          "data": {
            "text/plain": [
              "<Figure size 432x288 with 1 Axes>"
            ],
            "image/png": "[encoded data removed]"
          },
          "metadata": {}
        },
        {
          "output_type": "display_data",
          "data": {
            "text/plain": [
              "<Figure size 432x288 with 1 Axes>"
            ],
            "image/png": "[encoded data removed]"
          },
          "metadata": {}
        }
      ]
    },
    {
      "cell_type": "markdown",
      "metadata": {
        "id": "NiZ6uiUPyXHN"
      },
      "source": [
        "### 모델 평가"
      ]
    },
    {
      "cell_type": "code",
      "metadata": {
        "id": "DZjW6iOV3k-J",
        "colab": {
          "base_uri": "https://localhost:8080/"
        },
        "outputId": "1e5fee44-4058-4df4-ffbd-a2a5e38cb5c6"
      },
      "source": [
        "model.evaluate(pad_x_test, y_test)"
      ],
      "execution_count": 31,
      "outputs": [
        {
          "output_type": "stream",
          "name": "stdout",
          "text": [
            "782/782 [==============================] - 8s 10ms/step - loss: 0.3846 - acc: 0.8657\n"
          ]
        },
        {
          "output_type": "execute_result",
          "data": {
            "text/plain": [
              "[0.38457292318344116, 0.8657199740409851]"
            ]
          },
          "metadata": {},
          "execution_count": 31
        }
      ]
    },
    {
      "cell_type": "markdown",
      "metadata": {
        "id": "FekNEQuJVicJ"
      },
      "source": [
        "# Cosine 함수를 이용한 순환 신경망"
      ]
    },
    {
      "cell_type": "code",
      "metadata": {
        "id": "JfUyJSoHVpUh"
      },
      "source": [
        "import numpy as np"
      ],
      "execution_count": 59,
      "outputs": []
    },
    {
      "cell_type": "code",
      "metadata": {
        "id": "JgE5D6rCVpQO"
      },
      "source": [
        "np.random.seed(111)\n",
        "\n",
        "time = np.arange(30*12+1)\n",
        "month_time = (time%30) / 30\n",
        "time_series = 20 * np.where(month_time < 0.5,\n",
        "                            np.cos(2*np.pi*month_time),\n",
        "                            np.cos(2*np.pi*month_time) + np.random.random(361))"
      ],
      "execution_count": 60,
      "outputs": []
    },
    {
      "cell_type": "code",
      "metadata": {
        "id": "p-_g8LYTVpLx",
        "colab": {
          "base_uri": "https://localhost:8080/",
          "height": 493
        },
        "outputId": "110c676a-2bcf-4b4f-f1d3-5687014d289a"
      },
      "source": [
        "plt.figure(figsize=(15,8))\n",
        "plt.xlabel('Time')\n",
        "plt.ylabel('Value')\n",
        "plt.plot(np.arange(0, 30*11+1),\n",
        "         time_series[:30*11+1],\n",
        "         color='blue', alpha=0.6, label='Train Data')\n",
        "plt.plot(np.arange(30*11, 30*12 +1),\n",
        "         time_series[30*11:],\n",
        "         color='orange',label='Test Data')\n",
        "plt.show()"
      ],
      "execution_count": 61,
      "outputs": [
        {
          "output_type": "display_data",
          "data": {
            "text/plain": [
              "<Figure size 1080x576 with 1 Axes>"
            ],
            "image/png": "[encoded data removed]"
          },
          "metadata": {}
        }
      ]
    },
    {
      "cell_type": "markdown",
      "metadata": {
        "id": "ar_N0gTrZtk9"
      },
      "source": [
        "### 데이터 전처리"
      ]
    },
    {
      "cell_type": "code",
      "metadata": {
        "id": "z-0JrfZoVpFj"
      },
      "source": [
        "def make_data(time_series, n):\n",
        "  x_train_full, y_train_full = list(), list()\n",
        "\n",
        "  for i in range(len(time_series)):\n",
        "    x = time_series[i:(i+n)]\n",
        "    if (i+n) < len(time_series):\n",
        "      x_train_full.append(x)\n",
        "      y_train_full.append(time_series[i+n])\n",
        "    else:\n",
        "      break\n",
        "  \n",
        "  x_train_full, y_train_full = np.array(x_train_full), np.array(y_train_full)\n",
        "\n",
        "  return x_train_full, y_train_full"
      ],
      "execution_count": 62,
      "outputs": []
    },
    {
      "cell_type": "code",
      "metadata": {
        "id": "qkdd7YkAbnVG"
      },
      "source": [
        "n = 10\n",
        "x_train_full, y_train_full = make_data(time_series, n)"
      ],
      "execution_count": 63,
      "outputs": []
    },
    {
      "cell_type": "code",
      "metadata": {
        "id": "rwcXpeF9VpBQ",
        "colab": {
          "base_uri": "https://localhost:8080/"
        },
        "outputId": "7fe1405f-770d-46e4-e115-8905f77be431"
      },
      "source": [
        "print(x_train_full.shape)\n",
        "print(y_train_full.shape)"
      ],
      "execution_count": 64,
      "outputs": [
        {
          "output_type": "stream",
          "name": "stdout",
          "text": [
            "(351, 10)\n",
            "(351,)\n"
          ]
        }
      ]
    },
    {
      "cell_type": "code",
      "metadata": {
        "id": "4-KvUJs1Vo9d"
      },
      "source": [
        "x_train_full = x_train_full.reshape(-1, n, 1)\n",
        "y_train_full = y_train_full.reshape(-1, 1)"
      ],
      "execution_count": 65,
      "outputs": []
    },
    {
      "cell_type": "code",
      "metadata": {
        "id": "G_kes8afVo54",
        "colab": {
          "base_uri": "https://localhost:8080/"
        },
        "outputId": "f1e77b29-0e77-4b2b-8508-5d761ce5241c"
      },
      "source": [
        "print(x_train_full.shape)\n",
        "print(y_train_full.shape)"
      ],
      "execution_count": 66,
      "outputs": [
        {
          "output_type": "stream",
          "name": "stdout",
          "text": [
            "(351, 10, 1)\n",
            "(351, 1)\n"
          ]
        }
      ]
    },
    {
      "cell_type": "markdown",
      "metadata": {
        "id": "_e8ZgkRZak5V"
      },
      "source": [
        "## 테스트 데이터셋 생성"
      ]
    },
    {
      "cell_type": "code",
      "metadata": {
        "id": "WUHKyXaPVo2G"
      },
      "source": [
        "x_train = x_train_full[:30*11]\n",
        "y_train = y_train_full[:30*11]\n",
        "\n",
        "x_test = x_train_full[30*11:]\n",
        "y_test = y_train_full[30*11:]"
      ],
      "execution_count": 67,
      "outputs": []
    },
    {
      "cell_type": "code",
      "metadata": {
        "id": "xe2CYFcXVoxu",
        "colab": {
          "base_uri": "https://localhost:8080/"
        },
        "outputId": "debac022-8989-4a34-ccd5-9b77e55c0301"
      },
      "source": [
        "print(x_train.shape, y_train.shape)\n",
        "print(x_test.shape, y_test.shape)"
      ],
      "execution_count": 68,
      "outputs": [
        {
          "output_type": "stream",
          "name": "stdout",
          "text": [
            "(330, 10, 1) (330, 1)\n",
            "(21, 10, 1) (21, 1)\n"
          ]
        }
      ]
    },
    {
      "cell_type": "markdown",
      "metadata": {
        "id": "2gvgVvkEbRsq"
      },
      "source": [
        "## 데이터 확인"
      ]
    },
    {
      "cell_type": "code",
      "metadata": {
        "id": "uJuKu5bvVosF",
        "colab": {
          "base_uri": "https://localhost:8080/"
        },
        "outputId": "10283d18-0e71-424e-b7fd-69d30ed10ef5"
      },
      "source": [
        "sample_series = np.arange(100)\n",
        "a, b = make_data(sample_series, 10)\n",
        "\n",
        "print(a[0])\n",
        "print(b[0])"
      ],
      "execution_count": 69,
      "outputs": [
        {
          "output_type": "stream",
          "name": "stdout",
          "text": [
            "[0 1 2 3 4 5 6 7 8 9]\n",
            "10\n"
          ]
        }
      ]
    },
    {
      "cell_type": "markdown",
      "metadata": {
        "id": "5ZzsxLa-b9fq"
      },
      "source": [
        "## 모델 구성"
      ]
    },
    {
      "cell_type": "code",
      "metadata": {
        "id": "AbvWl9pGVooV"
      },
      "source": [
        "from tensorflow.keras.layers import SimpleRNN, Flatten, Dense\n",
        "from tensorflow.keras.models import Sequential"
      ],
      "execution_count": 70,
      "outputs": []
    },
    {
      "cell_type": "code",
      "metadata": {
        "id": "dwT7KGJTVokn"
      },
      "source": [
        "def build_model(n):\n",
        "  model = Sequential()\n",
        "\n",
        "  model.add(SimpleRNN(units=32, activation='tanh', input_shape=(n,1)))\n",
        "  model.add(Dense(1))\n",
        "\n",
        "  model.compile(optimizer='adam', loss='mse')\n",
        "\n",
        "  return model"
      ],
      "execution_count": 71,
      "outputs": []
    },
    {
      "cell_type": "code",
      "metadata": {
        "id": "TYmQpmusVogh",
        "colab": {
          "base_uri": "https://localhost:8080/"
        },
        "outputId": "b7b08a0e-0165-4187-e27b-c67726c29ad9"
      },
      "source": [
        "model = build_model(10)\n",
        "model.summary()"
      ],
      "execution_count": 72,
      "outputs": [
        {
          "output_type": "stream",
          "name": "stdout",
          "text": [
            "Model: \"sequential_8\"\n",
            "_________________________________________________________________\n",
            " Layer (type)                Output Shape              Param #   \n",
            "=================================================================\n",
            " simple_rnn_7 (SimpleRNN)    (None, 32)                1088      \n",
            "                                                                 \n",
            " dense_6 (Dense)             (None, 1)                 33        \n",
            "                                                                 \n",
            "=================================================================\n",
            "Total params: 1,121\n",
            "Trainable params: 1,121\n",
            "Non-trainable params: 0\n",
            "_________________________________________________________________\n"
          ]
        }
      ]
    },
    {
      "cell_type": "markdown",
      "metadata": {
        "id": "pvVl7a-wc8fx"
      },
      "source": [
        "## 모델 학습"
      ]
    },
    {
      "cell_type": "code",
      "metadata": {
        "id": "OCb5Php2VocQ",
        "colab": {
          "base_uri": "https://localhost:8080/"
        },
        "outputId": "6d463cc6-4a94-447a-85c3-476004d96305"
      },
      "source": [
        "model.fit(x_train, y_train,\n",
        "          epochs=100, batch_size=12)"
      ],
      "execution_count": 73,
      "outputs": [
        {
          "output_type": "stream",
          "name": "stdout",
          "text": [
            "Epoch 1/100\n",
            "28/28 [==============================] - 1s 9ms/step - loss: 220.6455\n",
            "Epoch 2/100\n",
            "28/28 [==============================] - 0s 10ms/step - loss: 178.1934\n",
            "Epoch 3/100\n",
            "28/28 [==============================] - 0s 9ms/step - loss: 153.3687\n",
            "Epoch 4/100\n",
            "28/28 [==============================] - 0s 10ms/step - loss: 137.6438\n",
            "Epoch 5/100\n",
            "28/28 [==============================] - 0s 9ms/step - loss: 124.9840\n",
            "Epoch 6/100\n",
            "28/28 [==============================] - 0s 9ms/step - loss: 112.9028\n",
            "Epoch 7/100\n",
            "28/28 [==============================] - 0s 10ms/step - loss: 99.7557\n",
            "Epoch 8/100\n",
            "28/28 [==============================] - 0s 11ms/step - loss: 90.6304\n",
            "Epoch 9/100\n",
            "28/28 [==============================] - 0s 10ms/step - loss: 84.1638\n",
            "Epoch 10/100\n",
            "28/28 [==============================] - 0s 9ms/step - loss: 78.8387\n",
            "Epoch 11/100\n",
            "28/28 [==============================] - 0s 9ms/step - loss: 74.0768\n",
            "Epoch 12/100\n",
            "28/28 [==============================] - 0s 9ms/step - loss: 70.1497\n",
            "Epoch 13/100\n",
            "28/28 [==============================] - 0s 10ms/step - loss: 66.6401\n",
            "Epoch 14/100\n",
            "28/28 [==============================] - 0s 10ms/step - loss: 63.2180\n",
            "Epoch 15/100\n",
            "28/28 [==============================] - 0s 10ms/step - loss: 60.1304\n",
            "Epoch 16/100\n",
            "28/28 [==============================] - 0s 11ms/step - loss: 57.3965\n",
            "Epoch 17/100\n",
            "28/28 [==============================] - 0s 9ms/step - loss: 55.0322\n",
            "Epoch 18/100\n",
            "28/28 [==============================] - 0s 9ms/step - loss: 52.7441\n",
            "Epoch 19/100\n",
            "28/28 [==============================] - 0s 10ms/step - loss: 50.2898\n",
            "Epoch 20/100\n",
            "28/28 [==============================] - 0s 9ms/step - loss: 48.4003\n",
            "Epoch 21/100\n",
            "28/28 [==============================] - 0s 9ms/step - loss: 46.3699\n",
            "Epoch 22/100\n",
            "28/28 [==============================] - 0s 10ms/step - loss: 44.6071\n",
            "Epoch 23/100\n",
            "28/28 [==============================] - 0s 9ms/step - loss: 42.4522\n",
            "Epoch 24/100\n",
            "28/28 [==============================] - 0s 9ms/step - loss: 40.7470\n",
            "Epoch 25/100\n",
            "28/28 [==============================] - 0s 9ms/step - loss: 39.1727\n",
            "Epoch 26/100\n",
            "28/28 [==============================] - 0s 10ms/step - loss: 37.7882\n",
            "Epoch 27/100\n",
            "28/28 [==============================] - 0s 9ms/step - loss: 36.6020\n",
            "Epoch 28/100\n",
            "28/28 [==============================] - 0s 9ms/step - loss: 35.7432\n",
            "Epoch 29/100\n",
            "28/28 [==============================] - 0s 9ms/step - loss: 34.8120\n",
            "Epoch 30/100\n",
            "28/28 [==============================] - 0s 10ms/step - loss: 33.2156\n",
            "Epoch 31/100\n",
            "28/28 [==============================] - 0s 9ms/step - loss: 32.4952\n",
            "Epoch 32/100\n",
            "28/28 [==============================] - 0s 9ms/step - loss: 31.6479\n",
            "Epoch 33/100\n",
            "28/28 [==============================] - 0s 9ms/step - loss: 30.7743\n",
            "Epoch 34/100\n",
            "28/28 [==============================] - 0s 9ms/step - loss: 29.8559\n",
            "Epoch 35/100\n",
            "28/28 [==============================] - 0s 10ms/step - loss: 28.8418\n",
            "Epoch 36/100\n",
            "28/28 [==============================] - 0s 9ms/step - loss: 28.2810\n",
            "Epoch 37/100\n",
            "28/28 [==============================] - 0s 10ms/step - loss: 27.4714\n",
            "Epoch 38/100\n",
            "28/28 [==============================] - 0s 10ms/step - loss: 26.9317\n",
            "Epoch 39/100\n",
            "28/28 [==============================] - 0s 11ms/step - loss: 26.2689\n",
            "Epoch 40/100\n",
            "28/28 [==============================] - 0s 9ms/step - loss: 25.6347\n",
            "Epoch 41/100\n",
            "28/28 [==============================] - 0s 10ms/step - loss: 25.0695\n",
            "Epoch 42/100\n",
            "28/28 [==============================] - 0s 10ms/step - loss: 24.3985\n",
            "Epoch 43/100\n",
            "28/28 [==============================] - 0s 10ms/step - loss: 23.9091\n",
            "Epoch 44/100\n",
            "28/28 [==============================] - 0s 10ms/step - loss: 23.6985\n",
            "Epoch 45/100\n",
            "28/28 [==============================] - 0s 10ms/step - loss: 23.4889\n",
            "Epoch 46/100\n",
            "28/28 [==============================] - 0s 10ms/step - loss: 23.4322\n",
            "Epoch 47/100\n",
            "28/28 [==============================] - 0s 9ms/step - loss: 22.8869\n",
            "Epoch 48/100\n",
            "28/28 [==============================] - 0s 11ms/step - loss: 22.4371\n",
            "Epoch 49/100\n",
            "28/28 [==============================] - 0s 9ms/step - loss: 21.8653\n",
            "Epoch 50/100\n",
            "28/28 [==============================] - 0s 10ms/step - loss: 21.8118\n",
            "Epoch 51/100\n",
            "28/28 [==============================] - 0s 9ms/step - loss: 21.3773\n",
            "Epoch 52/100\n",
            "28/28 [==============================] - 0s 10ms/step - loss: 21.1569\n",
            "Epoch 53/100\n",
            "28/28 [==============================] - 0s 10ms/step - loss: 21.1308\n",
            "Epoch 54/100\n",
            "28/28 [==============================] - 0s 10ms/step - loss: 20.8285\n",
            "Epoch 55/100\n",
            "28/28 [==============================] - 0s 11ms/step - loss: 20.8564\n",
            "Epoch 56/100\n",
            "28/28 [==============================] - 0s 9ms/step - loss: 20.4844\n",
            "Epoch 57/100\n",
            "28/28 [==============================] - 0s 10ms/step - loss: 20.2125\n",
            "Epoch 58/100\n",
            "28/28 [==============================] - 0s 9ms/step - loss: 19.9114\n",
            "Epoch 59/100\n",
            "28/28 [==============================] - 0s 11ms/step - loss: 20.0504\n",
            "Epoch 60/100\n",
            "28/28 [==============================] - 0s 10ms/step - loss: 20.5219\n",
            "Epoch 61/100\n",
            "28/28 [==============================] - 0s 9ms/step - loss: 19.6918\n",
            "Epoch 62/100\n",
            "28/28 [==============================] - 0s 9ms/step - loss: 19.5246\n",
            "Epoch 63/100\n",
            "28/28 [==============================] - 0s 9ms/step - loss: 18.9236\n",
            "Epoch 64/100\n",
            "28/28 [==============================] - 0s 10ms/step - loss: 18.8428\n",
            "Epoch 65/100\n",
            "28/28 [==============================] - 0s 9ms/step - loss: 18.8243\n",
            "Epoch 66/100\n",
            "28/28 [==============================] - 0s 9ms/step - loss: 18.7600\n",
            "Epoch 67/100\n",
            "28/28 [==============================] - 0s 9ms/step - loss: 18.6946\n",
            "Epoch 68/100\n",
            "28/28 [==============================] - 0s 9ms/step - loss: 18.4430\n",
            "Epoch 69/100\n",
            "28/28 [==============================] - 0s 9ms/step - loss: 18.3725\n",
            "Epoch 70/100\n",
            "28/28 [==============================] - 0s 9ms/step - loss: 17.9826\n",
            "Epoch 71/100\n",
            "28/28 [==============================] - 0s 9ms/step - loss: 17.9520\n",
            "Epoch 72/100\n",
            "28/28 [==============================] - 0s 9ms/step - loss: 17.6758\n",
            "Epoch 73/100\n",
            "28/28 [==============================] - 0s 9ms/step - loss: 17.4462\n",
            "Epoch 74/100\n",
            "28/28 [==============================] - 0s 10ms/step - loss: 17.4060\n",
            "Epoch 75/100\n",
            "28/28 [==============================] - 0s 10ms/step - loss: 17.1364\n",
            "Epoch 76/100\n",
            "28/28 [==============================] - 0s 9ms/step - loss: 17.0613\n",
            "Epoch 77/100\n",
            "28/28 [==============================] - 0s 9ms/step - loss: 17.0873\n",
            "Epoch 78/100\n",
            "28/28 [==============================] - 0s 11ms/step - loss: 16.8901\n",
            "Epoch 79/100\n",
            "28/28 [==============================] - 0s 11ms/step - loss: 17.2611\n",
            "Epoch 80/100\n",
            "28/28 [==============================] - 0s 10ms/step - loss: 16.8708\n",
            "Epoch 81/100\n",
            "28/28 [==============================] - 0s 9ms/step - loss: 16.6406\n",
            "Epoch 82/100\n",
            "28/28 [==============================] - 0s 10ms/step - loss: 16.3449\n",
            "Epoch 83/100\n",
            "28/28 [==============================] - 0s 9ms/step - loss: 16.1906\n",
            "Epoch 84/100\n",
            "28/28 [==============================] - 0s 9ms/step - loss: 16.5378\n",
            "Epoch 85/100\n",
            "28/28 [==============================] - 0s 11ms/step - loss: 16.4554\n",
            "Epoch 86/100\n",
            "28/28 [==============================] - 0s 9ms/step - loss: 15.9389\n",
            "Epoch 87/100\n",
            "28/28 [==============================] - 0s 9ms/step - loss: 16.1097\n",
            "Epoch 88/100\n",
            "28/28 [==============================] - 0s 9ms/step - loss: 15.8498\n",
            "Epoch 89/100\n",
            "28/28 [==============================] - 0s 11ms/step - loss: 15.7966\n",
            "Epoch 90/100\n",
            "28/28 [==============================] - 0s 9ms/step - loss: 15.7652\n",
            "Epoch 91/100\n",
            "28/28 [==============================] - 0s 10ms/step - loss: 15.7011\n",
            "Epoch 92/100\n",
            "28/28 [==============================] - 0s 11ms/step - loss: 15.8351\n",
            "Epoch 93/100\n",
            "28/28 [==============================] - 0s 10ms/step - loss: 15.3119\n",
            "Epoch 94/100\n",
            "28/28 [==============================] - 0s 9ms/step - loss: 15.3411\n",
            "Epoch 95/100\n",
            "28/28 [==============================] - 0s 9ms/step - loss: 15.4630\n",
            "Epoch 96/100\n",
            "28/28 [==============================] - 0s 10ms/step - loss: 15.2579\n",
            "Epoch 97/100\n",
            "28/28 [==============================] - 0s 9ms/step - loss: 15.2229\n",
            "Epoch 98/100\n",
            "28/28 [==============================] - 0s 10ms/step - loss: 15.2224\n",
            "Epoch 99/100\n",
            "28/28 [==============================] - 0s 9ms/step - loss: 14.7244\n",
            "Epoch 100/100\n",
            "28/28 [==============================] - 0s 10ms/step - loss: 14.7748\n"
          ]
        },
        {
          "output_type": "execute_result",
          "data": {
            "text/plain": [
              "<keras.callbacks.History at 0x7fd3deb7dc10>"
            ]
          },
          "metadata": {},
          "execution_count": 73
        }
      ]
    },
    {
      "cell_type": "markdown",
      "metadata": {
        "id": "CBWO8NqAdzRZ"
      },
      "source": [
        "## 예측값 그려보기"
      ]
    },
    {
      "cell_type": "code",
      "metadata": {
        "id": "80XSEaQ8dxOk",
        "colab": {
          "base_uri": "https://localhost:8080/",
          "height": 348
        },
        "outputId": "afb6664f-d85f-427c-81f9-9c67fc4d7752"
      },
      "source": [
        "prediction = model.predict(x_test)\n",
        "\n",
        "pred_range = np.arange(len(y_train), len(y_train)+ len(prediction))\n",
        "\n",
        "plt.figure(figsize=(12,5))\n",
        "plt.xlabel('Time')\n",
        "plt.ylabel('Value')\n",
        "plt.plot(pred_range, y_test.flatten(), color='orange', label='Ground Truth')\n",
        "plt.plot(pred_range, prediction.flatten(), color='blue', label='Ground Truth')"
      ],
      "execution_count": 84,
      "outputs": [
        {
          "output_type": "execute_result",
          "data": {
            "text/plain": [
              "[<matplotlib.lines.Line2D at 0x7fd3dc263090>]"
            ]
          },
          "metadata": {},
          "execution_count": 84
        },
        {
          "output_type": "display_data",
          "data": {
            "text/plain": [
              "<Figure size 864x360 with 1 Axes>"
            ],
            "image/png": "[encoded data removed]"
          },
          "metadata": {}
        }
      ]
    },
    {
      "cell_type": "markdown",
      "metadata": {
        "id": "KqWPWvHWelCp"
      },
      "source": [
        "## 모델 재구성 (2)\n",
        "- LSTM 사용"
      ]
    },
    {
      "cell_type": "code",
      "metadata": {
        "id": "gRdRAH5Hew6s"
      },
      "source": [
        "from tensorflow.keras.layers import LSTM"
      ],
      "execution_count": 75,
      "outputs": []
    },
    {
      "cell_type": "code",
      "metadata": {
        "id": "wFk0_R10eqGu"
      },
      "source": [
        "def build_model2(n):\n",
        "  model = Sequential()\n",
        "\n",
        "  model.add(LSTM(units=64, return_sequences=True, input_shape=(n, 1)))\n",
        "  model.add(LSTM(32))\n",
        "  model.add(Dense(1))\n",
        "\n",
        "  model.compile(optimizer='adam',\n",
        "                loss='mse')\n",
        "  \n",
        "  return model"
      ],
      "execution_count": 76,
      "outputs": []
    },
    {
      "cell_type": "code",
      "metadata": {
        "id": "MH6nCyR0eqBl",
        "colab": {
          "base_uri": "https://localhost:8080/"
        },
        "outputId": "b15a72d3-8eb1-4925-b693-617a82e19a5b"
      },
      "source": [
        "model_2 = build_model2(10)\n",
        "model_2.summary()\n",
        "model_2 = build_model2(10)"
      ],
      "execution_count": 77,
      "outputs": [
        {
          "output_type": "stream",
          "name": "stdout",
          "text": [
            "Model: \"sequential_9\"\n",
            "_________________________________________________________________\n",
            " Layer (type)                Output Shape              Param #   \n",
            "=================================================================\n",
            " lstm_3 (LSTM)               (None, 10, 64)            16896     \n",
            "                                                                 \n",
            " lstm_4 (LSTM)               (None, 32)                12416     \n",
            "                                                                 \n",
            " dense_7 (Dense)             (None, 1)                 33        \n",
            "                                                                 \n",
            "=================================================================\n",
            "Total params: 29,345\n",
            "Trainable params: 29,345\n",
            "Non-trainable params: 0\n",
            "_________________________________________________________________\n"
          ]
        }
      ]
    },
    {
      "cell_type": "markdown",
      "metadata": {
        "id": "te5tAar7fUIK"
      },
      "source": [
        "## 모델 재학습 및 예측값 그려보기"
      ]
    },
    {
      "cell_type": "code",
      "metadata": {
        "id": "qDAPz1QJep9D",
        "colab": {
          "base_uri": "https://localhost:8080/"
        },
        "outputId": "4e009587-ef0b-4a88-b74f-3dd722edfc28"
      },
      "source": [
        "model_2.fit(x_train, y_train,\n",
        "            epochs=100, batch_size=12)"
      ],
      "execution_count": 78,
      "outputs": [
        {
          "output_type": "stream",
          "name": "stdout",
          "text": [
            "Epoch 1/100\n",
            "28/28 [==============================] - 3s 5ms/step - loss: 214.3100\n",
            "Epoch 2/100\n",
            "28/28 [==============================] - 0s 5ms/step - loss: 151.8663\n",
            "Epoch 3/100\n",
            "28/28 [==============================] - 0s 5ms/step - loss: 109.1654\n",
            "Epoch 4/100\n",
            "28/28 [==============================] - 0s 5ms/step - loss: 82.9984\n",
            "Epoch 5/100\n",
            "28/28 [==============================] - 0s 5ms/step - loss: 69.0195\n",
            "Epoch 6/100\n",
            "28/28 [==============================] - 0s 5ms/step - loss: 58.1899\n",
            "Epoch 7/100\n",
            "28/28 [==============================] - 0s 5ms/step - loss: 51.0170\n",
            "Epoch 8/100\n",
            "28/28 [==============================] - 0s 5ms/step - loss: 45.8280\n",
            "Epoch 9/100\n",
            "28/28 [==============================] - 0s 5ms/step - loss: 42.1900\n",
            "Epoch 10/100\n",
            "28/28 [==============================] - 0s 5ms/step - loss: 39.0984\n",
            "Epoch 11/100\n",
            "28/28 [==============================] - 0s 6ms/step - loss: 36.9964\n",
            "Epoch 12/100\n",
            "28/28 [==============================] - 0s 5ms/step - loss: 35.5166\n",
            "Epoch 13/100\n",
            "28/28 [==============================] - 0s 5ms/step - loss: 33.7560\n",
            "Epoch 14/100\n",
            "28/28 [==============================] - 0s 5ms/step - loss: 32.1225\n",
            "Epoch 15/100\n",
            "28/28 [==============================] - 0s 6ms/step - loss: 30.6664\n",
            "Epoch 16/100\n",
            "28/28 [==============================] - 0s 5ms/step - loss: 30.1950\n",
            "Epoch 17/100\n",
            "28/28 [==============================] - 0s 5ms/step - loss: 29.5705\n",
            "Epoch 18/100\n",
            "28/28 [==============================] - 0s 5ms/step - loss: 27.8853\n",
            "Epoch 19/100\n",
            "28/28 [==============================] - 0s 5ms/step - loss: 27.0885\n",
            "Epoch 20/100\n",
            "28/28 [==============================] - 0s 5ms/step - loss: 26.3385\n",
            "Epoch 21/100\n",
            "28/28 [==============================] - 0s 5ms/step - loss: 26.7821\n",
            "Epoch 22/100\n",
            "28/28 [==============================] - 0s 6ms/step - loss: 25.2281\n",
            "Epoch 23/100\n",
            "28/28 [==============================] - 0s 7ms/step - loss: 24.7454\n",
            "Epoch 24/100\n",
            "28/28 [==============================] - 0s 5ms/step - loss: 24.5893\n",
            "Epoch 25/100\n",
            "28/28 [==============================] - 0s 6ms/step - loss: 23.7354\n",
            "Epoch 26/100\n",
            "28/28 [==============================] - 0s 6ms/step - loss: 22.7490\n",
            "Epoch 27/100\n",
            "28/28 [==============================] - 0s 6ms/step - loss: 23.6904\n",
            "Epoch 28/100\n",
            "28/28 [==============================] - 0s 6ms/step - loss: 21.9717\n",
            "Epoch 29/100\n",
            "28/28 [==============================] - 0s 7ms/step - loss: 21.8060\n",
            "Epoch 30/100\n",
            "28/28 [==============================] - 0s 10ms/step - loss: 21.0067\n",
            "Epoch 31/100\n",
            "28/28 [==============================] - 0s 5ms/step - loss: 20.5836\n",
            "Epoch 32/100\n",
            "28/28 [==============================] - 0s 7ms/step - loss: 20.3340\n",
            "Epoch 33/100\n",
            "28/28 [==============================] - 0s 7ms/step - loss: 19.5568\n",
            "Epoch 34/100\n",
            "28/28 [==============================] - 0s 5ms/step - loss: 19.5467\n",
            "Epoch 35/100\n",
            "28/28 [==============================] - 0s 7ms/step - loss: 19.8179\n",
            "Epoch 36/100\n",
            "28/28 [==============================] - 0s 5ms/step - loss: 18.6229\n",
            "Epoch 37/100\n",
            "28/28 [==============================] - 0s 8ms/step - loss: 18.8804\n",
            "Epoch 38/100\n",
            "28/28 [==============================] - 0s 9ms/step - loss: 18.2037\n",
            "Epoch 39/100\n",
            "28/28 [==============================] - 0s 7ms/step - loss: 18.2619\n",
            "Epoch 40/100\n",
            "28/28 [==============================] - 0s 9ms/step - loss: 17.2775\n",
            "Epoch 41/100\n",
            "28/28 [==============================] - 0s 12ms/step - loss: 17.4949\n",
            "Epoch 42/100\n",
            "28/28 [==============================] - 0s 6ms/step - loss: 17.0676\n",
            "Epoch 43/100\n",
            "28/28 [==============================] - 0s 5ms/step - loss: 19.3525\n",
            "Epoch 44/100\n",
            "28/28 [==============================] - 0s 5ms/step - loss: 17.2487\n",
            "Epoch 45/100\n",
            "28/28 [==============================] - 0s 5ms/step - loss: 17.6300\n",
            "Epoch 46/100\n",
            "28/28 [==============================] - 0s 6ms/step - loss: 17.1190\n",
            "Epoch 47/100\n",
            "28/28 [==============================] - 0s 5ms/step - loss: 17.0399\n",
            "Epoch 48/100\n",
            "28/28 [==============================] - 0s 5ms/step - loss: 16.0016\n",
            "Epoch 49/100\n",
            "28/28 [==============================] - 0s 5ms/step - loss: 16.8465\n",
            "Epoch 50/100\n",
            "28/28 [==============================] - 0s 5ms/step - loss: 15.9015\n",
            "Epoch 51/100\n",
            "28/28 [==============================] - 0s 5ms/step - loss: 15.2787\n",
            "Epoch 52/100\n",
            "28/28 [==============================] - 0s 6ms/step - loss: 15.9961\n",
            "Epoch 53/100\n",
            "28/28 [==============================] - 0s 6ms/step - loss: 16.2000\n",
            "Epoch 54/100\n",
            "28/28 [==============================] - 0s 5ms/step - loss: 15.7988\n",
            "Epoch 55/100\n",
            "28/28 [==============================] - 0s 6ms/step - loss: 15.0825\n",
            "Epoch 56/100\n",
            "28/28 [==============================] - 0s 5ms/step - loss: 14.9955\n",
            "Epoch 57/100\n",
            "28/28 [==============================] - 0s 5ms/step - loss: 14.6765\n",
            "Epoch 58/100\n",
            "28/28 [==============================] - 0s 6ms/step - loss: 15.4532\n",
            "Epoch 59/100\n",
            "28/28 [==============================] - 0s 5ms/step - loss: 14.6550\n",
            "Epoch 60/100\n",
            "28/28 [==============================] - 0s 5ms/step - loss: 15.5336\n",
            "Epoch 61/100\n",
            "28/28 [==============================] - 0s 6ms/step - loss: 15.3288\n",
            "Epoch 62/100\n",
            "28/28 [==============================] - 0s 5ms/step - loss: 14.9495\n",
            "Epoch 63/100\n",
            "28/28 [==============================] - 0s 6ms/step - loss: 15.5284\n",
            "Epoch 64/100\n",
            "28/28 [==============================] - 0s 5ms/step - loss: 14.3332\n",
            "Epoch 65/100\n",
            "28/28 [==============================] - 0s 6ms/step - loss: 14.1510\n",
            "Epoch 66/100\n",
            "28/28 [==============================] - 0s 6ms/step - loss: 13.9799\n",
            "Epoch 67/100\n",
            "28/28 [==============================] - 0s 6ms/step - loss: 14.4208\n",
            "Epoch 68/100\n",
            "28/28 [==============================] - 0s 5ms/step - loss: 14.0192\n",
            "Epoch 69/100\n",
            "28/28 [==============================] - 0s 5ms/step - loss: 13.3695\n",
            "Epoch 70/100\n",
            "28/28 [==============================] - 0s 5ms/step - loss: 13.3511\n",
            "Epoch 71/100\n",
            "28/28 [==============================] - 0s 5ms/step - loss: 13.2649\n",
            "Epoch 72/100\n",
            "28/28 [==============================] - 0s 6ms/step - loss: 13.7183\n",
            "Epoch 73/100\n",
            "28/28 [==============================] - 0s 6ms/step - loss: 13.2502\n",
            "Epoch 74/100\n",
            "28/28 [==============================] - 0s 6ms/step - loss: 13.0566\n",
            "Epoch 75/100\n",
            "28/28 [==============================] - 0s 7ms/step - loss: 13.3542\n",
            "Epoch 76/100\n",
            "28/28 [==============================] - 0s 6ms/step - loss: 13.0265\n",
            "Epoch 77/100\n",
            "28/28 [==============================] - 0s 5ms/step - loss: 13.1953\n",
            "Epoch 78/100\n",
            "28/28 [==============================] - 0s 6ms/step - loss: 13.2283\n",
            "Epoch 79/100\n",
            "28/28 [==============================] - 0s 5ms/step - loss: 14.0044\n",
            "Epoch 80/100\n",
            "28/28 [==============================] - 0s 5ms/step - loss: 12.7222\n",
            "Epoch 81/100\n",
            "28/28 [==============================] - 0s 5ms/step - loss: 13.1695\n",
            "Epoch 82/100\n",
            "28/28 [==============================] - 0s 6ms/step - loss: 12.8947\n",
            "Epoch 83/100\n",
            "28/28 [==============================] - 0s 5ms/step - loss: 12.5967\n",
            "Epoch 84/100\n",
            "28/28 [==============================] - 0s 5ms/step - loss: 12.5934\n",
            "Epoch 85/100\n",
            "28/28 [==============================] - 0s 5ms/step - loss: 11.8312\n",
            "Epoch 86/100\n",
            "28/28 [==============================] - 0s 5ms/step - loss: 11.7512\n",
            "Epoch 87/100\n",
            "28/28 [==============================] - 0s 5ms/step - loss: 11.4560\n",
            "Epoch 88/100\n",
            "28/28 [==============================] - 0s 5ms/step - loss: 11.5083\n",
            "Epoch 89/100\n",
            "28/28 [==============================] - 0s 5ms/step - loss: 11.4934\n",
            "Epoch 90/100\n",
            "28/28 [==============================] - 0s 5ms/step - loss: 12.0146\n",
            "Epoch 91/100\n",
            "28/28 [==============================] - 0s 6ms/step - loss: 11.8870\n",
            "Epoch 92/100\n",
            "28/28 [==============================] - 0s 5ms/step - loss: 11.2810\n",
            "Epoch 93/100\n",
            "28/28 [==============================] - 0s 5ms/step - loss: 11.4324\n",
            "Epoch 94/100\n",
            "28/28 [==============================] - 0s 5ms/step - loss: 11.2230\n",
            "Epoch 95/100\n",
            "28/28 [==============================] - 0s 5ms/step - loss: 10.9755\n",
            "Epoch 96/100\n",
            "28/28 [==============================] - 0s 5ms/step - loss: 11.1086\n",
            "Epoch 97/100\n",
            "28/28 [==============================] - 0s 5ms/step - loss: 11.0626\n",
            "Epoch 98/100\n",
            "28/28 [==============================] - 0s 5ms/step - loss: 10.5483\n",
            "Epoch 99/100\n",
            "28/28 [==============================] - 0s 5ms/step - loss: 10.7101\n",
            "Epoch 100/100\n",
            "28/28 [==============================] - 0s 6ms/step - loss: 10.4073\n"
          ]
        },
        {
          "output_type": "execute_result",
          "data": {
            "text/plain": [
              "<keras.callbacks.History at 0x7fd3dc6ed310>"
            ]
          },
          "metadata": {},
          "execution_count": 78
        }
      ]
    },
    {
      "cell_type": "code",
      "metadata": {
        "id": "a2PO8mlRep4i",
        "colab": {
          "base_uri": "https://localhost:8080/",
          "height": 330
        },
        "outputId": "07c7cfec-3600-48f5-aec5-77f095578b5f"
      },
      "source": [
        "prediction_2 = model_2.predict(x_test)\n",
        "\n",
        "pred_range = np.arange(len(y_train), len(y_train)+ len(prediction))\n",
        "\n",
        "plt.figure(figsize=(12,5))\n",
        "plt.xlabel('Time')\n",
        "plt.ylabel('Value')\n",
        "plt.plot(pred_range, y_test.flatten(), color='orange', label='Ground Truth')\n",
        "plt.plot(pred_range, prediction.flatten(), color='red', label='Ground Truth')\n",
        "plt.plot(pred_range, prediction_2.flatten(), color='blue', label='Ground Truth')\n",
        "plt.legend()\n",
        "plt.show()\n"
      ],
      "execution_count": 85,
      "outputs": [
        {
          "output_type": "display_data",
          "data": {
            "text/plain": [
              "<Figure size 864x360 with 1 Axes>"
            ],
            "image/png": "[encoded data removed]"
          },
          "metadata": {}
        }
      ]
    },
    {
      "cell_type": "markdown",
      "metadata": {
        "id": "a52Hf5A8gBY1"
      },
      "source": [
        "## 모델 재구성(3)\n",
        "- GRU 사용\n",
        "  - LSTM 보다 더 쉬운 구조"
      ]
    },
    {
      "cell_type": "code",
      "metadata": {
        "id": "mjJvMhvegFWa"
      },
      "source": [
        "from tensorflow.keras.layers import GRU"
      ],
      "execution_count": 80,
      "outputs": []
    },
    {
      "cell_type": "code",
      "metadata": {
        "id": "elzfgn1ngFR7",
        "colab": {
          "base_uri": "https://localhost:8080/"
        },
        "outputId": "14ce4016-000b-4148-dd2f-7226678981cd"
      },
      "source": [
        "def build_model3(n):\n",
        "  model = Sequential()\n",
        "\n",
        "  model.add(LSTM(units=64, return_sequences=True, input_shape=(n, 1)))\n",
        "  model.add(LSTM(32))\n",
        "  model.add(Dense(1))\n",
        "\n",
        "  model.compile(optimizer='adam',\n",
        "                loss='mse')\n",
        "  \n",
        "  return model\n",
        "\n",
        "model_3 = build_model3(10)\n",
        "model_3.summary()"
      ],
      "execution_count": 81,
      "outputs": [
        {
          "output_type": "stream",
          "name": "stdout",
          "text": [
            "Model: \"sequential_11\"\n",
            "_________________________________________________________________\n",
            " Layer (type)                Output Shape              Param #   \n",
            "=================================================================\n",
            " lstm_7 (LSTM)               (None, 10, 64)            16896     \n",
            "                                                                 \n",
            " lstm_8 (LSTM)               (None, 32)                12416     \n",
            "                                                                 \n",
            " dense_9 (Dense)             (None, 1)                 33        \n",
            "                                                                 \n",
            "=================================================================\n",
            "Total params: 29,345\n",
            "Trainable params: 29,345\n",
            "Non-trainable params: 0\n",
            "_________________________________________________________________\n"
          ]
        }
      ]
    },
    {
      "cell_type": "markdown",
      "metadata": {
        "id": "Lz4dAZvvgbQp"
      },
      "source": [
        "## 모델 재학습 및 예측값 그려보기"
      ]
    },
    {
      "cell_type": "code",
      "metadata": {
        "id": "sg-NFBcEgFMg",
        "colab": {
          "base_uri": "https://localhost:8080/"
        },
        "outputId": "567b0705-c426-4a57-b0a3-b93b35f11384"
      },
      "source": [
        "model_3.fit(x_train, y_train,\n",
        "            epochs=100, batch_size=12)"
      ],
      "execution_count": 82,
      "outputs": [
        {
          "output_type": "stream",
          "name": "stdout",
          "text": [
            "Epoch 1/100\n",
            "28/28 [==============================] - 3s 5ms/step - loss: 218.5365\n",
            "Epoch 2/100\n",
            "28/28 [==============================] - 0s 5ms/step - loss: 163.4183\n",
            "Epoch 3/100\n",
            "28/28 [==============================] - 0s 5ms/step - loss: 123.4554\n",
            "Epoch 4/100\n",
            "28/28 [==============================] - 0s 5ms/step - loss: 100.7814\n",
            "Epoch 5/100\n",
            "28/28 [==============================] - 0s 5ms/step - loss: 83.3799\n",
            "Epoch 6/100\n",
            "28/28 [==============================] - 0s 6ms/step - loss: 71.2359\n",
            "Epoch 7/100\n",
            "28/28 [==============================] - 0s 5ms/step - loss: 60.7780\n",
            "Epoch 8/100\n",
            "28/28 [==============================] - 0s 5ms/step - loss: 52.7808\n",
            "Epoch 9/100\n",
            "28/28 [==============================] - 0s 6ms/step - loss: 48.3070\n",
            "Epoch 10/100\n",
            "28/28 [==============================] - 0s 5ms/step - loss: 45.0808\n",
            "Epoch 11/100\n",
            "28/28 [==============================] - 0s 5ms/step - loss: 41.5438\n",
            "Epoch 12/100\n",
            "28/28 [==============================] - 0s 5ms/step - loss: 38.7363\n",
            "Epoch 13/100\n",
            "28/28 [==============================] - 0s 5ms/step - loss: 36.5633\n",
            "Epoch 14/100\n",
            "28/28 [==============================] - 0s 5ms/step - loss: 35.2594\n",
            "Epoch 15/100\n",
            "28/28 [==============================] - 0s 5ms/step - loss: 33.6657\n",
            "Epoch 16/100\n",
            "28/28 [==============================] - 0s 6ms/step - loss: 32.5549\n",
            "Epoch 17/100\n",
            "28/28 [==============================] - 0s 7ms/step - loss: 31.2793\n",
            "Epoch 18/100\n",
            "28/28 [==============================] - 0s 5ms/step - loss: 30.2934\n",
            "Epoch 19/100\n",
            "28/28 [==============================] - 0s 6ms/step - loss: 29.4408\n",
            "Epoch 20/100\n",
            "28/28 [==============================] - 0s 5ms/step - loss: 28.1047\n",
            "Epoch 21/100\n",
            "28/28 [==============================] - 0s 5ms/step - loss: 27.2630\n",
            "Epoch 22/100\n",
            "28/28 [==============================] - 0s 6ms/step - loss: 27.0850\n",
            "Epoch 23/100\n",
            "28/28 [==============================] - 0s 5ms/step - loss: 25.6705\n",
            "Epoch 24/100\n",
            "28/28 [==============================] - 0s 5ms/step - loss: 24.8752\n",
            "Epoch 25/100\n",
            "28/28 [==============================] - 0s 5ms/step - loss: 24.3885\n",
            "Epoch 26/100\n",
            "28/28 [==============================] - 0s 5ms/step - loss: 23.6531\n",
            "Epoch 27/100\n",
            "28/28 [==============================] - 0s 5ms/step - loss: 23.0494\n",
            "Epoch 28/100\n",
            "28/28 [==============================] - 0s 5ms/step - loss: 22.6915\n",
            "Epoch 29/100\n",
            "28/28 [==============================] - 0s 5ms/step - loss: 22.0882\n",
            "Epoch 30/100\n",
            "28/28 [==============================] - 0s 6ms/step - loss: 21.2897\n",
            "Epoch 31/100\n",
            "28/28 [==============================] - 0s 5ms/step - loss: 21.1036\n",
            "Epoch 32/100\n",
            "28/28 [==============================] - 0s 6ms/step - loss: 20.5881\n",
            "Epoch 33/100\n",
            "28/28 [==============================] - 0s 5ms/step - loss: 20.2361\n",
            "Epoch 34/100\n",
            "28/28 [==============================] - 0s 5ms/step - loss: 19.7465\n",
            "Epoch 35/100\n",
            "28/28 [==============================] - 0s 5ms/step - loss: 19.1959\n",
            "Epoch 36/100\n",
            "28/28 [==============================] - 0s 5ms/step - loss: 18.9987\n",
            "Epoch 37/100\n",
            "28/28 [==============================] - 0s 5ms/step - loss: 19.6094\n",
            "Epoch 38/100\n",
            "28/28 [==============================] - 0s 5ms/step - loss: 18.6432\n",
            "Epoch 39/100\n",
            "28/28 [==============================] - 0s 5ms/step - loss: 18.1253\n",
            "Epoch 40/100\n",
            "28/28 [==============================] - 0s 5ms/step - loss: 19.0476\n",
            "Epoch 41/100\n",
            "28/28 [==============================] - 0s 5ms/step - loss: 18.2829\n",
            "Epoch 42/100\n",
            "28/28 [==============================] - 0s 5ms/step - loss: 17.8647\n",
            "Epoch 43/100\n",
            "28/28 [==============================] - 0s 5ms/step - loss: 18.0787\n",
            "Epoch 44/100\n",
            "28/28 [==============================] - 0s 5ms/step - loss: 17.0841\n",
            "Epoch 45/100\n",
            "28/28 [==============================] - 0s 5ms/step - loss: 17.3554\n",
            "Epoch 46/100\n",
            "28/28 [==============================] - 0s 5ms/step - loss: 16.6392\n",
            "Epoch 47/100\n",
            "28/28 [==============================] - 0s 5ms/step - loss: 16.7609\n",
            "Epoch 48/100\n",
            "28/28 [==============================] - 0s 5ms/step - loss: 16.8944\n",
            "Epoch 49/100\n",
            "28/28 [==============================] - 0s 5ms/step - loss: 16.8002\n",
            "Epoch 50/100\n",
            "28/28 [==============================] - 0s 5ms/step - loss: 16.4479\n",
            "Epoch 51/100\n",
            "28/28 [==============================] - 0s 5ms/step - loss: 16.2623\n",
            "Epoch 52/100\n",
            "28/28 [==============================] - 0s 6ms/step - loss: 16.1637\n",
            "Epoch 53/100\n",
            "28/28 [==============================] - 0s 5ms/step - loss: 15.9584\n",
            "Epoch 54/100\n",
            "28/28 [==============================] - 0s 5ms/step - loss: 15.5990\n",
            "Epoch 55/100\n",
            "28/28 [==============================] - 0s 5ms/step - loss: 15.5690\n",
            "Epoch 56/100\n",
            "28/28 [==============================] - 0s 5ms/step - loss: 15.1563\n",
            "Epoch 57/100\n",
            "28/28 [==============================] - 0s 5ms/step - loss: 15.6436\n",
            "Epoch 58/100\n",
            "28/28 [==============================] - 0s 6ms/step - loss: 15.3765\n",
            "Epoch 59/100\n",
            "28/28 [==============================] - 0s 5ms/step - loss: 15.2678\n",
            "Epoch 60/100\n",
            "28/28 [==============================] - 0s 5ms/step - loss: 15.1792\n",
            "Epoch 61/100\n",
            "28/28 [==============================] - 0s 5ms/step - loss: 15.7377\n",
            "Epoch 62/100\n",
            "28/28 [==============================] - 0s 5ms/step - loss: 14.9400\n",
            "Epoch 63/100\n",
            "28/28 [==============================] - 0s 5ms/step - loss: 14.9461\n",
            "Epoch 64/100\n",
            "28/28 [==============================] - 0s 5ms/step - loss: 14.5539\n",
            "Epoch 65/100\n",
            "28/28 [==============================] - 0s 6ms/step - loss: 14.9151\n",
            "Epoch 66/100\n",
            "28/28 [==============================] - 0s 6ms/step - loss: 14.7835\n",
            "Epoch 67/100\n",
            "28/28 [==============================] - 0s 6ms/step - loss: 14.0700\n",
            "Epoch 68/100\n",
            "28/28 [==============================] - 0s 6ms/step - loss: 14.4065\n",
            "Epoch 69/100\n",
            "28/28 [==============================] - 0s 6ms/step - loss: 14.2539\n",
            "Epoch 70/100\n",
            "28/28 [==============================] - 0s 5ms/step - loss: 14.4322\n",
            "Epoch 71/100\n",
            "28/28 [==============================] - 0s 6ms/step - loss: 14.1585\n",
            "Epoch 72/100\n",
            "28/28 [==============================] - 0s 5ms/step - loss: 14.0312\n",
            "Epoch 73/100\n",
            "28/28 [==============================] - 0s 5ms/step - loss: 14.2608\n",
            "Epoch 74/100\n",
            "28/28 [==============================] - 0s 5ms/step - loss: 14.0726\n",
            "Epoch 75/100\n",
            "28/28 [==============================] - 0s 5ms/step - loss: 13.8400\n",
            "Epoch 76/100\n",
            "28/28 [==============================] - 0s 5ms/step - loss: 13.4948\n",
            "Epoch 77/100\n",
            "28/28 [==============================] - 0s 5ms/step - loss: 13.6211\n",
            "Epoch 78/100\n",
            "28/28 [==============================] - 0s 5ms/step - loss: 14.0086\n",
            "Epoch 79/100\n",
            "28/28 [==============================] - 0s 6ms/step - loss: 13.9209\n",
            "Epoch 80/100\n",
            "28/28 [==============================] - 0s 5ms/step - loss: 13.3744\n",
            "Epoch 81/100\n",
            "28/28 [==============================] - 0s 5ms/step - loss: 13.1395\n",
            "Epoch 82/100\n",
            "28/28 [==============================] - 0s 5ms/step - loss: 12.8716\n",
            "Epoch 83/100\n",
            "28/28 [==============================] - 0s 5ms/step - loss: 13.3381\n",
            "Epoch 84/100\n",
            "28/28 [==============================] - 0s 6ms/step - loss: 12.8274\n",
            "Epoch 85/100\n",
            "28/28 [==============================] - 0s 6ms/step - loss: 13.1395\n",
            "Epoch 86/100\n",
            "28/28 [==============================] - 0s 5ms/step - loss: 13.3924\n",
            "Epoch 87/100\n",
            "28/28 [==============================] - 0s 5ms/step - loss: 13.7786\n",
            "Epoch 88/100\n",
            "28/28 [==============================] - 0s 5ms/step - loss: 12.2834\n",
            "Epoch 89/100\n",
            "28/28 [==============================] - 0s 8ms/step - loss: 12.5329\n",
            "Epoch 90/100\n",
            "28/28 [==============================] - 0s 9ms/step - loss: 12.2318\n",
            "Epoch 91/100\n",
            "28/28 [==============================] - 0s 9ms/step - loss: 11.6203\n",
            "Epoch 92/100\n",
            "28/28 [==============================] - 0s 8ms/step - loss: 12.1421\n",
            "Epoch 93/100\n",
            "28/28 [==============================] - 0s 10ms/step - loss: 12.2156\n",
            "Epoch 94/100\n",
            "28/28 [==============================] - 0s 11ms/step - loss: 11.9915\n",
            "Epoch 95/100\n",
            "28/28 [==============================] - 0s 6ms/step - loss: 11.5957\n",
            "Epoch 96/100\n",
            "28/28 [==============================] - 0s 6ms/step - loss: 12.0281\n",
            "Epoch 97/100\n",
            "28/28 [==============================] - 0s 9ms/step - loss: 11.7699\n",
            "Epoch 98/100\n",
            "28/28 [==============================] - 0s 9ms/step - loss: 11.1591\n",
            "Epoch 99/100\n",
            "28/28 [==============================] - 0s 9ms/step - loss: 10.9506\n",
            "Epoch 100/100\n",
            "28/28 [==============================] - 0s 10ms/step - loss: 12.6674\n"
          ]
        },
        {
          "output_type": "execute_result",
          "data": {
            "text/plain": [
              "<keras.callbacks.History at 0x7fd3defd9390>"
            ]
          },
          "metadata": {},
          "execution_count": 82
        }
      ]
    },
    {
      "cell_type": "code",
      "metadata": {
        "id": "HVwnDvHIgokR",
        "colab": {
          "base_uri": "https://localhost:8080/",
          "height": 330
        },
        "outputId": "e7a654f3-c61f-49c8-d606-5f0e414789da"
      },
      "source": [
        "prediction_3 = model_2.predict(x_test)\n",
        "\n",
        "pred_range = np.arange(len(y_train), len(y_train)+ len(prediction))\n",
        "\n",
        "plt.figure(figsize=(12,5))\n",
        "plt.xlabel('Time')\n",
        "plt.ylabel('Value')\n",
        "plt.plot(pred_range, y_test.flatten(), color='orange', label='Ground Truth')\n",
        "plt.plot(pred_range, prediction.flatten(), color='red', label='Ground Truth')\n",
        "plt.plot(pred_range, prediction_2.flatten(), color='blue', label='Ground Truth')\n",
        "plt.legend()\n",
        "plt.show()\n"
      ],
      "execution_count": 87,
      "outputs": [
        {
          "output_type": "display_data",
          "data": {
            "text/plain": [
              "<Figure size 864x360 with 1 Axes>"
            ],
            "image/png": "[encoded data removed]"
          },
          "metadata": {}
        }
      ]
    },
    {
      "cell_type": "markdown",
      "metadata": {
        "id": "CrvtX4LrkhPI"
      },
      "source": [
        "# Conv1D \n",
        "\n",
        "- 텍스트 분류나 시계열 예측 같은 간단한 문제, 오디오 생성, 기계 번역 등의 문제에서 좋은 성능\n",
        "\n",
        "- 타임스텝의 순서에 민감하지 X\n",
        "\n",
        "\n",
        "- 2D Convolution\n",
        "  - 지역적 특징을 인식\n",
        "\n",
        "  <img src=\"https://missinglink.ai/wp-content/uploads/2019/03/2D-convolutional-example_2x-700x584.png\" width=\"500\">\n",
        "\n",
        "- 1D Convolution\n",
        "  - 문맥을 인식\n",
        "\n",
        "  <img src=\"https://missinglink.ai/wp-content/uploads/2019/03/1D-convolutional-example_2x.png\" width=\"500\">\n",
        "\n",
        "  <sub>출처: https://missinglink.ai/guides/keras/keras-conv1d-working-1d-convolutional-neural-networks-keras/</sub>"
      ]
    },
    {
      "cell_type": "markdown",
      "metadata": {
        "id": "aJNAI-aYnDuc"
      },
      "source": [
        "## Conv1D Layer\n",
        "- 입력: `(batch_size, timesteps, channels)`\n",
        "\n",
        "- 출력: `(batch_size, timesteps, filters)`\n",
        "\n",
        "- 필터의 사이즈가 커져도 모델이 급격히 증가하지 않기 때문에 다양한 크기를 사용할 수 있음\n",
        "- 데이터의 품질이 좋으면 굳이 크기를 달리하여 여러 개를 사용하지 않아도 될 수도 있음"
      ]
    },
    {
      "cell_type": "markdown",
      "metadata": {
        "id": "ADJZHPLJqTZa"
      },
      "source": [
        "## MaxPooling1D Layer\n",
        "- 다운 샘플링 효과\n",
        "\n",
        "- 단지 1차원형태로 바뀐 것 뿐"
      ]
    },
    {
      "cell_type": "markdown",
      "metadata": {
        "id": "wirZzwYJrNll"
      },
      "source": [
        "## GlovalMaxPooling Layer\n",
        "- 배치차원을 제외하고 2차원 형태를 1차원 형태로 바꾸어주는 레이어\n",
        "\n",
        "- Flatten layer로 대신 사용가능"
      ]
    },
    {
      "cell_type": "markdown",
      "metadata": {
        "id": "YQY_1IL9nQs2"
      },
      "source": [
        "## IMDB 데이터셋"
      ]
    },
    {
      "cell_type": "markdown",
      "metadata": {
        "id": "pl4Eu32qnUES"
      },
      "source": [
        "### 데이터 로드 및 전처리"
      ]
    },
    {
      "cell_type": "code",
      "metadata": {
        "id": "WcG-Hiltklbe"
      },
      "source": [
        "from tensorflow.keras.datasets import imdb\n",
        "from tensorflow.keras.preprocessing.sequence import pad_sequences\n",
        "from tensorflow.keras.models import Sequential\n",
        "from tensorflow.keras.optimizers import RMSprop\n",
        "from tensorflow.keras.layers import Dense, Embedding, Conv1D, MaxPooling1D, GlobalMaxPooling1D"
      ],
      "execution_count": 47,
      "outputs": []
    },
    {
      "cell_type": "code",
      "metadata": {
        "id": "GGYaNT8hnec5",
        "colab": {
          "base_uri": "https://localhost:8080/"
        },
        "outputId": "491670e8-988e-443e-86da-e56c250ef07c"
      },
      "source": [
        "num_words = 10000\n",
        "max_len = 500\n",
        "batch_size =32\n",
        "\n",
        "(input_train, y_train), (input_test, y_test) = imdb.load_data(num_words=num_words)\n",
        "\n",
        "print(len(input_train))\n",
        "print(len(input_test))"
      ],
      "execution_count": 48,
      "outputs": [
        {
          "output_type": "stream",
          "name": "stdout",
          "text": [
            "25000\n",
            "25000\n"
          ]
        }
      ]
    },
    {
      "cell_type": "code",
      "metadata": {
        "id": "nQBzp3ownpEK",
        "colab": {
          "base_uri": "https://localhost:8080/"
        },
        "outputId": "7be05f4b-d490-41bb-ee0d-e0ebf08125bf"
      },
      "source": [
        "pad_x_train = pad_sequences(input_train, maxlen=max_len)\n",
        "pad_x_test= pad_sequences(input_test, maxlen=max_len)\n",
        "\n",
        "print(pad_x_train.shape)\n",
        "print(pad_x_test.shape)"
      ],
      "execution_count": 50,
      "outputs": [
        {
          "output_type": "stream",
          "name": "stdout",
          "text": [
            "(25000, 500)\n",
            "(25000, 500)\n"
          ]
        }
      ]
    },
    {
      "cell_type": "markdown",
      "metadata": {
        "id": "j3E0hYiHoBO0"
      },
      "source": [
        "### 모델 구성"
      ]
    },
    {
      "cell_type": "code",
      "metadata": {
        "id": "PvKPr7N6nuHr"
      },
      "source": [
        "def build_model():\n",
        "  model = Sequential()\n",
        "\n",
        "  model.add(Embedding(input_dim=num_words, output_dim=32,\n",
        "                      input_length=max_len))\n",
        "  model.add(Conv1D(32, 7, activation='relu'))\n",
        "  model.add(MaxPooling1D(7))\n",
        "  model.add(Conv1D(32, 5, activation='relu'))\n",
        "  model.add(MaxPooling1D(5))\n",
        "  model.add(GlobalMaxPooling1D())\n",
        "  model.add(Dense(1, activation='sigmoid'))\n",
        "\n",
        "  model.compile(optimizer=RMSprop(learning_rate=1e-4),\n",
        "                loss='binary_crossentropy',\n",
        "                metrics=['accuracy'])\n",
        "  \n",
        "  return model"
      ],
      "execution_count": 54,
      "outputs": []
    },
    {
      "cell_type": "code",
      "metadata": {
        "id": "wwWZ47NHolB6",
        "colab": {
          "base_uri": "https://localhost:8080/"
        },
        "outputId": "55bf43fc-aa32-4f5c-87a0-064527ecfefd"
      },
      "source": [
        "model=build_model()\n",
        "model.summary()"
      ],
      "execution_count": 55,
      "outputs": [
        {
          "output_type": "stream",
          "name": "stdout",
          "text": [
            "Model: \"sequential_7\"\n",
            "_________________________________________________________________\n",
            " Layer (type)                Output Shape              Param #   \n",
            "=================================================================\n",
            " embedding_6 (Embedding)     (None, 500, 32)           320000    \n",
            "                                                                 \n",
            " conv1d_1 (Conv1D)           (None, 494, 32)           7200      \n",
            "                                                                 \n",
            " max_pooling1d_1 (MaxPooling  (None, 70, 32)           0         \n",
            " 1D)                                                             \n",
            "                                                                 \n",
            " conv1d_2 (Conv1D)           (None, 66, 32)            5152      \n",
            "                                                                 \n",
            " max_pooling1d_2 (MaxPooling  (None, 13, 32)           0         \n",
            " 1D)                                                             \n",
            "                                                                 \n",
            " global_max_pooling1d_1 (Glo  (None, 32)               0         \n",
            " balMaxPooling1D)                                                \n",
            "                                                                 \n",
            " dense_5 (Dense)             (None, 1)                 33        \n",
            "                                                                 \n",
            "=================================================================\n",
            "Total params: 332,385\n",
            "Trainable params: 332,385\n",
            "Non-trainable params: 0\n",
            "_________________________________________________________________\n"
          ]
        }
      ]
    },
    {
      "cell_type": "markdown",
      "metadata": {
        "id": "0qUbPGdmpHpQ"
      },
      "source": [
        "### 모델 학습"
      ]
    },
    {
      "cell_type": "code",
      "metadata": {
        "id": "xcCgjLHvonWB",
        "colab": {
          "base_uri": "https://localhost:8080/"
        },
        "outputId": "37351346-98a1-4783-ecb6-9ca59d4cbd0a"
      },
      "source": [
        "history = model.fit(pad_x_train, y_train,\n",
        "                    batch_size=128, epochs=30,\n",
        "                    validation_split=0.2)"
      ],
      "execution_count": 56,
      "outputs": [
        {
          "output_type": "stream",
          "name": "stdout",
          "text": [
            "Epoch 1/30\n",
            "157/157 [==============================] - 9s 9ms/step - loss: 0.6926 - accuracy: 0.5157 - val_loss: 0.6925 - val_accuracy: 0.4948\n",
            "Epoch 2/30\n",
            "157/157 [==============================] - 1s 8ms/step - loss: 0.6903 - accuracy: 0.6053 - val_loss: 0.6905 - val_accuracy: 0.6150\n",
            "Epoch 3/30\n",
            "157/157 [==============================] - 1s 8ms/step - loss: 0.6866 - accuracy: 0.6912 - val_loss: 0.6857 - val_accuracy: 0.6178\n",
            "Epoch 4/30\n",
            "157/157 [==============================] - 1s 8ms/step - loss: 0.6776 - accuracy: 0.7455 - val_loss: 0.6712 - val_accuracy: 0.7438\n",
            "Epoch 5/30\n",
            "157/157 [==============================] - 1s 8ms/step - loss: 0.6529 - accuracy: 0.7648 - val_loss: 0.6355 - val_accuracy: 0.7534\n",
            "Epoch 6/30\n",
            "157/157 [==============================] - 1s 8ms/step - loss: 0.5992 - accuracy: 0.7937 - val_loss: 0.5666 - val_accuracy: 0.8026\n",
            "Epoch 7/30\n",
            "157/157 [==============================] - 1s 8ms/step - loss: 0.5180 - accuracy: 0.8216 - val_loss: 0.4842 - val_accuracy: 0.8198\n",
            "Epoch 8/30\n",
            "157/157 [==============================] - 1s 8ms/step - loss: 0.4347 - accuracy: 0.8410 - val_loss: 0.4190 - val_accuracy: 0.8300\n",
            "Epoch 9/30\n",
            "157/157 [==============================] - 1s 8ms/step - loss: 0.3728 - accuracy: 0.8569 - val_loss: 0.3788 - val_accuracy: 0.8408\n",
            "Epoch 10/30\n",
            "157/157 [==============================] - 1s 8ms/step - loss: 0.3312 - accuracy: 0.8712 - val_loss: 0.3561 - val_accuracy: 0.8504\n",
            "Epoch 11/30\n",
            "157/157 [==============================] - 1s 8ms/step - loss: 0.3023 - accuracy: 0.8796 - val_loss: 0.3439 - val_accuracy: 0.8570\n",
            "Epoch 12/30\n",
            "157/157 [==============================] - 1s 8ms/step - loss: 0.2810 - accuracy: 0.8882 - val_loss: 0.3353 - val_accuracy: 0.8588\n",
            "Epoch 13/30\n",
            "157/157 [==============================] - 1s 8ms/step - loss: 0.2638 - accuracy: 0.8976 - val_loss: 0.3297 - val_accuracy: 0.8616\n",
            "Epoch 14/30\n",
            "157/157 [==============================] - 1s 8ms/step - loss: 0.2492 - accuracy: 0.9027 - val_loss: 0.3261 - val_accuracy: 0.8634\n",
            "Epoch 15/30\n",
            "157/157 [==============================] - 1s 9ms/step - loss: 0.2360 - accuracy: 0.9091 - val_loss: 0.3249 - val_accuracy: 0.8624\n",
            "Epoch 16/30\n",
            "157/157 [==============================] - 1s 8ms/step - loss: 0.2243 - accuracy: 0.9147 - val_loss: 0.3234 - val_accuracy: 0.8638\n",
            "Epoch 17/30\n",
            "157/157 [==============================] - 1s 8ms/step - loss: 0.2134 - accuracy: 0.9208 - val_loss: 0.3236 - val_accuracy: 0.8666\n",
            "Epoch 18/30\n",
            "157/157 [==============================] - 1s 9ms/step - loss: 0.2035 - accuracy: 0.9251 - val_loss: 0.3249 - val_accuracy: 0.8674\n",
            "Epoch 19/30\n",
            "157/157 [==============================] - 1s 8ms/step - loss: 0.1947 - accuracy: 0.9289 - val_loss: 0.3282 - val_accuracy: 0.8668\n",
            "Epoch 20/30\n",
            "157/157 [==============================] - 1s 8ms/step - loss: 0.1865 - accuracy: 0.9327 - val_loss: 0.3290 - val_accuracy: 0.8692\n",
            "Epoch 21/30\n",
            "157/157 [==============================] - 1s 7ms/step - loss: 0.1790 - accuracy: 0.9352 - val_loss: 0.3314 - val_accuracy: 0.8684\n",
            "Epoch 22/30\n",
            "157/157 [==============================] - 1s 8ms/step - loss: 0.1714 - accuracy: 0.9391 - val_loss: 0.3343 - val_accuracy: 0.8678\n",
            "Epoch 23/30\n",
            "157/157 [==============================] - 1s 8ms/step - loss: 0.1647 - accuracy: 0.9419 - val_loss: 0.3387 - val_accuracy: 0.8684\n",
            "Epoch 24/30\n",
            "157/157 [==============================] - 1s 8ms/step - loss: 0.1583 - accuracy: 0.9453 - val_loss: 0.3428 - val_accuracy: 0.8644\n",
            "Epoch 25/30\n",
            "157/157 [==============================] - 1s 8ms/step - loss: 0.1523 - accuracy: 0.9482 - val_loss: 0.3458 - val_accuracy: 0.8646\n",
            "Epoch 26/30\n",
            "157/157 [==============================] - 1s 8ms/step - loss: 0.1465 - accuracy: 0.9510 - val_loss: 0.3503 - val_accuracy: 0.8660\n",
            "Epoch 27/30\n",
            "157/157 [==============================] - 1s 8ms/step - loss: 0.1412 - accuracy: 0.9535 - val_loss: 0.3553 - val_accuracy: 0.8670\n",
            "Epoch 28/30\n",
            "157/157 [==============================] - 1s 8ms/step - loss: 0.1364 - accuracy: 0.9556 - val_loss: 0.3610 - val_accuracy: 0.8616\n",
            "Epoch 29/30\n",
            "157/157 [==============================] - 1s 8ms/step - loss: 0.1311 - accuracy: 0.9565 - val_loss: 0.3625 - val_accuracy: 0.8646\n",
            "Epoch 30/30\n",
            "157/157 [==============================] - 2s 12ms/step - loss: 0.1264 - accuracy: 0.9592 - val_loss: 0.3684 - val_accuracy: 0.8628\n"
          ]
        }
      ]
    },
    {
      "cell_type": "markdown",
      "metadata": {
        "id": "n2yEkawIph4C"
      },
      "source": [
        "### 시각화"
      ]
    },
    {
      "cell_type": "code",
      "metadata": {
        "id": "BfKC0UOkpPmP",
        "colab": {
          "base_uri": "https://localhost:8080/",
          "height": 507
        },
        "outputId": "9a5422b2-5a7f-4e62-f6c5-7bed05f94e76"
      },
      "source": [
        "loss = history.history['loss']\n",
        "val_loss = history.history['val_loss']\n",
        "acc = history.history['accuracy']\n",
        "val_acc = history.history['val_accuracy']\n",
        "\n",
        "epochs = range(1, len(loss)+1)\n",
        "\n",
        "plt.plot(epochs, loss, 'b--', label='training loss')\n",
        "plt.plot(epochs, val_loss, 'r:', label='validation accuracy')\n",
        "plt.grid()\n",
        "plt.legend()\n",
        "\n",
        "plt.figure()\n",
        "plt.plot(epochs, acc, 'b--', label='training accuracy')\n",
        "plt.plot(epochs, val_acc, 'r:', label='validation accuracy')\n",
        "plt.grid()\n",
        "plt.legend()\n",
        "\n",
        "plt.show()"
      ],
      "execution_count": 57,
      "outputs": [
        {
          "output_type": "display_data",
          "data": {
            "text/plain": [
              "<Figure size 432x288 with 1 Axes>"
            ],
            "image/png": "[encoded data removed]"
          },
          "metadata": {}
        },
        {
          "output_type": "display_data",
          "data": {
            "text/plain": [
              "<Figure size 432x288 with 1 Axes>"
            ],
            "image/png": "[encoded data removed]"
          },
          "metadata": {}
        }
      ]
    },
    {
      "cell_type": "markdown",
      "metadata": {
        "id": "npd7lwPGrbz9"
      },
      "source": [
        "- 과적합이 일어났지만, 다른 옵티마이저 사용, 규제화를 걸어보는 등 다양하게 시도해볼 수 있음"
      ]
    }
  ]
}