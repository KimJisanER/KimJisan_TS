{
  "nbformat": 4,
  "nbformat_minor": 0,
  "metadata": {
    "colab": {
      "name": "12_16_early_stopping.ipynb",
      "provenance": [],
      "authorship_tag": "ABX9TyNyH9r+G4Hlcg9qvPyHVjVG",
      "include_colab_link": true
    },
    "kernelspec": {
      "name": "python3",
      "display_name": "Python 3"
    },
    "language_info": {
      "name": "python"
    }
  },
  "cells": [
    {
      "cell_type": "markdown",
      "metadata": {
        "id": "view-in-github",
        "colab_type": "text"
      },
      "source": [
        "<a href=\"https://colab.research.google.com/github/KimJisanER/KimJisan_TS/blob/main/12_16_early_stopping.ipynb\" target=\"_parent\"><img src=\"https://colab.research.google.com/assets/colab-badge.svg\" alt=\"Open In Colab\"/></a>"
      ]
    },
    {
      "cell_type": "code",
      "execution_count": 2,
      "metadata": {
        "colab": {
          "base_uri": "https://localhost:8080/"
        },
        "id": "PCRa-9-PraRV",
        "outputId": "1b61867e-c3d1-4764-a65a-8281a6332183"
      },
      "outputs": [
        {
          "output_type": "stream",
          "name": "stdout",
          "text": [
            "Downloading data from https://storage.googleapis.com/tensorflow/tf-keras-datasets/mnist.npz\n",
            "11493376/11490434 [==============================] - 0s 0us/step\n",
            "11501568/11490434 [==============================] - 0s 0us/step\n"
          ]
        }
      ],
      "source": [
        "# 라이브러리 불러오기\n",
        "import tensorflow as tf\n",
        "from tensorflow.keras.models import Sequential\n",
        "from tensorflow.keras.layers import Dense, Flatten\n",
        "\n",
        "# Mnist 데이터셋\n",
        "mnist = tf.keras.datasets.mnist\n",
        "(X, y), (x_test, y_test) = mnist.load_data()\n",
        "\n",
        "# 시퀀셜 모델 만들기\n",
        "model = Sequential([\n",
        "                    Flatten(input_shape=(28,28)),\n",
        "                    Dense(64, activation='relu'),\n",
        "                    Dense(10, activation='softmax')\n",
        "])\n",
        "\n",
        "# 모델 컴파일\n",
        "\n",
        "model.compile(optimizer='adam',\n",
        "              loss='sparse_categorical_crossentropy',\n",
        "              metrics=['accuracy'])\n"
      ]
    },
    {
      "cell_type": "code",
      "source": [
        "#조기종료와 콜백\n",
        "#콜백은 학습 실행 시 손실값 등을 모니터링 하고 손실에 따라 일부 작업을 수행할 수 있음\n",
        "\n",
        "from tensorflow.keras.callbacks import EarlyStopping\n",
        "\n",
        "early_stopping= EarlyStopping(monitor='val_accuracy', patience=3)\n",
        "\n",
        "#훈련(학습) validation_split\n",
        "history = model.fit(X,y, validation_split=0.2, epochs=30, batch_size=64, callbacks=[early_stopping])"
      ],
      "metadata": {
        "colab": {
          "base_uri": "https://localhost:8080/"
        },
        "id": "M42ylmD1rdot",
        "outputId": "8519b677-cbc2-49ad-f08c-23350a612930"
      },
      "execution_count": 3,
      "outputs": [
        {
          "output_type": "stream",
          "name": "stdout",
          "text": [
            "Epoch 1/30\n",
            "750/750 [==============================] - 4s 4ms/step - loss: 2.9508 - accuracy: 0.7066 - val_loss: 0.7788 - val_accuracy: 0.8102\n",
            "Epoch 2/30\n",
            "750/750 [==============================] - 2s 3ms/step - loss: 0.6430 - accuracy: 0.8381 - val_loss: 0.5541 - val_accuracy: 0.8641\n",
            "Epoch 3/30\n",
            "750/750 [==============================] - 5s 6ms/step - loss: 0.4661 - accuracy: 0.8779 - val_loss: 0.4574 - val_accuracy: 0.8933\n",
            "Epoch 4/30\n",
            "750/750 [==============================] - 4s 6ms/step - loss: 0.3837 - accuracy: 0.8992 - val_loss: 0.4520 - val_accuracy: 0.9083\n",
            "Epoch 5/30\n",
            "750/750 [==============================] - 3s 4ms/step - loss: 0.3177 - accuracy: 0.9165 - val_loss: 0.3479 - val_accuracy: 0.9178\n",
            "Epoch 6/30\n",
            "750/750 [==============================] - 2s 3ms/step - loss: 0.2733 - accuracy: 0.9270 - val_loss: 0.3225 - val_accuracy: 0.9299\n",
            "Epoch 7/30\n",
            "750/750 [==============================] - 2s 3ms/step - loss: 0.2428 - accuracy: 0.9347 - val_loss: 0.2966 - val_accuracy: 0.9298\n",
            "Epoch 8/30\n",
            "750/750 [==============================] - 2s 3ms/step - loss: 0.2082 - accuracy: 0.9421 - val_loss: 0.2699 - val_accuracy: 0.9364\n",
            "Epoch 9/30\n",
            "750/750 [==============================] - 4s 5ms/step - loss: 0.1965 - accuracy: 0.9450 - val_loss: 0.2648 - val_accuracy: 0.9377\n",
            "Epoch 10/30\n",
            "750/750 [==============================] - 7s 10ms/step - loss: 0.1843 - accuracy: 0.9474 - val_loss: 0.2540 - val_accuracy: 0.9398\n",
            "Epoch 11/30\n",
            "750/750 [==============================] - 5s 7ms/step - loss: 0.1815 - accuracy: 0.9486 - val_loss: 0.2387 - val_accuracy: 0.9411\n",
            "Epoch 12/30\n",
            "750/750 [==============================] - 4s 5ms/step - loss: 0.1699 - accuracy: 0.9518 - val_loss: 0.2452 - val_accuracy: 0.9435\n",
            "Epoch 13/30\n",
            "750/750 [==============================] - 3s 3ms/step - loss: 0.1643 - accuracy: 0.9535 - val_loss: 0.2425 - val_accuracy: 0.9411\n",
            "Epoch 14/30\n",
            "750/750 [==============================] - 3s 4ms/step - loss: 0.1592 - accuracy: 0.9540 - val_loss: 0.2242 - val_accuracy: 0.9481\n",
            "Epoch 15/30\n",
            "750/750 [==============================] - 3s 3ms/step - loss: 0.1515 - accuracy: 0.9566 - val_loss: 0.2246 - val_accuracy: 0.9492\n",
            "Epoch 16/30\n",
            "750/750 [==============================] - 3s 4ms/step - loss: 0.1488 - accuracy: 0.9583 - val_loss: 0.2714 - val_accuracy: 0.9417\n",
            "Epoch 17/30\n",
            "750/750 [==============================] - 4s 6ms/step - loss: 0.1460 - accuracy: 0.9576 - val_loss: 0.2209 - val_accuracy: 0.9499\n",
            "Epoch 18/30\n",
            "750/750 [==============================] - 4s 6ms/step - loss: 0.1360 - accuracy: 0.9603 - val_loss: 0.2398 - val_accuracy: 0.9478\n",
            "Epoch 19/30\n",
            "750/750 [==============================] - 4s 6ms/step - loss: 0.1358 - accuracy: 0.9601 - val_loss: 0.2621 - val_accuracy: 0.9445\n",
            "Epoch 20/30\n",
            "750/750 [==============================] - 3s 4ms/step - loss: 0.1358 - accuracy: 0.9610 - val_loss: 0.2756 - val_accuracy: 0.9440\n"
          ]
        }
      ]
    },
    {
      "cell_type": "code",
      "source": [
        "# 새 모델 만들기\n",
        "model = Sequential([\n",
        "                    Flatten(input_shape=(28,28)),\n",
        "                    Dense(64, activation='relu'),\n",
        "                    Dense(10, activation='softmax')\n",
        "])\n",
        "\n",
        "# 모델 컴파일\n",
        "\n",
        "model.compile(optimizer='adam',\n",
        "              loss='sparse_categorical_crossentropy',\n",
        "              metrics=['accuracy'])"
      ],
      "metadata": {
        "id": "8opddkXT35A9"
      },
      "execution_count": 4,
      "outputs": []
    },
    {
      "cell_type": "code",
      "source": [
        "#min_delta 기준 미달시 조기 종료\n",
        "#3epoch동안 손실이 0.05이상 개선되지 않을 경우 훈련 중지\n",
        "early_stopping= EarlyStopping(monitor='val_loss', patience=3, min_delta=0.05)\n",
        "history = model.fit(X,y, validation_split=0.2, epochs=30, batch_size=64, callbacks=[early_stopping])"
      ],
      "metadata": {
        "colab": {
          "base_uri": "https://localhost:8080/"
        },
        "id": "J3Nt8F0C4AeT",
        "outputId": "7a79f149-adf7-4921-fb19-7b22485d3b86"
      },
      "execution_count": 5,
      "outputs": [
        {
          "output_type": "stream",
          "name": "stdout",
          "text": [
            "Epoch 1/30\n",
            "750/750 [==============================] - 3s 4ms/step - loss: 4.2049 - accuracy: 0.7907 - val_loss: 0.7969 - val_accuracy: 0.8139\n",
            "Epoch 2/30\n",
            "750/750 [==============================] - 3s 3ms/step - loss: 0.6229 - accuracy: 0.8564 - val_loss: 0.5575 - val_accuracy: 0.8821\n",
            "Epoch 3/30\n",
            "750/750 [==============================] - 3s 5ms/step - loss: 0.4264 - accuracy: 0.8958 - val_loss: 0.4610 - val_accuracy: 0.9091\n",
            "Epoch 4/30\n",
            "750/750 [==============================] - 3s 4ms/step - loss: 0.3505 - accuracy: 0.9131 - val_loss: 0.3888 - val_accuracy: 0.9225\n",
            "Epoch 5/30\n",
            "750/750 [==============================] - 3s 4ms/step - loss: 0.2990 - accuracy: 0.9237 - val_loss: 0.3467 - val_accuracy: 0.9232\n",
            "Epoch 6/30\n",
            "750/750 [==============================] - 4s 5ms/step - loss: 0.2662 - accuracy: 0.9302 - val_loss: 0.3114 - val_accuracy: 0.9251\n",
            "Epoch 7/30\n",
            "750/750 [==============================] - 3s 4ms/step - loss: 0.2423 - accuracy: 0.9360 - val_loss: 0.3123 - val_accuracy: 0.9298\n",
            "Epoch 8/30\n",
            "750/750 [==============================] - 3s 4ms/step - loss: 0.2211 - accuracy: 0.9416 - val_loss: 0.3047 - val_accuracy: 0.9416\n",
            "Epoch 9/30\n",
            "750/750 [==============================] - 4s 5ms/step - loss: 0.2116 - accuracy: 0.9444 - val_loss: 0.3257 - val_accuracy: 0.9312\n"
          ]
        }
      ]
    }
  ]
}