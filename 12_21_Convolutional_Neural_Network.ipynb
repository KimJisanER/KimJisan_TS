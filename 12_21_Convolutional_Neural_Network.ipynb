{
  "nbformat": 4,
  "nbformat_minor": 0,
  "metadata": {
    "colab": {
      "name": "12_21_Convolutional_Neural_Network.ipynb",
      "provenance": [],
      "mount_file_id": "1vz8olXHqR6k7_F9MHRlxFfaUqYUAOR6s",
      "authorship_tag": "ABX9TyMFjZteSUxP+ifVxqicbAlA",
      "include_colab_link": true
    },
    "kernelspec": {
      "name": "python3",
      "display_name": "Python 3"
    },
    "language_info": {
      "name": "python"
    }
  },
  "cells": [
    {
      "cell_type": "markdown",
      "metadata": {
        "id": "view-in-github",
        "colab_type": "text"
      },
      "source": [
        "<a href=\"https://colab.research.google.com/github/KimJisanER/KimJisan_TS/blob/main/12_21_Convolutional_Neural_Network.ipynb\" target=\"_parent\"><img src=\"https://colab.research.google.com/assets/colab-badge.svg\" alt=\"Open In Colab\"/></a>"
      ]
    },
    {
      "cell_type": "markdown",
      "source": [
        "kaggle: Challenges in Representation Learning: Facial Expression Recognition Challenge\n",
        "\n"
      ],
      "metadata": {
        "id": "cl-xoz5vpED4"
      }
    },
    {
      "cell_type": "code",
      "execution_count": null,
      "metadata": {
        "id": "s_h1b7mIoMY5"
      },
      "outputs": [],
      "source": [
        "import tensorflow as tf\n",
        "import numpy as np\n",
        "import pandas as pd\n",
        "import matplotlib.pyplot as plt\n",
        "\n",
        "from tensorflow.keras.layers import Dense, Flatten, Conv2D, MaxPooling2D\n",
        "from tensorflow.keras.models import Sequential\n",
        "from tensorflow.keras.optimizers import Adam\n",
        "from tensorflow.keras.callbacks import EarlyStopping\n",
        "\n",
        "%matplotlib inline"
      ]
    },
    {
      "cell_type": "code",
      "source": [
        "import pandas as pd"
      ],
      "metadata": {
        "id": "a7McAly8oxJ1"
      },
      "execution_count": null,
      "outputs": []
    },
    {
      "cell_type": "code",
      "source": [
        "#데이터 불러오기\n",
        "data = pd.read_csv('/content/drive/MyDrive/TF걸음마/icml_face_data.csv')\n",
        "#icml_face_data.csv 파일에 훈련용, 검증용, 테스트용 데이터가 포함됨"
      ],
      "metadata": {
        "id": "QAiauUWCoz3m"
      },
      "execution_count": 11,
      "outputs": []
    },
    {
      "cell_type": "code",
      "source": [
        "#데이터 전처리 함수\n",
        "def preprocessing(data):\n",
        "  image = np.zeros(shape=(len(data), 48, 48)) #빈 넘파이형태(48*48)\n",
        "  label = np.array(list(map(int, data['emotion'])))\n",
        "  for i, row in enumerate(data.index):\n",
        "    df = np.fromstring(data[' pixels'][row], dtype=int, sep=' ')\n",
        "    df= np.reshape(df,(48,48))\n",
        "    image[i] = df\n",
        "  return image,label"
      ],
      "metadata": {
        "id": "shBobEOeo9pP"
      },
      "execution_count": 18,
      "outputs": []
    },
    {
      "cell_type": "code",
      "source": [
        "# Train, Validation, Test 데이터 구분\n",
        "x_train, y_train = preprocessing(data[data[' Usage']=='Training'])\n",
        "x_val, y_val = preprocessing(data[data[' Usage']=='PrivateTest'])\n",
        "x_test, y_test = preprocessing(data[data[' Usage']=='PublicTest'])"
      ],
      "metadata": {
        "id": "NDtvyKuvqKqL"
      },
      "execution_count": 19,
      "outputs": []
    },
    {
      "cell_type": "code",
      "source": [
        "x_train.shape, x_val.shape, x_test.shape"
      ],
      "metadata": {
        "id": "IcJeLBwhqM0N",
        "colab": {
          "base_uri": "https://localhost:8080/"
        },
        "outputId": "d266b41f-c192-46c8-cc38-fdcd8d3857e9"
      },
      "execution_count": 20,
      "outputs": [
        {
          "output_type": "execute_result",
          "data": {
            "text/plain": [
              "((28709, 48, 48), (3589, 48, 48), (3589, 48, 48))"
            ]
          },
          "metadata": {},
          "execution_count": 20
        }
      ]
    },
    {
      "cell_type": "code",
      "source": [
        "#데이터 전처리(shape 변경)\n",
        "print(x_train.shape, x_val.shape, x_test.shape)\n",
        "x_train = x_train.reshape((x_train.shape[0], 48, 48, 1))\n",
        "x_val = x_val.reshape((x_val.shape[0], 48, 48, 1))\n",
        "x_test = x_test.reshape((x_test.shape[0], 48, 48, 1))\n",
        "print(x_train.shape, x_val.shape, x_test.shape)"
      ],
      "metadata": {
        "id": "ZmMoTpZeqO7_",
        "colab": {
          "base_uri": "https://localhost:8080/"
        },
        "outputId": "ec922b78-1e9a-4f7b-9582-32e2cbb5320a"
      },
      "execution_count": 23,
      "outputs": [
        {
          "output_type": "stream",
          "name": "stdout",
          "text": [
            "(28709, 48, 48, 1) (3589, 48, 48) (3589, 48, 48)\n",
            "(28709, 48, 48, 1) (3589, 48, 48, 1) (3589, 48, 48, 1)\n"
          ]
        }
      ]
    },
    {
      "cell_type": "code",
      "source": [
        "x_train = x_train.astype('float32')/x_train.max()\n",
        "x_val = x_val.astype('float32')/x_val.max()\n",
        "x_test = x_test.astype('float32')/x_test.max()"
      ],
      "metadata": {
        "id": "pxi0QnGFrUAl"
      },
      "execution_count": 24,
      "outputs": []
    },
    {
      "cell_type": "markdown",
      "source": [
        "CNN #1"
      ],
      "metadata": {
        "id": "OVUkJz7ZrnrH"
      }
    },
    {
      "cell_type": "code",
      "source": [
        "model = Sequential([\n",
        "                    Conv2D(64, (3, 3), activation='relu', input_shape=(48, 48, 1)),\n",
        "                    MaxPooling2D((2, 2)),\n",
        "                    Flatten(),\n",
        "                    Dense(128, activation='relu'),\n",
        "                    Dense(7, activation='softmax')\n",
        "])\n",
        "# 모델 컴파일\n",
        "model.compile(optimizer='adam',\n",
        "              loss='sparse_categorical_crossentropy',\n",
        "              metrics=['accuracy'])\n",
        "\n",
        "early_stopping = EarlyStopping(monitor='val_accuracy', patience=3) \n",
        "\n",
        "# 훈련(학습)\n",
        "history = model.fit(x_train, y_train,  validation_data=(x_val, y_val), epochs=30, batch_size=64, callbacks=[early_stopping])"
      ],
      "metadata": {
        "id": "ol9_ZHmGrdNK",
        "colab": {
          "base_uri": "https://localhost:8080/"
        },
        "outputId": "dd7d18c0-8c6a-4eeb-e717-b52364405576"
      },
      "execution_count": 33,
      "outputs": [
        {
          "output_type": "stream",
          "name": "stdout",
          "text": [
            "Epoch 1/30\n",
            "449/449 [==============================] - 80s 175ms/step - loss: 1.6357 - accuracy: 0.3645 - val_loss: 1.5257 - val_accuracy: 0.4210\n",
            "Epoch 2/30\n",
            "449/449 [==============================] - 69s 154ms/step - loss: 1.4376 - accuracy: 0.4560 - val_loss: 1.4234 - val_accuracy: 0.4539\n",
            "Epoch 3/30\n",
            "449/449 [==============================] - 68s 151ms/step - loss: 1.3326 - accuracy: 0.4939 - val_loss: 1.3830 - val_accuracy: 0.4687\n",
            "Epoch 4/30\n",
            "449/449 [==============================] - 93s 207ms/step - loss: 1.2413 - accuracy: 0.5331 - val_loss: 1.3839 - val_accuracy: 0.4714\n",
            "Epoch 5/30\n",
            "449/449 [==============================] - 71s 157ms/step - loss: 1.1526 - accuracy: 0.5712 - val_loss: 1.4130 - val_accuracy: 0.4728\n",
            "Epoch 6/30\n",
            "449/449 [==============================] - 69s 154ms/step - loss: 1.0640 - accuracy: 0.6086 - val_loss: 1.3809 - val_accuracy: 0.4971\n",
            "Epoch 7/30\n",
            "449/449 [==============================] - 68s 153ms/step - loss: 0.9761 - accuracy: 0.6438 - val_loss: 1.3867 - val_accuracy: 0.5040\n",
            "Epoch 8/30\n",
            "449/449 [==============================] - 69s 153ms/step - loss: 0.8706 - accuracy: 0.6865 - val_loss: 1.4364 - val_accuracy: 0.4999\n",
            "Epoch 9/30\n",
            "449/449 [==============================] - 67s 148ms/step - loss: 0.7653 - accuracy: 0.7298 - val_loss: 1.5033 - val_accuracy: 0.5071\n",
            "Epoch 10/30\n",
            "449/449 [==============================] - 67s 150ms/step - loss: 0.6606 - accuracy: 0.7715 - val_loss: 1.5538 - val_accuracy: 0.4932\n",
            "Epoch 11/30\n",
            "449/449 [==============================] - 67s 149ms/step - loss: 0.5588 - accuracy: 0.8121 - val_loss: 1.6533 - val_accuracy: 0.4948\n",
            "Epoch 12/30\n",
            "449/449 [==============================] - 67s 148ms/step - loss: 0.4589 - accuracy: 0.8500 - val_loss: 1.8124 - val_accuracy: 0.5018\n"
          ]
        }
      ]
    },
    {
      "cell_type": "code",
      "source": [
        "model.summary()"
      ],
      "metadata": {
        "colab": {
          "base_uri": "https://localhost:8080/"
        },
        "id": "JxrU9szo5nbq",
        "outputId": "50ab7f50-8fa1-4a14-9ae9-c321f96a6782"
      },
      "execution_count": 35,
      "outputs": [
        {
          "output_type": "stream",
          "name": "stdout",
          "text": [
            "Model: \"sequential_4\"\n",
            "_________________________________________________________________\n",
            " Layer (type)                Output Shape              Param #   \n",
            "=================================================================\n",
            " conv2d_4 (Conv2D)           (None, 46, 46, 32)        320       \n",
            "                                                                 \n",
            " max_pooling2d_4 (MaxPooling  (None, 23, 23, 32)       0         \n",
            " 2D)                                                             \n",
            "                                                                 \n",
            " conv2d_5 (Conv2D)           (None, 21, 21, 64)        18496     \n",
            "                                                                 \n",
            " max_pooling2d_5 (MaxPooling  (None, 10, 10, 64)       0         \n",
            " 2D)                                                             \n",
            "                                                                 \n",
            " conv2d_6 (Conv2D)           (None, 8, 8, 64)          36928     \n",
            "                                                                 \n",
            " max_pooling2d_6 (MaxPooling  (None, 4, 4, 64)         0         \n",
            " 2D)                                                             \n",
            "                                                                 \n",
            " flatten_4 (Flatten)         (None, 1024)              0         \n",
            "                                                                 \n",
            " dense_8 (Dense)             (None, 128)               131200    \n",
            "                                                                 \n",
            " dense_9 (Dense)             (None, 7)                 903       \n",
            "                                                                 \n",
            "=================================================================\n",
            "Total params: 187,847\n",
            "Trainable params: 187,847\n",
            "Non-trainable params: 0\n",
            "_________________________________________________________________\n"
          ]
        }
      ]
    },
    {
      "cell_type": "code",
      "source": [
        "# CNN\n",
        "img_height = 48\n",
        "img_width = 48\n",
        "ch = 1\n",
        "\n",
        "model = Sequential([\n",
        "                    Conv2D(32, (3, 3), activation='relu', input_shape=(img_height, img_width, ch)),\n",
        "                    MaxPooling2D((2, 2)),\n",
        "                    Conv2D(64, (3, 3), activation='relu'),\n",
        "                    MaxPooling2D((2, 2)),\n",
        "                    Conv2D(64, (3, 3), activation='relu'),\n",
        "                    MaxPooling2D((2, 2)),\n",
        "                    Flatten(),\n",
        "                    Dense(128, activation='relu'),\n",
        "                    Dense(7, activation='softmax')\n",
        "])\n",
        "# 모델 컴파일\n",
        "model.compile(optimizer='adam',\n",
        "              loss='sparse_categorical_crossentropy',\n",
        "              metrics=['accuracy'])\n",
        "\n",
        "early_stopping = EarlyStopping(monitor='val_accuracy', patience=3) \n",
        "\n",
        "# 훈련(학습)\n",
        "history = model.fit(x_train, y_train,  validation_data=(x_val, y_val), epochs=30, batch_size=64, callbacks=[early_stopping])"
      ],
      "metadata": {
        "colab": {
          "base_uri": "https://localhost:8080/"
        },
        "id": "v_WRkxof2JRe",
        "outputId": "c2fdd7fe-97f9-4e00-db52-bf899baeee63"
      },
      "execution_count": 36,
      "outputs": [
        {
          "output_type": "stream",
          "name": "stdout",
          "text": [
            "Epoch 1/30\n",
            "449/449 [==============================] - 86s 191ms/step - loss: 1.6597 - accuracy: 0.3394 - val_loss: 1.4643 - val_accuracy: 0.4422\n",
            "Epoch 2/30\n",
            "449/449 [==============================] - 86s 191ms/step - loss: 1.3906 - accuracy: 0.4724 - val_loss: 1.3341 - val_accuracy: 0.4926\n",
            "Epoch 3/30\n",
            "449/449 [==============================] - 85s 190ms/step - loss: 1.2825 - accuracy: 0.5133 - val_loss: 1.2754 - val_accuracy: 0.5104\n",
            "Epoch 4/30\n",
            "449/449 [==============================] - 85s 190ms/step - loss: 1.2041 - accuracy: 0.5476 - val_loss: 1.2616 - val_accuracy: 0.5116\n",
            "Epoch 5/30\n",
            "449/449 [==============================] - 86s 191ms/step - loss: 1.1476 - accuracy: 0.5656 - val_loss: 1.1935 - val_accuracy: 0.5469\n",
            "Epoch 6/30\n",
            "449/449 [==============================] - 86s 192ms/step - loss: 1.0934 - accuracy: 0.5856 - val_loss: 1.2182 - val_accuracy: 0.5400\n",
            "Epoch 7/30\n",
            "449/449 [==============================] - 87s 193ms/step - loss: 1.0473 - accuracy: 0.6043 - val_loss: 1.1927 - val_accuracy: 0.5450\n",
            "Epoch 8/30\n",
            "449/449 [==============================] - 86s 193ms/step - loss: 0.9993 - accuracy: 0.6252 - val_loss: 1.1731 - val_accuracy: 0.5575\n",
            "Epoch 9/30\n",
            "449/449 [==============================] - 87s 193ms/step - loss: 0.9472 - accuracy: 0.6466 - val_loss: 1.1680 - val_accuracy: 0.5545\n",
            "Epoch 10/30\n",
            "449/449 [==============================] - 86s 192ms/step - loss: 0.9011 - accuracy: 0.6640 - val_loss: 1.1897 - val_accuracy: 0.5612\n",
            "Epoch 11/30\n",
            "449/449 [==============================] - 86s 191ms/step - loss: 0.8570 - accuracy: 0.6807 - val_loss: 1.1988 - val_accuracy: 0.5662\n",
            "Epoch 12/30\n",
            "449/449 [==============================] - 86s 190ms/step - loss: 0.8096 - accuracy: 0.7010 - val_loss: 1.2270 - val_accuracy: 0.5589\n",
            "Epoch 13/30\n",
            "449/449 [==============================] - 85s 190ms/step - loss: 0.7570 - accuracy: 0.7220 - val_loss: 1.2712 - val_accuracy: 0.5489\n",
            "Epoch 14/30\n",
            "449/449 [==============================] - 85s 190ms/step - loss: 0.7127 - accuracy: 0.7382 - val_loss: 1.2853 - val_accuracy: 0.5595\n"
          ]
        }
      ]
    },
    {
      "cell_type": "code",
      "source": [
        "model.summary()"
      ],
      "metadata": {
        "colab": {
          "base_uri": "https://localhost:8080/"
        },
        "id": "O1XCl1hn3D7I",
        "outputId": "8088570d-accf-4ee6-9f6f-83db02ff8bd9"
      },
      "execution_count": 37,
      "outputs": [
        {
          "output_type": "stream",
          "name": "stdout",
          "text": [
            "Model: \"sequential_5\"\n",
            "_________________________________________________________________\n",
            " Layer (type)                Output Shape              Param #   \n",
            "=================================================================\n",
            " conv2d_7 (Conv2D)           (None, 46, 46, 32)        320       \n",
            "                                                                 \n",
            " max_pooling2d_7 (MaxPooling  (None, 23, 23, 32)       0         \n",
            " 2D)                                                             \n",
            "                                                                 \n",
            " conv2d_8 (Conv2D)           (None, 21, 21, 64)        18496     \n",
            "                                                                 \n",
            " max_pooling2d_8 (MaxPooling  (None, 10, 10, 64)       0         \n",
            " 2D)                                                             \n",
            "                                                                 \n",
            " conv2d_9 (Conv2D)           (None, 8, 8, 64)          36928     \n",
            "                                                                 \n",
            " max_pooling2d_9 (MaxPooling  (None, 4, 4, 64)         0         \n",
            " 2D)                                                             \n",
            "                                                                 \n",
            " flatten_5 (Flatten)         (None, 1024)              0         \n",
            "                                                                 \n",
            " dense_10 (Dense)            (None, 128)               131200    \n",
            "                                                                 \n",
            " dense_11 (Dense)            (None, 7)                 903       \n",
            "                                                                 \n",
            "=================================================================\n",
            "Total params: 187,847\n",
            "Trainable params: 187,847\n",
            "Non-trainable params: 0\n",
            "_________________________________________________________________\n"
          ]
        }
      ]
    },
    {
      "cell_type": "code",
      "source": [
        "plt.plot(history.history['accuracy'])\n",
        "plt.plot(history.history['val_accuracy'])\n",
        "plt.xlabel('epoch')\n",
        "plt.ylabel('accuracy')\n",
        "plt.legend(['training', 'validation'])"
      ],
      "metadata": {
        "colab": {
          "base_uri": "https://localhost:8080/",
          "height": 297
        },
        "id": "MtkVmEhJ3GkM",
        "outputId": "d961e6da-79e1-4463-fb6d-ad4f0844dbcf"
      },
      "execution_count": 38,
      "outputs": [
        {
          "output_type": "execute_result",
          "data": {
            "text/plain": [
              "<matplotlib.legend.Legend at 0x7f9cba4d8d10>"
            ]
          },
          "metadata": {},
          "execution_count": 38
        },
        {
          "output_type": "display_data",
          "data": {
            "image/png": "[encoded data removed]",
            "text/plain": [
              "<Figure size 432x288 with 1 Axes>"
            ]
          },
          "metadata": {
            "needs_background": "light"
          }
        }
      ]
    },
    {
      "cell_type": "code",
      "source": [
        "plt.plot(history.history['loss'])\n",
        "plt.plot(history.history['val_loss'])\n",
        "plt.xlabel('epoch')\n",
        "plt.ylabel('loss')\n",
        "plt.legend(['training', 'validation'])"
      ],
      "metadata": {
        "colab": {
          "base_uri": "https://localhost:8080/",
          "height": 297
        },
        "id": "Ehmngqnn3JPl",
        "outputId": "f3540770-2606-498a-e867-cc81c40d2229"
      },
      "execution_count": 39,
      "outputs": [
        {
          "output_type": "execute_result",
          "data": {
            "text/plain": [
              "<matplotlib.legend.Legend at 0x7f9cba5adc50>"
            ]
          },
          "metadata": {},
          "execution_count": 39
        },
        {
          "output_type": "display_data",
          "data": {
            "image/png": "[encoded data removed]",
            "text/plain": [
              "<Figure size 432x288 with 1 Axes>"
            ]
          },
          "metadata": {
            "needs_background": "light"
          }
        }
      ]
    },
    {
      "cell_type": "code",
      "source": [
        "oss, acc = model.evaluate(x_test, y_test)\n",
        "print('test정확도:', acc)"
      ],
      "metadata": {
        "colab": {
          "base_uri": "https://localhost:8080/"
        },
        "id": "06w2Go9V3L8s",
        "outputId": "70475e7e-4422-498c-b152-ed821e847345"
      },
      "execution_count": 40,
      "outputs": [
        {
          "output_type": "stream",
          "name": "stdout",
          "text": [
            "113/113 [==============================] - 3s 27ms/step - loss: 1.3172 - accuracy: 0.5570\n",
            "test정확도: 0.5569796562194824\n"
          ]
        }
      ]
    }
  ]
}