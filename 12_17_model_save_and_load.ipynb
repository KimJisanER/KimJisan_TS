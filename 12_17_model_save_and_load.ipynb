{
  "nbformat": 4,
  "nbformat_minor": 0,
  "metadata": {
    "colab": {
      "name": "12_17_model_save_and_load.ipynb",
      "provenance": [],
      "authorship_tag": "ABX9TyNQmT2fKb3PHFXKAvgNIvLa",
      "include_colab_link": true
    },
    "kernelspec": {
      "name": "python3",
      "display_name": "Python 3"
    },
    "language_info": {
      "name": "python"
    }
  },
  "cells": [
    {
      "cell_type": "markdown",
      "metadata": {
        "id": "view-in-github",
        "colab_type": "text"
      },
      "source": [
        "<a href=\"https://colab.research.google.com/github/KimJisanER/KimJisan_TS/blob/main/12_17_model_save_and_load.ipynb\" target=\"_parent\"><img src=\"https://colab.research.google.com/assets/colab-badge.svg\" alt=\"Open In Colab\"/></a>"
      ]
    },
    {
      "cell_type": "code",
      "execution_count": 1,
      "metadata": {
        "id": "6pX-GfABL-yn"
      },
      "outputs": [],
      "source": [
        "from tensorflow.keras.callbacks import ModelCheckpoint"
      ]
    },
    {
      "cell_type": "markdown",
      "source": [
        "모델 가중치 저장 및 불러오기"
      ],
      "metadata": {
        "id": "t55pLOxiMSok"
      }
    },
    {
      "cell_type": "code",
      "source": [
        "cp_path = 'model_save/cp.ckpt'\n",
        "checkpoint= ModelCheckpoint(filepath=cp_path,\n",
        "                            save_best_only=True,\n",
        "                            save_weights_only=True,\n",
        "                            verbose=1)"
      ],
      "metadata": {
        "id": "_Fu8S-xuMRtm"
      },
      "execution_count": 2,
      "outputs": []
    },
    {
      "cell_type": "code",
      "source": [
        "# 라이브러리 불러오기\n",
        "import tensorflow as tf\n",
        "from tensorflow.keras.models import Sequential\n",
        "from tensorflow.keras.layers import Dense, Flatten\n",
        "\n",
        "# Mnist 데이터셋\n",
        "mnist = tf.keras.datasets.mnist\n",
        "(X_train,y_train),(X_test, y_test) = mnist.load_data()\n",
        "\n",
        "# 열악한 학습데이터 환경 설정 (5000개)\n",
        "X_train = X_train[:5000]\n",
        "y_train = y_train[:5000]\n",
        "\n",
        "# 모델 (함수)\n",
        "def load_model():\n",
        "  model = Sequential([\n",
        "                      Flatten(input_shape=(28,28)),\n",
        "                      Dense(64, activation='relu'),\n",
        "                      Dense(10, activation='softmax')\n",
        "  ])\n",
        "  model.compile(optimizer='adam',\n",
        "                loss='sparse_categorical_crossentropy',\n",
        "                metrics=['accuracy'])\n",
        "  return model\n",
        "\n",
        "model = load_model()\n",
        "model.fit(X_train, y_train, validation_split=0.2, epochs=10, batch_size=64, callbacks=[checkpoint], verbose=2)"
      ],
      "metadata": {
        "colab": {
          "base_uri": "https://localhost:8080/"
        },
        "id": "DX-9ENKaMv7P",
        "outputId": "36756ec2-623b-489e-8bdd-a6c557f9de0e"
      },
      "execution_count": 3,
      "outputs": [
        {
          "output_type": "stream",
          "name": "stdout",
          "text": [
            "Downloading data from https://storage.googleapis.com/tensorflow/tf-keras-datasets/mnist.npz\n",
            "11493376/11490434 [==============================] - 2s 0us/step\n",
            "11501568/11490434 [==============================] - 2s 0us/step\n",
            "Epoch 1/10\n",
            "\n",
            "Epoch 00001: val_loss improved from inf to 8.51632, saving model to model_save/cp.ckpt\n",
            "63/63 - 1s - loss: 21.9374 - accuracy: 0.6620 - val_loss: 8.5163 - val_accuracy: 0.8070 - 1s/epoch - 21ms/step\n",
            "Epoch 2/10\n",
            "\n",
            "Epoch 00002: val_loss improved from 8.51632 to 5.37320, saving model to model_save/cp.ckpt\n",
            "63/63 - 0s - loss: 4.6268 - accuracy: 0.8485 - val_loss: 5.3732 - val_accuracy: 0.8450 - 216ms/epoch - 3ms/step\n",
            "Epoch 3/10\n",
            "\n",
            "Epoch 00003: val_loss improved from 5.37320 to 5.01133, saving model to model_save/cp.ckpt\n",
            "63/63 - 0s - loss: 2.5113 - accuracy: 0.8970 - val_loss: 5.0113 - val_accuracy: 0.8430 - 252ms/epoch - 4ms/step\n",
            "Epoch 4/10\n",
            "\n",
            "Epoch 00004: val_loss improved from 5.01133 to 4.24961, saving model to model_save/cp.ckpt\n",
            "63/63 - 0s - loss: 1.5358 - accuracy: 0.9227 - val_loss: 4.2496 - val_accuracy: 0.8610 - 286ms/epoch - 5ms/step\n",
            "Epoch 5/10\n",
            "\n",
            "Epoch 00005: val_loss did not improve from 4.24961\n",
            "63/63 - 0s - loss: 0.9091 - accuracy: 0.9395 - val_loss: 4.4799 - val_accuracy: 0.8680 - 221ms/epoch - 4ms/step\n",
            "Epoch 6/10\n",
            "\n",
            "Epoch 00006: val_loss improved from 4.24961 to 4.00150, saving model to model_save/cp.ckpt\n",
            "63/63 - 0s - loss: 0.6383 - accuracy: 0.9538 - val_loss: 4.0015 - val_accuracy: 0.8720 - 247ms/epoch - 4ms/step\n",
            "Epoch 7/10\n",
            "\n",
            "Epoch 00007: val_loss did not improve from 4.00150\n",
            "63/63 - 0s - loss: 0.3686 - accuracy: 0.9653 - val_loss: 4.3445 - val_accuracy: 0.8680 - 225ms/epoch - 4ms/step\n",
            "Epoch 8/10\n",
            "\n",
            "Epoch 00008: val_loss did not improve from 4.00150\n",
            "63/63 - 0s - loss: 0.2986 - accuracy: 0.9710 - val_loss: 4.6078 - val_accuracy: 0.8610 - 211ms/epoch - 3ms/step\n",
            "Epoch 9/10\n",
            "\n",
            "Epoch 00009: val_loss improved from 4.00150 to 3.96265, saving model to model_save/cp.ckpt\n",
            "63/63 - 0s - loss: 0.2287 - accuracy: 0.9750 - val_loss: 3.9627 - val_accuracy: 0.8790 - 264ms/epoch - 4ms/step\n",
            "Epoch 10/10\n",
            "\n",
            "Epoch 00010: val_loss did not improve from 3.96265\n",
            "63/63 - 0s - loss: 0.1320 - accuracy: 0.9818 - val_loss: 4.4039 - val_accuracy: 0.8660 - 270ms/epoch - 4ms/step\n"
          ]
        },
        {
          "output_type": "execute_result",
          "data": {
            "text/plain": [
              "<keras.callbacks.History at 0x7f118bd57790>"
            ]
          },
          "metadata": {},
          "execution_count": 3
        }
      ]
    },
    {
      "cell_type": "code",
      "source": [
        "# 새 모델\n",
        "model = load_model()\n",
        "model.evaluate(X_test, y_test)"
      ],
      "metadata": {
        "colab": {
          "base_uri": "https://localhost:8080/"
        },
        "id": "oI5Ihx9mO8Ef",
        "outputId": "f9d3de82-d98b-4b8e-ea1c-ada8c20c038a"
      },
      "execution_count": 4,
      "outputs": [
        {
          "output_type": "stream",
          "name": "stdout",
          "text": [
            "313/313 [==============================] - 0s 957us/step - loss: 210.9290 - accuracy: 0.1202\n"
          ]
        },
        {
          "output_type": "execute_result",
          "data": {
            "text/plain": [
              "[210.9290008544922, 0.12020000070333481]"
            ]
          },
          "metadata": {},
          "execution_count": 4
        }
      ]
    },
    {
      "cell_type": "code",
      "source": [
        "# 저장된 모델 가중치 불러오기\n",
        "model.load_weights(cp_path)\n",
        "model.evaluate(X_test,y_test)"
      ],
      "metadata": {
        "colab": {
          "base_uri": "https://localhost:8080/"
        },
        "id": "xlEqgVFuPFnD",
        "outputId": "ac04159f-e02a-4dd3-e0fe-dac9a2bd5f55"
      },
      "execution_count": 6,
      "outputs": [
        {
          "output_type": "stream",
          "name": "stdout",
          "text": [
            "313/313 [==============================] - 1s 2ms/step - loss: 3.9714 - accuracy: 0.8743\n"
          ]
        },
        {
          "output_type": "execute_result",
          "data": {
            "text/plain": [
              "[3.9714417457580566, 0.8743000030517578]"
            ]
          },
          "metadata": {},
          "execution_count": 6
        }
      ]
    },
    {
      "cell_type": "markdown",
      "source": [
        "모델 전체 저장 및 불러오기"
      ],
      "metadata": {
        "id": "ojf-cd_DPqjr"
      }
    },
    {
      "cell_type": "code",
      "source": [
        "# 방법 1\n",
        "model = load_model()\n",
        "checkpoint = ModelCheckpoint('model_save.h5')\n",
        "model.fit(X_train, y_train, epochs=3, callbacks=[checkpoint]) "
      ],
      "metadata": {
        "colab": {
          "base_uri": "https://localhost:8080/"
        },
        "id": "9r3OHXflPttY",
        "outputId": "3e5ba611-05ef-4da1-85e1-1ccd1f0ea843"
      },
      "execution_count": 7,
      "outputs": [
        {
          "output_type": "stream",
          "name": "stdout",
          "text": [
            "Epoch 1/3\n",
            "157/157 [==============================] - 0s 1ms/step - loss: 15.4825 - accuracy: 0.6564\n",
            "Epoch 2/3\n",
            "157/157 [==============================] - 0s 2ms/step - loss: 1.8293 - accuracy: 0.7532\n",
            "Epoch 3/3\n",
            "157/157 [==============================] - 0s 2ms/step - loss: 0.9008 - accuracy: 0.8092\n"
          ]
        },
        {
          "output_type": "execute_result",
          "data": {
            "text/plain": [
              "<keras.callbacks.History at 0x7f118bb68dd0>"
            ]
          },
          "metadata": {},
          "execution_count": 7
        }
      ]
    },
    {
      "cell_type": "code",
      "source": [
        "# 방법 2\n",
        "model = load_model()\n",
        "model.fit(X_train, y_train, epochs=3)\n",
        "model.save('model_save2.h5')"
      ],
      "metadata": {
        "colab": {
          "base_uri": "https://localhost:8080/"
        },
        "id": "sWi_PxaMQAL9",
        "outputId": "2da557db-d34f-46a8-c066-abff6f948c95"
      },
      "execution_count": 8,
      "outputs": [
        {
          "output_type": "stream",
          "name": "stdout",
          "text": [
            "Epoch 1/3\n",
            "157/157 [==============================] - 0s 1ms/step - loss: 14.5644 - accuracy: 0.7104\n",
            "Epoch 2/3\n",
            "157/157 [==============================] - 0s 2ms/step - loss: 3.0458 - accuracy: 0.8552\n",
            "Epoch 3/3\n",
            "157/157 [==============================] - 0s 2ms/step - loss: 1.5303 - accuracy: 0.8822\n"
          ]
        }
      ]
    },
    {
      "cell_type": "code",
      "source": [
        "from tensorflow.keras.models import load_model\n",
        "\n",
        "model = load_model('model_save2.h5')\n",
        "model.evaluate(X_test, y_test)"
      ],
      "metadata": {
        "colab": {
          "base_uri": "https://localhost:8080/"
        },
        "id": "vmg7uuqoQOvt",
        "outputId": "c6c0acdf-d5b6-4260-e2fa-a876d501021e"
      },
      "execution_count": 9,
      "outputs": [
        {
          "output_type": "stream",
          "name": "stdout",
          "text": [
            "313/313 [==============================] - 0s 921us/step - loss: 2.4944 - accuracy: 0.8247\n"
          ]
        },
        {
          "output_type": "execute_result",
          "data": {
            "text/plain": [
              "[2.4943687915802, 0.8246999979019165]"
            ]
          },
          "metadata": {},
          "execution_count": 9
        }
      ]
    }
  ]
}