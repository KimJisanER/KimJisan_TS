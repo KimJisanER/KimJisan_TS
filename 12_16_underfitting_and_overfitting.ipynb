{
  "nbformat": 4,
  "nbformat_minor": 0,
  "metadata": {
    "colab": {
      "name": "Untitled2.ipynb",
      "provenance": [],
      "authorship_tag": "ABX9TyMzEhxbOP119Ct7XQPDmSwm",
      "include_colab_link": true
    },
    "kernelspec": {
      "name": "python3",
      "display_name": "Python 3"
    },
    "language_info": {
      "name": "python"
    }
  },
  "cells": [
    {
      "cell_type": "markdown",
      "metadata": {
        "id": "view-in-github",
        "colab_type": "text"
      },
      "source": [
        "<a href=\"https://colab.research.google.com/github/KimJisanER/KimJisan_TS/blob/main/12_16_underfitting_and_overfitting.ipynb\" target=\"_parent\"><img src=\"https://colab.research.google.com/assets/colab-badge.svg\" alt=\"Open In Colab\"/></a>"
      ]
    },
    {
      "cell_type": "code",
      "execution_count": 1,
      "metadata": {
        "colab": {
          "base_uri": "https://localhost:8080/"
        },
        "id": "w-J3-Fo0mf6O",
        "outputId": "02a98bdc-877d-49d3-e65a-deaa809d8274"
      },
      "outputs": [
        {
          "output_type": "stream",
          "name": "stdout",
          "text": [
            "Downloading data from https://storage.googleapis.com/tensorflow/tf-keras-datasets/mnist.npz\n",
            "11493376/11490434 [==============================] - 0s 0us/step\n",
            "11501568/11490434 [==============================] - 0s 0us/step\n",
            "Epoch 1/100\n",
            "750/750 [==============================] - 6s 6ms/step - loss: 4.6870 - accuracy: 0.8029 - val_loss: 0.8145 - val_accuracy: 0.8360\n",
            "Epoch 2/100\n",
            "750/750 [==============================] - 4s 6ms/step - loss: 0.6429 - accuracy: 0.8608 - val_loss: 0.5336 - val_accuracy: 0.8763\n",
            "Epoch 3/100\n",
            "750/750 [==============================] - 4s 6ms/step - loss: 0.4374 - accuracy: 0.8955 - val_loss: 0.4642 - val_accuracy: 0.8968\n",
            "Epoch 4/100\n",
            "750/750 [==============================] - 4s 6ms/step - loss: 0.3616 - accuracy: 0.9091 - val_loss: 0.4552 - val_accuracy: 0.9097\n",
            "Epoch 5/100\n",
            "750/750 [==============================] - 4s 6ms/step - loss: 0.3038 - accuracy: 0.9223 - val_loss: 0.3668 - val_accuracy: 0.9285\n",
            "Epoch 6/100\n",
            "750/750 [==============================] - 5s 6ms/step - loss: 0.2731 - accuracy: 0.9294 - val_loss: 0.3450 - val_accuracy: 0.9316\n",
            "Epoch 7/100\n",
            "750/750 [==============================] - 3s 3ms/step - loss: 0.2388 - accuracy: 0.9379 - val_loss: 0.3217 - val_accuracy: 0.9215\n",
            "Epoch 8/100\n",
            "750/750 [==============================] - 2s 3ms/step - loss: 0.2210 - accuracy: 0.9403 - val_loss: 0.2978 - val_accuracy: 0.9333\n",
            "Epoch 9/100\n",
            "750/750 [==============================] - 2s 3ms/step - loss: 0.2050 - accuracy: 0.9461 - val_loss: 0.2651 - val_accuracy: 0.9416\n",
            "Epoch 10/100\n",
            "750/750 [==============================] - 2s 3ms/step - loss: 0.1880 - accuracy: 0.9497 - val_loss: 0.2551 - val_accuracy: 0.9414\n",
            "Epoch 11/100\n",
            "750/750 [==============================] - 2s 3ms/step - loss: 0.1727 - accuracy: 0.9528 - val_loss: 0.2501 - val_accuracy: 0.9455\n",
            "Epoch 12/100\n",
            "750/750 [==============================] - 2s 3ms/step - loss: 0.1760 - accuracy: 0.9537 - val_loss: 0.2471 - val_accuracy: 0.9430\n",
            "Epoch 13/100\n",
            "750/750 [==============================] - 2s 3ms/step - loss: 0.1589 - accuracy: 0.9565 - val_loss: 0.2604 - val_accuracy: 0.9463\n",
            "Epoch 14/100\n",
            "750/750 [==============================] - 2s 3ms/step - loss: 0.1538 - accuracy: 0.9588 - val_loss: 0.2467 - val_accuracy: 0.9470\n",
            "Epoch 15/100\n",
            "750/750 [==============================] - 2s 3ms/step - loss: 0.1483 - accuracy: 0.9599 - val_loss: 0.2401 - val_accuracy: 0.9494\n",
            "Epoch 16/100\n",
            "750/750 [==============================] - 2s 3ms/step - loss: 0.1411 - accuracy: 0.9615 - val_loss: 0.2363 - val_accuracy: 0.9509\n",
            "Epoch 17/100\n",
            "750/750 [==============================] - 2s 3ms/step - loss: 0.1373 - accuracy: 0.9637 - val_loss: 0.2412 - val_accuracy: 0.9499\n",
            "Epoch 18/100\n",
            "750/750 [==============================] - 2s 3ms/step - loss: 0.1352 - accuracy: 0.9635 - val_loss: 0.2819 - val_accuracy: 0.9466\n",
            "Epoch 19/100\n",
            "750/750 [==============================] - 2s 3ms/step - loss: 0.1261 - accuracy: 0.9659 - val_loss: 0.2464 - val_accuracy: 0.9490\n",
            "Epoch 20/100\n",
            "750/750 [==============================] - 2s 3ms/step - loss: 0.1209 - accuracy: 0.9676 - val_loss: 0.2789 - val_accuracy: 0.9437\n",
            "Epoch 21/100\n",
            "750/750 [==============================] - 2s 3ms/step - loss: 0.1210 - accuracy: 0.9673 - val_loss: 0.2642 - val_accuracy: 0.9518\n",
            "Epoch 22/100\n",
            "750/750 [==============================] - 2s 3ms/step - loss: 0.1159 - accuracy: 0.9688 - val_loss: 0.3214 - val_accuracy: 0.9467\n",
            "Epoch 23/100\n",
            "750/750 [==============================] - 2s 3ms/step - loss: 0.1167 - accuracy: 0.9688 - val_loss: 0.2445 - val_accuracy: 0.9518\n",
            "Epoch 24/100\n",
            "750/750 [==============================] - 2s 3ms/step - loss: 0.1119 - accuracy: 0.9700 - val_loss: 0.3230 - val_accuracy: 0.9464\n",
            "Epoch 25/100\n",
            "750/750 [==============================] - 2s 3ms/step - loss: 0.1152 - accuracy: 0.9697 - val_loss: 0.2845 - val_accuracy: 0.9558\n",
            "Epoch 26/100\n",
            "750/750 [==============================] - 2s 3ms/step - loss: 0.1096 - accuracy: 0.9703 - val_loss: 0.2995 - val_accuracy: 0.9488\n",
            "Epoch 27/100\n",
            "750/750 [==============================] - 2s 3ms/step - loss: 0.1083 - accuracy: 0.9701 - val_loss: 0.3127 - val_accuracy: 0.9491\n",
            "Epoch 28/100\n",
            "750/750 [==============================] - 2s 3ms/step - loss: 0.1077 - accuracy: 0.9715 - val_loss: 0.3311 - val_accuracy: 0.9487\n",
            "Epoch 29/100\n",
            "750/750 [==============================] - 2s 3ms/step - loss: 0.1050 - accuracy: 0.9717 - val_loss: 0.2945 - val_accuracy: 0.9548\n",
            "Epoch 30/100\n",
            "750/750 [==============================] - 2s 3ms/step - loss: 0.0988 - accuracy: 0.9728 - val_loss: 0.3022 - val_accuracy: 0.9510\n",
            "Epoch 31/100\n",
            "750/750 [==============================] - 2s 3ms/step - loss: 0.1041 - accuracy: 0.9726 - val_loss: 0.3254 - val_accuracy: 0.9493\n",
            "Epoch 32/100\n",
            "750/750 [==============================] - 2s 3ms/step - loss: 0.0986 - accuracy: 0.9738 - val_loss: 0.2868 - val_accuracy: 0.9511\n",
            "Epoch 33/100\n",
            "750/750 [==============================] - 2s 3ms/step - loss: 0.0950 - accuracy: 0.9743 - val_loss: 0.3142 - val_accuracy: 0.9513\n",
            "Epoch 34/100\n",
            "750/750 [==============================] - 2s 3ms/step - loss: 0.1010 - accuracy: 0.9726 - val_loss: 0.3340 - val_accuracy: 0.9529\n",
            "Epoch 35/100\n",
            "750/750 [==============================] - 2s 3ms/step - loss: 0.0890 - accuracy: 0.9758 - val_loss: 0.3300 - val_accuracy: 0.9496\n",
            "Epoch 36/100\n",
            "750/750 [==============================] - 2s 3ms/step - loss: 0.1031 - accuracy: 0.9730 - val_loss: 0.3664 - val_accuracy: 0.9523\n",
            "Epoch 37/100\n",
            "750/750 [==============================] - 2s 3ms/step - loss: 0.1037 - accuracy: 0.9733 - val_loss: 0.3196 - val_accuracy: 0.9518\n",
            "Epoch 38/100\n",
            "750/750 [==============================] - 2s 3ms/step - loss: 0.0925 - accuracy: 0.9754 - val_loss: 0.3839 - val_accuracy: 0.9524\n",
            "Epoch 39/100\n",
            "750/750 [==============================] - 2s 3ms/step - loss: 0.0916 - accuracy: 0.9759 - val_loss: 0.3664 - val_accuracy: 0.9532\n",
            "Epoch 40/100\n",
            "750/750 [==============================] - 2s 3ms/step - loss: 0.0927 - accuracy: 0.9758 - val_loss: 0.3376 - val_accuracy: 0.9553\n",
            "Epoch 41/100\n",
            "750/750 [==============================] - 2s 3ms/step - loss: 0.0867 - accuracy: 0.9766 - val_loss: 0.3765 - val_accuracy: 0.9528\n",
            "Epoch 42/100\n",
            "750/750 [==============================] - 2s 3ms/step - loss: 0.0903 - accuracy: 0.9767 - val_loss: 0.3984 - val_accuracy: 0.9532\n",
            "Epoch 43/100\n",
            "750/750 [==============================] - 2s 3ms/step - loss: 0.0910 - accuracy: 0.9763 - val_loss: 0.3747 - val_accuracy: 0.9537\n",
            "Epoch 44/100\n",
            "750/750 [==============================] - 2s 3ms/step - loss: 0.0838 - accuracy: 0.9778 - val_loss: 0.3699 - val_accuracy: 0.9517\n",
            "Epoch 45/100\n",
            "750/750 [==============================] - 2s 3ms/step - loss: 0.0897 - accuracy: 0.9768 - val_loss: 0.4411 - val_accuracy: 0.9502\n",
            "Epoch 46/100\n",
            "750/750 [==============================] - 3s 3ms/step - loss: 0.0919 - accuracy: 0.9765 - val_loss: 0.3849 - val_accuracy: 0.9517\n",
            "Epoch 47/100\n",
            "750/750 [==============================] - 5s 6ms/step - loss: 0.0908 - accuracy: 0.9765 - val_loss: 0.4214 - val_accuracy: 0.9541\n",
            "Epoch 48/100\n",
            "750/750 [==============================] - 5s 6ms/step - loss: 0.0805 - accuracy: 0.9790 - val_loss: 0.4536 - val_accuracy: 0.9500\n",
            "Epoch 49/100\n",
            "750/750 [==============================] - 6s 7ms/step - loss: 0.0838 - accuracy: 0.9782 - val_loss: 0.3740 - val_accuracy: 0.9539\n",
            "Epoch 50/100\n",
            "750/750 [==============================] - 6s 8ms/step - loss: 0.0826 - accuracy: 0.9785 - val_loss: 0.4061 - val_accuracy: 0.9517\n",
            "Epoch 51/100\n",
            "750/750 [==============================] - 6s 7ms/step - loss: 0.0912 - accuracy: 0.9774 - val_loss: 0.4408 - val_accuracy: 0.9529\n",
            "Epoch 52/100\n",
            "750/750 [==============================] - 3s 3ms/step - loss: 0.0873 - accuracy: 0.9779 - val_loss: 0.4040 - val_accuracy: 0.9536\n",
            "Epoch 53/100\n",
            "750/750 [==============================] - 2s 3ms/step - loss: 0.0865 - accuracy: 0.9788 - val_loss: 0.4287 - val_accuracy: 0.9495\n",
            "Epoch 54/100\n",
            "750/750 [==============================] - 2s 3ms/step - loss: 0.0820 - accuracy: 0.9784 - val_loss: 0.4230 - val_accuracy: 0.9507\n",
            "Epoch 55/100\n",
            "750/750 [==============================] - 2s 3ms/step - loss: 0.0803 - accuracy: 0.9793 - val_loss: 0.4224 - val_accuracy: 0.9534\n",
            "Epoch 56/100\n",
            "750/750 [==============================] - 2s 3ms/step - loss: 0.0813 - accuracy: 0.9792 - val_loss: 0.4647 - val_accuracy: 0.9537\n",
            "Epoch 57/100\n",
            "750/750 [==============================] - 2s 3ms/step - loss: 0.0780 - accuracy: 0.9803 - val_loss: 0.4255 - val_accuracy: 0.9516\n",
            "Epoch 58/100\n",
            "750/750 [==============================] - 2s 3ms/step - loss: 0.0802 - accuracy: 0.9798 - val_loss: 0.4536 - val_accuracy: 0.9523\n",
            "Epoch 59/100\n",
            "750/750 [==============================] - 2s 3ms/step - loss: 0.0804 - accuracy: 0.9799 - val_loss: 0.4735 - val_accuracy: 0.9510\n",
            "Epoch 60/100\n",
            "750/750 [==============================] - 2s 3ms/step - loss: 0.0895 - accuracy: 0.9788 - val_loss: 0.4502 - val_accuracy: 0.9532\n",
            "Epoch 61/100\n",
            "750/750 [==============================] - 2s 3ms/step - loss: 0.0796 - accuracy: 0.9800 - val_loss: 0.4545 - val_accuracy: 0.9498\n",
            "Epoch 62/100\n",
            "750/750 [==============================] - 2s 3ms/step - loss: 0.0766 - accuracy: 0.9802 - val_loss: 0.5199 - val_accuracy: 0.9479\n",
            "Epoch 63/100\n",
            "750/750 [==============================] - 2s 3ms/step - loss: 0.0766 - accuracy: 0.9809 - val_loss: 0.4756 - val_accuracy: 0.9525\n",
            "Epoch 64/100\n",
            "750/750 [==============================] - 2s 3ms/step - loss: 0.0843 - accuracy: 0.9799 - val_loss: 0.5112 - val_accuracy: 0.9553\n",
            "Epoch 65/100\n",
            "750/750 [==============================] - 2s 3ms/step - loss: 0.0813 - accuracy: 0.9810 - val_loss: 0.4756 - val_accuracy: 0.9533\n",
            "Epoch 66/100\n",
            "750/750 [==============================] - 2s 3ms/step - loss: 0.0895 - accuracy: 0.9797 - val_loss: 0.4259 - val_accuracy: 0.9560\n",
            "Epoch 67/100\n",
            "750/750 [==============================] - 2s 3ms/step - loss: 0.0774 - accuracy: 0.9810 - val_loss: 0.5267 - val_accuracy: 0.9528\n",
            "Epoch 68/100\n",
            "750/750 [==============================] - 2s 3ms/step - loss: 0.0769 - accuracy: 0.9809 - val_loss: 0.4926 - val_accuracy: 0.9517\n",
            "Epoch 69/100\n",
            "750/750 [==============================] - 2s 3ms/step - loss: 0.0758 - accuracy: 0.9815 - val_loss: 0.5173 - val_accuracy: 0.9512\n",
            "Epoch 70/100\n",
            "750/750 [==============================] - 2s 3ms/step - loss: 0.0802 - accuracy: 0.9809 - val_loss: 0.5300 - val_accuracy: 0.9518\n",
            "Epoch 71/100\n",
            "750/750 [==============================] - 2s 3ms/step - loss: 0.0675 - accuracy: 0.9826 - val_loss: 0.5488 - val_accuracy: 0.9517\n",
            "Epoch 72/100\n",
            "750/750 [==============================] - 2s 3ms/step - loss: 0.0756 - accuracy: 0.9817 - val_loss: 0.5452 - val_accuracy: 0.9522\n",
            "Epoch 73/100\n",
            "750/750 [==============================] - 2s 3ms/step - loss: 0.0805 - accuracy: 0.9806 - val_loss: 0.5289 - val_accuracy: 0.9546\n",
            "Epoch 74/100\n",
            "750/750 [==============================] - 2s 3ms/step - loss: 0.0722 - accuracy: 0.9819 - val_loss: 0.5605 - val_accuracy: 0.9495\n",
            "Epoch 75/100\n",
            "750/750 [==============================] - 2s 3ms/step - loss: 0.0816 - accuracy: 0.9812 - val_loss: 0.4980 - val_accuracy: 0.9522\n",
            "Epoch 76/100\n",
            "750/750 [==============================] - 2s 3ms/step - loss: 0.0656 - accuracy: 0.9830 - val_loss: 0.5482 - val_accuracy: 0.9523\n",
            "Epoch 77/100\n",
            "750/750 [==============================] - 2s 3ms/step - loss: 0.0716 - accuracy: 0.9826 - val_loss: 0.6252 - val_accuracy: 0.9438\n",
            "Epoch 78/100\n",
            "750/750 [==============================] - 2s 3ms/step - loss: 0.0759 - accuracy: 0.9813 - val_loss: 0.5787 - val_accuracy: 0.9540\n",
            "Epoch 79/100\n",
            "750/750 [==============================] - 2s 3ms/step - loss: 0.0741 - accuracy: 0.9830 - val_loss: 0.5810 - val_accuracy: 0.9530\n",
            "Epoch 80/100\n",
            "750/750 [==============================] - 2s 3ms/step - loss: 0.0741 - accuracy: 0.9821 - val_loss: 0.6162 - val_accuracy: 0.9543\n",
            "Epoch 81/100\n",
            "750/750 [==============================] - 2s 3ms/step - loss: 0.0781 - accuracy: 0.9819 - val_loss: 0.5624 - val_accuracy: 0.9510\n",
            "Epoch 82/100\n",
            "750/750 [==============================] - 2s 3ms/step - loss: 0.0778 - accuracy: 0.9822 - val_loss: 0.5677 - val_accuracy: 0.9527\n",
            "Epoch 83/100\n",
            "750/750 [==============================] - 2s 3ms/step - loss: 0.0617 - accuracy: 0.9843 - val_loss: 0.5684 - val_accuracy: 0.9538\n",
            "Epoch 84/100\n",
            "750/750 [==============================] - 3s 4ms/step - loss: 0.0734 - accuracy: 0.9825 - val_loss: 0.5882 - val_accuracy: 0.9530\n",
            "Epoch 85/100\n",
            "750/750 [==============================] - 3s 5ms/step - loss: 0.0720 - accuracy: 0.9827 - val_loss: 0.6471 - val_accuracy: 0.9489\n",
            "Epoch 86/100\n",
            "750/750 [==============================] - 2s 3ms/step - loss: 0.0821 - accuracy: 0.9819 - val_loss: 0.6218 - val_accuracy: 0.9540\n",
            "Epoch 87/100\n",
            "750/750 [==============================] - 2s 3ms/step - loss: 0.0729 - accuracy: 0.9833 - val_loss: 0.6571 - val_accuracy: 0.9519\n",
            "Epoch 88/100\n",
            "750/750 [==============================] - 2s 3ms/step - loss: 0.0721 - accuracy: 0.9826 - val_loss: 0.5896 - val_accuracy: 0.9538\n",
            "Epoch 89/100\n",
            "750/750 [==============================] - 2s 3ms/step - loss: 0.0701 - accuracy: 0.9829 - val_loss: 0.6157 - val_accuracy: 0.9533\n",
            "Epoch 90/100\n",
            "750/750 [==============================] - 2s 3ms/step - loss: 0.0651 - accuracy: 0.9837 - val_loss: 0.6996 - val_accuracy: 0.9483\n",
            "Epoch 91/100\n",
            "750/750 [==============================] - 2s 3ms/step - loss: 0.0773 - accuracy: 0.9821 - val_loss: 0.6902 - val_accuracy: 0.9497\n",
            "Epoch 92/100\n",
            "750/750 [==============================] - 2s 3ms/step - loss: 0.0675 - accuracy: 0.9836 - val_loss: 0.7138 - val_accuracy: 0.9503\n",
            "Epoch 93/100\n",
            "750/750 [==============================] - 2s 3ms/step - loss: 0.0815 - accuracy: 0.9825 - val_loss: 0.6948 - val_accuracy: 0.9517\n",
            "Epoch 94/100\n",
            "750/750 [==============================] - 2s 3ms/step - loss: 0.0676 - accuracy: 0.9833 - val_loss: 0.6478 - val_accuracy: 0.9538\n",
            "Epoch 95/100\n",
            "750/750 [==============================] - 2s 3ms/step - loss: 0.0686 - accuracy: 0.9836 - val_loss: 0.6822 - val_accuracy: 0.9528\n",
            "Epoch 96/100\n",
            "750/750 [==============================] - 2s 3ms/step - loss: 0.0737 - accuracy: 0.9830 - val_loss: 0.6759 - val_accuracy: 0.9545\n",
            "Epoch 97/100\n",
            "750/750 [==============================] - 2s 3ms/step - loss: 0.0662 - accuracy: 0.9841 - val_loss: 0.7359 - val_accuracy: 0.9539\n",
            "Epoch 98/100\n",
            "750/750 [==============================] - 2s 3ms/step - loss: 0.0662 - accuracy: 0.9840 - val_loss: 0.6965 - val_accuracy: 0.9529\n",
            "Epoch 99/100\n",
            "750/750 [==============================] - 2s 3ms/step - loss: 0.0634 - accuracy: 0.9841 - val_loss: 0.6825 - val_accuracy: 0.9523\n",
            "Epoch 100/100\n",
            "750/750 [==============================] - 2s 3ms/step - loss: 0.0737 - accuracy: 0.9830 - val_loss: 0.7201 - val_accuracy: 0.9505\n"
          ]
        }
      ],
      "source": [
        "# 라이브러리 불러오기\n",
        "import tensorflow as tf\n",
        "from tensorflow.keras.models import Sequential\n",
        "from tensorflow.keras.layers import Dense, Flatten\n",
        "\n",
        "# Mnist 데이터셋\n",
        "mnist = tf.keras.datasets.mnist\n",
        "(X, y), (x_test, y_test) = mnist.load_data()\n",
        "\n",
        "# 시퀀셜 모델 만들기\n",
        "model = Sequential([\n",
        "                    Flatten(input_shape=(28,28)),\n",
        "                    Dense(64, activation='relu'),\n",
        "                    Dense(10, activation='softmax')\n",
        "])\n",
        "\n",
        "# 모델 컴파일\n",
        "\n",
        "model.compile(optimizer='adam',\n",
        "              loss='sparse_categorical_crossentropy',\n",
        "              metrics=['accuracy'])\n",
        "\n",
        "#훈련(학습) validation_split\n",
        "history = model.fit(X,y, validation_split=0.2, epochs=100, batch_size=64)"
      ]
    },
    {
      "cell_type": "code",
      "source": [
        "import matplotlib.pyplot as plt\n",
        "\n",
        "plt.plot(history.history['accuracy'])\n",
        "plt.plot(history.history['val_accuracy'])\n",
        "plt.xlabel('epochs')\n",
        "plt.ylabel('accuracy')\n",
        "plt.legend(['training','validation'])"
      ],
      "metadata": {
        "colab": {
          "base_uri": "https://localhost:8080/",
          "height": 297
        },
        "id": "rjYdqe2ZnUG7",
        "outputId": "2fd7f817-04da-4829-9c98-4de29801ef08"
      },
      "execution_count": 2,
      "outputs": [
        {
          "output_type": "execute_result",
          "data": {
            "text/plain": [
              "<matplotlib.legend.Legend at 0x7f69ab43a610>"
            ]
          },
          "metadata": {},
          "execution_count": 2
        },
        {
          "output_type": "display_data",
          "data": {
            "image/png": "[encoded data removed]",
            "text/plain": [
              "<Figure size 432x288 with 1 Axes>"
            ]
          },
          "metadata": {
            "needs_background": "light"
          }
        }
      ]
    },
    {
      "cell_type": "code",
      "source": [
        "import matplotlib.pyplot as plt\n",
        "\n",
        "plt.plot(history.history['loss'])\n",
        "plt.plot(history.history['val_loss'])\n",
        "plt.xlabel('epochs')\n",
        "plt.ylabel('loss')\n",
        "plt.legend(['training','validation'])"
      ],
      "metadata": {
        "colab": {
          "base_uri": "https://localhost:8080/",
          "height": 297
        },
        "id": "4QOiczjbnh6X",
        "outputId": "b802dc2e-1761-4504-a871-59e8c43b92f5"
      },
      "execution_count": 3,
      "outputs": [
        {
          "output_type": "execute_result",
          "data": {
            "text/plain": [
              "<matplotlib.legend.Legend at 0x7f69acbb1c10>"
            ]
          },
          "metadata": {},
          "execution_count": 3
        },
        {
          "output_type": "display_data",
          "data": {
            "image/png": "[encoded data removed]",
            "text/plain": [
              "<Figure size 432x288 with 1 Axes>"
            ]
          },
          "metadata": {
            "needs_background": "light"
          }
        }
      ]
    }
  ]
}