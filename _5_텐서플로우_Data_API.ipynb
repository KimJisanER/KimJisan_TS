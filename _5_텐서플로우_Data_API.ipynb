{
  "nbformat": 4,
  "nbformat_minor": 0,
  "metadata": {
    "colab": {
      "name": "_5 텐서플로우 Data API",
      "provenance": [],
      "collapsed_sections": [],
      "include_colab_link": true
    },
    "kernelspec": {
      "name": "python3",
      "display_name": "Python 3"
    }
  },
  "cells": [
    {
      "cell_type": "markdown",
      "metadata": {
        "id": "view-in-github",
        "colab_type": "text"
      },
      "source": [
        "<a href=\"https://colab.research.google.com/github/KimJisanER/KimJisan_TS/blob/main/_5_%ED%85%90%EC%84%9C%ED%94%8C%EB%A1%9C%EC%9A%B0_Data_API.ipynb\" target=\"_parent\"><img src=\"https://colab.research.google.com/assets/colab-badge.svg\" alt=\"Open In Colab\"/></a>"
      ]
    },
    {
      "cell_type": "markdown",
      "metadata": {
        "id": "pvT4Kena44U-"
      },
      "source": [
        "# Data API\n",
        "\n",
        "- `tf.data`: https://www.tensorflow.org/api_docs/python/tf/data\n",
        "- `tf.data.datasets`\n",
        "\n"
      ]
    },
    {
      "cell_type": "markdown",
      "metadata": {
        "id": "qMJ7xx8N882t"
      },
      "source": [
        "## tf.data.datasets"
      ]
    },
    {
      "cell_type": "code",
      "metadata": {
        "id": "uA_5y-rv5K0x"
      },
      "source": [
        "import tensorflow as tf\n",
        "import tensorflow_datasets as tfds"
      ],
      "execution_count": 56,
      "outputs": []
    },
    {
      "cell_type": "code",
      "metadata": {
        "id": "_77BigY5g3hd",
        "colab": {
          "base_uri": "https://localhost:8080/"
        },
        "outputId": "16b4dbfd-a068-4236-c13d-131b4b8ec49e"
      },
      "source": [
        "builders = tfds.list_builders()\n",
        "print(builders)"
      ],
      "execution_count": 57,
      "outputs": [
        {
          "output_type": "stream",
          "name": "stdout",
          "text": [
            "['abstract_reasoning', 'accentdb', 'aeslc', 'aflw2k3d', 'ag_news_subset', 'ai2_arc', 'ai2_arc_with_ir', 'amazon_us_reviews', 'anli', 'arc', 'bair_robot_pushing_small', 'bccd', 'beans', 'big_patent', 'bigearthnet', 'billsum', 'binarized_mnist', 'binary_alpha_digits', 'blimp', 'bool_q', 'c4', 'caltech101', 'caltech_birds2010', 'caltech_birds2011', 'cars196', 'cassava', 'cats_vs_dogs', 'celeb_a', 'celeb_a_hq', 'cfq', 'chexpert', 'cifar10', 'cifar100', 'cifar10_1', 'cifar10_corrupted', 'citrus_leaves', 'cityscapes', 'civil_comments', 'clevr', 'clic', 'clinc_oos', 'cmaterdb', 'cnn_dailymail', 'coco', 'coco_captions', 'coil100', 'colorectal_histology', 'colorectal_histology_large', 'common_voice', 'coqa', 'cos_e', 'cosmos_qa', 'covid19sum', 'crema_d', 'curated_breast_imaging_ddsm', 'cycle_gan', 'deep_weeds', 'definite_pronoun_resolution', 'dementiabank', 'diabetic_retinopathy_detection', 'div2k', 'dmlab', 'downsampled_imagenet', 'dsprites', 'dtd', 'duke_ultrasound', 'emnist', 'eraser_multi_rc', 'esnli', 'eurosat', 'fashion_mnist', 'flic', 'flores', 'food101', 'forest_fires', 'fuss', 'gap', 'geirhos_conflict_stimuli', 'genomics_ood', 'german_credit_numeric', 'gigaword', 'glue', 'goemotions', 'gpt3', 'groove', 'gtzan', 'gtzan_music_speech', 'hellaswag', 'higgs', 'horses_or_humans', 'i_naturalist2017', 'imagenet2012', 'imagenet2012_corrupted', 'imagenet2012_real', 'imagenet2012_subset', 'imagenet_a', 'imagenet_r', 'imagenet_resized', 'imagenet_v2', 'imagenette', 'imagewang', 'imdb_reviews', 'irc_disentanglement', 'iris', 'kitti', 'kmnist', 'lfw', 'librispeech', 'librispeech_lm', 'libritts', 'ljspeech', 'lm1b', 'lost_and_found', 'lsun', 'malaria', 'math_dataset', 'mctaco', 'mnist', 'mnist_corrupted', 'movie_lens', 'movie_rationales', 'movielens', 'moving_mnist', 'multi_news', 'multi_nli', 'multi_nli_mismatch', 'natural_questions', 'natural_questions_open', 'newsroom', 'nsynth', 'nyu_depth_v2', 'omniglot', 'open_images_challenge2019_detection', 'open_images_v4', 'openbookqa', 'opinion_abstracts', 'opinosis', 'opus', 'oxford_flowers102', 'oxford_iiit_pet', 'para_crawl', 'patch_camelyon', 'paws_wiki', 'paws_x_wiki', 'pet_finder', 'pg19', 'places365_small', 'plant_leaves', 'plant_village', 'plantae_k', 'qa4mre', 'qasc', 'quickdraw_bitmap', 'radon', 'reddit', 'reddit_disentanglement', 'reddit_tifu', 'resisc45', 'robonet', 'rock_paper_scissors', 'rock_you', 'salient_span_wikipedia', 'samsum', 'savee', 'scan', 'scene_parse150', 'scicite', 'scientific_papers', 'sentiment140', 'shapes3d', 'smallnorb', 'snli', 'so2sat', 'speech_commands', 'spoken_digit', 'squad', 'stanford_dogs', 'stanford_online_products', 'starcraft_video', 'stl10', 'sun397', 'super_glue', 'svhn_cropped', 'ted_hrlr_translate', 'ted_multi_translate', 'tedlium', 'tf_flowers', 'the300w_lp', 'tiny_shakespeare', 'titanic', 'trec', 'trivia_qa', 'tydi_qa', 'uc_merced', 'ucf101', 'vctk', 'vgg_face2', 'visual_domain_decathlon', 'voc', 'voxceleb', 'voxforge', 'waymo_open_dataset', 'web_questions', 'wider_face', 'wiki40b', 'wikihow', 'wikipedia', 'wikipedia_toxicity_subtypes', 'wine_quality', 'winogrande', 'wmt14_translate', 'wmt15_translate', 'wmt16_translate', 'wmt17_translate', 'wmt18_translate', 'wmt19_translate', 'wmt_t2t_translate', 'wmt_translate', 'wordnet', 'xnli', 'xquad', 'xsum', 'yelp_polarity_reviews', 'yes_no']\n"
          ]
        }
      ]
    },
    {
      "cell_type": "code",
      "metadata": {
        "id": "wmRzwmofg3ef"
      },
      "source": [
        "data, info =tfds.load('mnist', with_info=True)\n",
        "train_data, test_data = data['train'], data['test']"
      ],
      "execution_count": 58,
      "outputs": []
    },
    {
      "cell_type": "code",
      "metadata": {
        "id": "PgvmOxeYg3bi",
        "colab": {
          "base_uri": "https://localhost:8080/"
        },
        "outputId": "003f03d0-f286-4f2d-cb4d-59b50db366be"
      },
      "source": [
        "print(info)"
      ],
      "execution_count": 59,
      "outputs": [
        {
          "output_type": "stream",
          "name": "stdout",
          "text": [
            "tfds.core.DatasetInfo(\n",
            "    name='mnist',\n",
            "    version=3.0.1,\n",
            "    description='The MNIST database of handwritten digits.',\n",
            "    homepage='http://yann.lecun.com/exdb/mnist/',\n",
            "    features=FeaturesDict({\n",
            "        'image': Image(shape=(28, 28, 1), dtype=tf.uint8),\n",
            "        'label': ClassLabel(shape=(), dtype=tf.int64, num_classes=10),\n",
            "    }),\n",
            "    total_num_examples=70000,\n",
            "    splits={\n",
            "        'test': 10000,\n",
            "        'train': 60000,\n",
            "    },\n",
            "    supervised_keys=('image', 'label'),\n",
            "    citation=\"\"\"@article{lecun2010mnist,\n",
            "      title={MNIST handwritten digit database},\n",
            "      author={LeCun, Yann and Cortes, Corinna and Burges, CJ},\n",
            "      journal={ATT Labs [Online]. Available: http://yann.lecun.com/exdb/mnist},\n",
            "      volume={2},\n",
            "      year={2010}\n",
            "    }\"\"\",\n",
            "    redistribution_info=,\n",
            ")\n",
            "\n"
          ]
        }
      ]
    },
    {
      "cell_type": "markdown",
      "metadata": {
        "id": "adN6woERhQrO"
      },
      "source": [
        "## tf.data\n",
        "\n",
        "- 생성\n",
        "  - `from_tensor_slices()`: 개별 또는 다중 넘파이를 받고, 배치를 지원\n",
        "\n",
        "  - `from_tensors()`: 배치를 지원하지 않음\n",
        "\n",
        "  - `from_generator()`: 생성자 함수에서 입력을 취함\n",
        "\n",
        "- 변환\n",
        "\n",
        "  - `batch()`: 순차적으로 지정한 배치사이즈로 데이터셋을 분할\n",
        "\n",
        "  - `repeat()`: 데이터를 복제\n",
        "\n",
        "  - `shuffle()`: 데이터를 무작위로 섞음\n",
        "\n",
        "  - `map()`: 데이터에 함수를 적용\n",
        "\n",
        "  - `filter()`: 데이터를 거르고자 할 때 사용\n",
        "- 반복\n",
        "  - `next_batch = iterator.get_next()` 사용"
      ]
    },
    {
      "cell_type": "markdown",
      "metadata": {
        "id": "51d2wkdMhTBn"
      },
      "source": [
        "### from_tensor_slices"
      ]
    },
    {
      "cell_type": "code",
      "metadata": {
        "id": "HWzGguIUg3Yi"
      },
      "source": [
        "import numpy as np"
      ],
      "execution_count": 60,
      "outputs": []
    },
    {
      "cell_type": "code",
      "metadata": {
        "id": "aaO5aOqsg3Vf"
      },
      "source": [
        "num_items = 20\n",
        "num_list = np.arange(num_items)"
      ],
      "execution_count": 61,
      "outputs": []
    },
    {
      "cell_type": "code",
      "metadata": {
        "id": "rFKz4nK2g3Sd"
      },
      "source": [
        "num_list_dataset = tf.data.Dataset.from_tensor_slices(num_list)"
      ],
      "execution_count": 62,
      "outputs": []
    },
    {
      "cell_type": "code",
      "metadata": {
        "id": "gzqeoFS6g3Pg",
        "colab": {
          "base_uri": "https://localhost:8080/"
        },
        "outputId": "e6871272-8aa8-4b61-a190-ea7bc59b84c2"
      },
      "source": [
        "num_list_dataset"
      ],
      "execution_count": 63,
      "outputs": [
        {
          "output_type": "execute_result",
          "data": {
            "text/plain": [
              "<TensorSliceDataset element_spec=TensorSpec(shape=(), dtype=tf.int64, name=None)>"
            ]
          },
          "metadata": {},
          "execution_count": 63
        }
      ]
    },
    {
      "cell_type": "code",
      "metadata": {
        "id": "oBK4nAS7lpBJ",
        "colab": {
          "base_uri": "https://localhost:8080/"
        },
        "outputId": "007e8097-9d00-4b45-e428-afeaeba30c73"
      },
      "source": [
        "for item in num_list_dataset:\n",
        "  print(item)"
      ],
      "execution_count": 64,
      "outputs": [
        {
          "output_type": "stream",
          "name": "stdout",
          "text": [
            "tf.Tensor(0, shape=(), dtype=int64)\n",
            "tf.Tensor(1, shape=(), dtype=int64)\n",
            "tf.Tensor(2, shape=(), dtype=int64)\n",
            "tf.Tensor(3, shape=(), dtype=int64)\n",
            "tf.Tensor(4, shape=(), dtype=int64)\n",
            "tf.Tensor(5, shape=(), dtype=int64)\n",
            "tf.Tensor(6, shape=(), dtype=int64)\n",
            "tf.Tensor(7, shape=(), dtype=int64)\n",
            "tf.Tensor(8, shape=(), dtype=int64)\n",
            "tf.Tensor(9, shape=(), dtype=int64)\n",
            "tf.Tensor(10, shape=(), dtype=int64)\n",
            "tf.Tensor(11, shape=(), dtype=int64)\n",
            "tf.Tensor(12, shape=(), dtype=int64)\n",
            "tf.Tensor(13, shape=(), dtype=int64)\n",
            "tf.Tensor(14, shape=(), dtype=int64)\n",
            "tf.Tensor(15, shape=(), dtype=int64)\n",
            "tf.Tensor(16, shape=(), dtype=int64)\n",
            "tf.Tensor(17, shape=(), dtype=int64)\n",
            "tf.Tensor(18, shape=(), dtype=int64)\n",
            "tf.Tensor(19, shape=(), dtype=int64)\n"
          ]
        }
      ]
    },
    {
      "cell_type": "markdown",
      "metadata": {
        "id": "8oSVGyqAsJz3"
      },
      "source": [
        "### from_generator()\n",
        "- 해당 클래스 메서드를 사용하면 생성자에서 데이터셋 생성 가능\n",
        "- output_types, output_shapes 인수로 출력 자료형과 크기를 지정해주어야 함"
      ]
    },
    {
      "cell_type": "code",
      "metadata": {
        "id": "5LEG6TzOsOAB",
        "colab": {
          "base_uri": "https://localhost:8080/"
        },
        "outputId": "2e500c66-4947-49a2-94c9-3158d233ee60"
      },
      "source": [
        "import itertools\n",
        "\n",
        "def gen():\n",
        "  for i in itertools.count(1):\n",
        "    yield(i,[1]*i)\n",
        "\n",
        "dataset = tf.data.Dataset.from_generator(\n",
        "    gen,\n",
        "    (tf.int64, tf.int64),\n",
        "    (tf.TensorShape([]), tf.TensorShape([None]))\n",
        ")\n",
        "\n",
        "list(dataset.take(3).as_numpy_iterator())"
      ],
      "execution_count": 65,
      "outputs": [
        {
          "output_type": "execute_result",
          "data": {
            "text/plain": [
              "[(1, array([1])), (2, array([1, 1])), (3, array([1, 1, 1]))]"
            ]
          },
          "metadata": {},
          "execution_count": 65
        }
      ]
    },
    {
      "cell_type": "code",
      "metadata": {
        "id": "taha_e5QsN2U",
        "colab": {
          "base_uri": "https://localhost:8080/"
        },
        "outputId": "3eb74d56-4e82-4cef-b3c6-a2fb016e6276"
      },
      "source": [
        "def gen(stop):\n",
        "  for i in itertools.count(1):\n",
        "    if i < stop:\n",
        "      yield(i, [1]*i)\n",
        "\n",
        "dataset = tf.data.Dataset.from_generator(\n",
        "    gen, args=[10],\n",
        "    output_types=(tf.int64, tf.int64),\n",
        "    output_shapes=(tf.TensorShape([]), tf.TensorShape([None]))\n",
        ")\n",
        "list(dataset.take(5).as_numpy_iterator())"
      ],
      "execution_count": 66,
      "outputs": [
        {
          "output_type": "execute_result",
          "data": {
            "text/plain": [
              "[(1, array([1])),\n",
              " (2, array([1, 1])),\n",
              " (3, array([1, 1, 1])),\n",
              " (4, array([1, 1, 1, 1])),\n",
              " (5, array([1, 1, 1, 1, 1]))]"
            ]
          },
          "metadata": {},
          "execution_count": 66
        }
      ]
    },
    {
      "cell_type": "markdown",
      "metadata": {
        "id": "IQUCMAdilyA1"
      },
      "source": [
        "### batch, repeat\n",
        "- `batch()`: 배치 사이즈 크기\n",
        "- `repeat()`: 반복 횟수"
      ]
    },
    {
      "cell_type": "code",
      "metadata": {
        "id": "qJunKghtl0Mk"
      },
      "source": [
        "dataset = num_list_dataset.repeat(3).batch(7)"
      ],
      "execution_count": 67,
      "outputs": []
    },
    {
      "cell_type": "code",
      "metadata": {
        "id": "EwNlE6d2l0Qy",
        "colab": {
          "base_uri": "https://localhost:8080/"
        },
        "outputId": "2b802135-740d-4d58-81af-a6acddd4c8d4"
      },
      "source": [
        "for item in dataset:\n",
        "  print(item)"
      ],
      "execution_count": 68,
      "outputs": [
        {
          "output_type": "stream",
          "name": "stdout",
          "text": [
            "tf.Tensor([0 1 2 3 4 5 6], shape=(7,), dtype=int64)\n",
            "tf.Tensor([ 7  8  9 10 11 12 13], shape=(7,), dtype=int64)\n",
            "tf.Tensor([14 15 16 17 18 19  0], shape=(7,), dtype=int64)\n",
            "tf.Tensor([1 2 3 4 5 6 7], shape=(7,), dtype=int64)\n",
            "tf.Tensor([ 8  9 10 11 12 13 14], shape=(7,), dtype=int64)\n",
            "tf.Tensor([15 16 17 18 19  0  1], shape=(7,), dtype=int64)\n",
            "tf.Tensor([2 3 4 5 6 7 8], shape=(7,), dtype=int64)\n",
            "tf.Tensor([ 9 10 11 12 13 14 15], shape=(7,), dtype=int64)\n",
            "tf.Tensor([16 17 18 19], shape=(4,), dtype=int64)\n"
          ]
        }
      ]
    },
    {
      "cell_type": "code",
      "metadata": {
        "id": "cul1bFvImVxN"
      },
      "source": [
        "dataset = num_list_dataset.repeat(3).batch(7, drop_remainder=True)"
      ],
      "execution_count": 69,
      "outputs": []
    },
    {
      "cell_type": "code",
      "metadata": {
        "id": "IHZ8JHIBmt_f",
        "colab": {
          "base_uri": "https://localhost:8080/"
        },
        "outputId": "33d61980-c555-47bf-885f-dbb8e60d4718"
      },
      "source": [
        "for item in dataset:\n",
        "  print(item)"
      ],
      "execution_count": 70,
      "outputs": [
        {
          "output_type": "stream",
          "name": "stdout",
          "text": [
            "tf.Tensor([0 1 2 3 4 5 6], shape=(7,), dtype=int64)\n",
            "tf.Tensor([ 7  8  9 10 11 12 13], shape=(7,), dtype=int64)\n",
            "tf.Tensor([14 15 16 17 18 19  0], shape=(7,), dtype=int64)\n",
            "tf.Tensor([1 2 3 4 5 6 7], shape=(7,), dtype=int64)\n",
            "tf.Tensor([ 8  9 10 11 12 13 14], shape=(7,), dtype=int64)\n",
            "tf.Tensor([15 16 17 18 19  0  1], shape=(7,), dtype=int64)\n",
            "tf.Tensor([2 3 4 5 6 7 8], shape=(7,), dtype=int64)\n",
            "tf.Tensor([ 9 10 11 12 13 14 15], shape=(7,), dtype=int64)\n"
          ]
        }
      ]
    },
    {
      "cell_type": "markdown",
      "metadata": {
        "id": "xCAFfO6hmDDS"
      },
      "source": [
        "### map, filter\n",
        "- 전처리 단계에서 시행하여 원하지 않는 데이터를 거를 수 있음\n",
        "\n",
        "- `tf.Tensor` 자료형을 다룸"
      ]
    },
    {
      "cell_type": "code",
      "metadata": {
        "id": "lw37RX7KvN-K"
      },
      "source": [
        "from tensorflow.data import Dataset"
      ],
      "execution_count": 71,
      "outputs": []
    },
    {
      "cell_type": "code",
      "metadata": {
        "id": "ubOuEgxal0Hv",
        "colab": {
          "base_uri": "https://localhost:8080/"
        },
        "outputId": "4b1d034c-e323-4482-8de2-f79d61bc4cbe"
      },
      "source": [
        "dataset = Dataset.range(1,6)\n",
        "dataset = dataset.map(lambda x: x*2)\n",
        "list(dataset.as_numpy_iterator())"
      ],
      "execution_count": 72,
      "outputs": [
        {
          "output_type": "execute_result",
          "data": {
            "text/plain": [
              "[2, 4, 6, 8, 10]"
            ]
          },
          "metadata": {},
          "execution_count": 72
        }
      ]
    },
    {
      "cell_type": "code",
      "metadata": {
        "id": "jwxn37JRuzjV",
        "colab": {
          "base_uri": "https://localhost:8080/"
        },
        "outputId": "e68515f9-653b-4e03-ed79-f0276fc81eae"
      },
      "source": [
        "dataset = Dataset.range(5)\n",
        "result = dataset.map(lambda x: x + 1)\n",
        "result"
      ],
      "execution_count": 73,
      "outputs": [
        {
          "output_type": "execute_result",
          "data": {
            "text/plain": [
              "<MapDataset element_spec=TensorSpec(shape=(), dtype=tf.int64, name=None)>"
            ]
          },
          "metadata": {},
          "execution_count": 73
        }
      ]
    },
    {
      "cell_type": "code",
      "metadata": {
        "id": "FcwzArdpuzad",
        "colab": {
          "base_uri": "https://localhost:8080/"
        },
        "outputId": "66a3a1ec-cfad-40f1-c640-2b2faf0a9cee"
      },
      "source": [
        "elements = [(1,'one'),(2,'two'), (3,'three')]\n",
        "dataset = Dataset.from_generator(lambda: elements, (tf.int32, tf.string))\n",
        "\n",
        "result =dataset.map(lambda x_int, y_str: x_int)\n",
        "list(result.as_numpy_iterator())"
      ],
      "execution_count": 74,
      "outputs": [
        {
          "output_type": "execute_result",
          "data": {
            "text/plain": [
              "[1, 2, 3]"
            ]
          },
          "metadata": {},
          "execution_count": 74
        }
      ]
    },
    {
      "cell_type": "code",
      "metadata": {
        "id": "Tleeqc_GuzUX"
      },
      "source": [
        "dataset = Dataset.range(3)\n",
        "\n",
        "def g(x):\n",
        "  return tf.constant(10.5), tf.constant([\"One\", \"Two\", \"Three\"])\n",
        "\n",
        "  reslut = dataset.map(g)\n",
        "  result.element_spec "
      ],
      "execution_count": 75,
      "outputs": []
    },
    {
      "cell_type": "code",
      "metadata": {
        "id": "0aRvH0yR0H1H",
        "colab": {
          "base_uri": "https://localhost:8080/"
        },
        "outputId": "f6f0990f-48b5-41cc-d437-5e69395318b9"
      },
      "source": [
        "def h(x):\n",
        "  return 10.5, [\"One\", \"Two\", \"Three\"], np.array([1.0, 2.0], dtype=np.float64)\n",
        "\n",
        "result =dataset.map(h)\n",
        "result.element_spec"
      ],
      "execution_count": 76,
      "outputs": [
        {
          "output_type": "execute_result",
          "data": {
            "text/plain": [
              "(TensorSpec(shape=(), dtype=tf.float32, name=None),\n",
              " TensorSpec(shape=(3,), dtype=tf.string, name=None),\n",
              " TensorSpec(shape=(2,), dtype=tf.float64, name=None))"
            ]
          },
          "metadata": {},
          "execution_count": 76
        }
      ]
    },
    {
      "cell_type": "code",
      "metadata": {
        "id": "YxvOUl4u0HxH",
        "colab": {
          "base_uri": "https://localhost:8080/"
        },
        "outputId": "33bb524a-ebb0-4030-9652-0d3ef2cce28b"
      },
      "source": [
        "def i(x):\n",
        "  return (10.5, [12.5, 11.1]), \"One\",\"Two\" \n",
        "\n",
        "result = dataset.map(i)\n",
        "result.element_spec"
      ],
      "execution_count": 77,
      "outputs": [
        {
          "output_type": "execute_result",
          "data": {
            "text/plain": [
              "((TensorSpec(shape=(), dtype=tf.float32, name=None),\n",
              "  TensorSpec(shape=(2,), dtype=tf.float32, name=None)),\n",
              " TensorSpec(shape=(), dtype=tf.string, name=None),\n",
              " TensorSpec(shape=(), dtype=tf.string, name=None))"
            ]
          },
          "metadata": {},
          "execution_count": 77
        }
      ]
    },
    {
      "cell_type": "code",
      "metadata": {
        "id": "LeKdClAA0Vjy",
        "colab": {
          "base_uri": "https://localhost:8080/"
        },
        "outputId": "92385650-55a8-4b20-cd0b-5e95e0140d23"
      },
      "source": [
        "dataset = Dataset.from_tensor_slices([1,2,3,4,5,6,7,8,9,10])\n",
        "dataset = dataset.filter(lambda x: x < 3)\n",
        "list(dataset.as_numpy_iterator())"
      ],
      "execution_count": 78,
      "outputs": [
        {
          "output_type": "execute_result",
          "data": {
            "text/plain": [
              "[1, 2]"
            ]
          },
          "metadata": {},
          "execution_count": 78
        }
      ]
    },
    {
      "cell_type": "code",
      "metadata": {
        "id": "mnMR0g6Y0X8g",
        "colab": {
          "base_uri": "https://localhost:8080/"
        },
        "outputId": "c34b8183-b3e2-47a9-f785-c999ce2d0082"
      },
      "source": [
        "def filter_fn(x):\n",
        "  return tf.math.equal(x,1)\n",
        "\n",
        "dataset = dataset.filter(filter_fn)\n",
        "list(dataset.as_numpy_iterator())"
      ],
      "execution_count": 79,
      "outputs": [
        {
          "output_type": "execute_result",
          "data": {
            "text/plain": [
              "[1]"
            ]
          },
          "metadata": {},
          "execution_count": 79
        }
      ]
    },
    {
      "cell_type": "markdown",
      "metadata": {
        "id": "MZlHtx9HiBnw"
      },
      "source": [
        "### shuffle, take"
      ]
    },
    {
      "cell_type": "code",
      "metadata": {
        "id": "yVjGXd0Zg3MV"
      },
      "source": [
        "dataset, info = tfds.load('imdb_reviews', with_info=True, as_supervised=True)"
      ],
      "execution_count": 80,
      "outputs": []
    },
    {
      "cell_type": "code",
      "metadata": {
        "id": "aIYeC8XMg3JR",
        "colab": {
          "base_uri": "https://localhost:8080/"
        },
        "outputId": "06cd112f-3734-4291-febd-495ea39939d7"
      },
      "source": [
        "train_dataset = dataset['train']\n",
        "train_dataset = train_dataset.batch(5).shuffle(5).take(2)\n",
        "\n",
        "for data in train_dataset:\n",
        "  print(data)"
      ],
      "execution_count": 81,
      "outputs": [
        {
          "output_type": "stream",
          "name": "stdout",
          "text": [
            "(<tf.Tensor: shape=(5,), dtype=string, numpy=\n",
            "array([b'During a sleepless night, I was switching through the channels & found this embarrassment of a movie. What were they thinking?<br /><br />If this is life after \"Remote Control\" for Kari (Wuhrer) Salin, no wonder she\\'s gone nowhere.<br /><br />And why did David Keith take this role? It\\'s pathetic!<br /><br />Anyway, I turned on the movie near the end, so I didn\\'t get much of the plot. But this must\\'ve been the best part. This nerdy college kid brings home this dominatrix-ish girl...this scene is straight out of the comic books -- or the cheap porn movies. She calls the mother anal retentive and kisses the father \"Oh, I didn\\'t expect tongue!\" Great lines!<br /><br />After this, I had to see how it ended..<br /><br />Well, of course, this bitch from hell has a helluva past, so the SWAT team is upstairs. And yes...they surround her! And YES YES! The kid blows her brains out!!!! AHAHHAHAHAHA!!<br /><br />This is must-see TV. <br /><br />',\n",
            "       b'Cute film about three lively sisters from Switzerland (often seen running about in matching outfits) who want to get their parents back together (seems mom is still carrying the torch for dad) - so they sail off to New York to stop the dad from marrying a blonde gold-digger he calls \"Precious\". Dad hasn\\'t seen his daughters in ten years, they (oddly enough) don\\'t seem to mind and think he\\'s wonderful, and meanwhile Precious seems to lead a life mainly run by her overbearing mother (Alice Brady), a woman who just wants to see to it her daughter marries a rich man. The sisters get the idea of pushing Precious into the path of a drunken Hungarian count, tricking the two gold-digging women into thinking he is one of the richest men in Europe. But a case of mistaken identity makes the girls think the count is good-looking Ray Milland, who goes along with the scheme \\'cause he has a crush on sister Kay.<br /><br />This film is enjoyable, light fare. Barbara Read as Kay comes across as sweet and pretty, Ray Milland looks oh so young and handsome here (though, unfortunately, is given little to do), Alice Brady is quite good as the scheming mother - but it is Deanna Durbin, a real charmer and cute as a button playing youngest sister Penny, who pretty much steals the show. With absolutely beautiful vocals, she sings several songs throughout the film, though I actually would have liked to have seen them feature her even more in this. The plot in this film is a bit silly, but nevertheless, I found the film to be entertaining and fun.',\n",
            "       b\"This 1984 version of the Dickens' classic `A Christmas Carol,' directed by Clive Donner, stars George C. Scott as Ebenezer Scrooge. By this time around, the challenge for the filmmaker was to take such familiar material and make it seem fresh and new again; and, happily to say, with this film Donner not only met the challenge but surpassed any expectations anyone might have had for it. He tells the story with precision and an eye to detail, and extracts performances from his actors that are nothing less than superlative, especially Scott. One could argue that the definitive portrayal of Scrooge-- one of the best known characters in literary fiction, ever-- was created by Alastair Sim in the 1951 film; but I think with his performance here, Scott has now achieved that distinction. There is such a purity and honesty in his Scrooge that it becomes difficult to even consider anyone else in the role once you've seen Scott do it; simply put, he IS Scrooge. And what a tribute it is to such a gifted actor; to be able to take such a well known figure and make it so uniquely his own is quite miraculous. It is truly a joy to see an actor ply his trade so well, to be able to make a character so real, from every word he utters down to the finest expression of his face, and to make it all ring so true. It's a study in perfection.<br /><br />The other members of the cast are splendid as well, but then again they have to be in order to maintain the integrity of Scott's performance; and they do. Frank Finlay is the Ghost of Jacob Marley; a notable turn, though not as memorable, perhaps, as the one by Alec Guinness (as Marley) in the film, `Scrooge.' Angela Pleasence is a welcome visage as the Spirit of Christmas Past; Edward Woodward, grand and boisterous, and altogether convincing as the Spirit of Christmas Present; and Michael Carter, grim and menacing as the Spirit of Christmas Yet To Come.<br /><br />David Warner hits just the right mark with his Bob Cratchit, bringing a sincerity to the role that measures up well to the standard of quality set by Scott's Scrooge, and Susannah York fares just as well as Mrs. Cratchit. The real gem to be found here, though, is the performance of young Anthony Walters as Tiny Tim; it's heartfelt without ever becoming maudlin, and simply one of the best interpretations-- and the most real-- ever presented on film.<br /><br />The excellent supporting cast includes Roger Rees (Fred Holywell, and also the narrator of the film), Caroline Langrishe (Janet Holywell), Lucy Gutteridge (Belle), Michael Gough (Mr. Poole) and Joanne Whalley (Fan). A flawless presentation, this version of `A Christmas Carol' sets the standard against which all others must be gauged; no matter how many versions you may have seen, watching this one is like seeing it for the first time ever. And forever after, whenever you think of Scrooge, the image your mind will conjure up will be that of George C. Scott. A thoroughly entertaining and satisfying experience, this film demands a place in the annual schedule of the holiday festivities of every home. I rate this one 10/10.\",\n",
            "       b'Put the blame on executive producer Wes Craven and financiers the Weinsteins for this big-budget debacle: a thrash-metal updating of \"Dracula\", with a condescending verbal jab at Bram Stoker (who probably wouldn\\'t want his name on this thing anyway) and nothing much for the rest of us except slasher-styled jolts and gore. Christopher Plummer looks winded as Van Helsing in the modern-day--not just a descendant of Van Helsing but the real thing; he keeps himself going with leeches obtained from Count Dracula\\'s corpse, which is exhumed from its coffin after being stolen from Van Helsing\\'s vault and flown to New Orleans. This is just what New Orleans needs in the 21st Century! The film, well-produced but without a single original idea (except for multi-racial victims), is both repulsive and lazy, and after about an hour starts repeating itself. * from ****',\n",
            "       b'Hilarious, evocative, confusing, brilliant film. Reminds me of Bunuel\\'s L\\'Age D\\'Or or Jodorowsky\\'s Holy Mountain-- lots of strange characters mucking about and looking for..... what is it? I laughed almost the whole way through, all the while keeping a peripheral eye on the bewildered and occasionally horrified reactions of the audience that surrounded me in the theatre. Entertaining through and through, from the beginning to the guts and poisoned entrails all the way to the end, if it was an end. I only wish i could remember every detail. It haunts me sometimes.<br /><br />Honestly, though, i have only the most positive recollections of this film. As it doesn\\'t seem to be available to take home and watch, i suppose i\\'ll have to wait a few more years until Crispin Glover comes my way again with his Big Slide Show (and subsequent \"What is it?\" screening)... I saw this film in Atlanta almost directly after being involved in a rather devastating car crash, so i was slightly dazed at the time, which was perhaps a very good state of mind to watch the prophetic talking arthropods and the retards in the superhero costumes and godlike Glover in his appropriate burly-Q setting, scantily clad girlies rising out of the floor like a magnificent DADAist wet dream.<br /><br />Is it a statement on Life As We Know It? Of course everyone EXPECTS art to be just that. I rather think that the truth is more evident in the absences and in the negative space. What you don\\'t tell us is what we must deduce, but is far more valid than the lies that other people feed us day in and day out. Rather one \"WHAT IS IT?\" than 5000 movies like \"Titanic\" or \"Sleepless in Seattle\" (shudder, gag, groan).<br /><br />Thank you, Mr. Glover (additionally a fun man to watch on screen or at his Big Slide Show-- smart, funny, quirky, and outrageously hot). Make more films, write more books, keep the nightmare alive.'],\n",
            "      dtype=object)>, <tf.Tensor: shape=(5,), dtype=int64, numpy=array([0, 1, 1, 0, 1])>)\n",
            "(<tf.Tensor: shape=(5,), dtype=string, numpy=\n",
            "array([b\"This is a film which should be seen by anybody interested in, effected by, or suffering from an eating disorder. It is an amazingly accurate and sensitive portrayal of bulimia in a teenage girl, its causes and its symptoms. The girl is played by one of the most brilliant young actresses working in cinema today, Alison Lohman, who was later so spectacular in 'Where the Truth Lies'. I would recommend that this film be shown in all schools, as you will never see a better on this subject. Alison Lohman is absolutely outstanding, and one marvels at her ability to convey the anguish of a girl suffering from this compulsive disorder. If barometers tell us the air pressure, Alison Lohman tells us the emotional pressure with the same degree of accuracy. Her emotional range is so precise, each scene could be measured microscopically for its gradations of trauma, on a scale of rising hysteria and desperation which reaches unbearable intensity. Mare Winningham is the perfect choice to play her mother, and does so with immense sympathy and a range of emotions just as finely tuned as Lohman's. Together, they make a pair of sensitive emotional oscillators vibrating in resonance with one another. This film is really an astonishing achievement, and director Katt Shea should be proud of it. The only reason for not seeing it is if you are not interested in people. But even if you like nature films best, this is after all animal behaviour at the sharp edge. Bulimia is an extreme version of how a tormented soul can destroy her own body in a frenzy of despair. And if we don't sympathise with people suffering from the depths of despair, then we are dead inside.\",\n",
            "       b'Okay, you have:<br /><br />Penelope Keith as Miss Herringbone-Tweed, B.B.E. (Backbone of England.) She\\'s killed off in the first scene - that\\'s right, folks; this show has no backbone!<br /><br />Peter O\\'Toole as Ol\\' Colonel Cricket from The First War and now the emblazered Lord of the Manor.<br /><br />Joanna Lumley as the ensweatered Lady of the Manor, 20 years younger than the colonel and 20 years past her own prime but still glamourous (Brit spelling, not mine) enough to have a toy-boy on the side. It\\'s alright, they have Col. Cricket\\'s full knowledge and consent (they guy even comes \\'round for Christmas!) Still, she\\'s considerate of the colonel enough to have said toy-boy her own age (what a gal!)<br /><br />David McCallum as said toy-boy, equally as pointlessly glamourous as his squeeze. Pilcher couldn\\'t come up with any cover for him within the story, so she gave him a hush-hush job at the Circus.<br /><br />and finally:<br /><br />Susan Hampshire as Miss Polonia Teacups, Venerable Headmistress of the Venerable Girls\\' Boarding-School, serving tea in her office with a dash of deep, poignant advice for life in the outside world just before graduation. Her best bit of advice: \"I\\'ve only been to Nancherrow (the local Stately Home of England) once. I thought it was very beautiful but, somehow, not part of the real world.\" Well, we can\\'t say they didn\\'t warn us.<br /><br />Ah, Susan - time was, your character would have been running the whole show. They don\\'t write \\'em like that any more. Our loss, not yours.<br /><br />So - with a cast and setting like this, you have the re-makings of \"Brideshead Revisited,\" right?<br /><br />Wrong! They took these 1-dimensional supporting roles because they paid so well. After all, acting is one of the oldest temp-jobs there is (YOU name another!)<br /><br />First warning sign: lots and lots of backlighting. They get around it by shooting outdoors - \"hey, it\\'s just the sunlight!\"<br /><br />Second warning sign: Leading Lady cries a lot. When not crying, her eyes are moist. That\\'s the law of romance novels: Leading Lady is \"dewy-eyed.\"<br /><br />Henceforth, Leading Lady shall be known as L.L.<br /><br />Third warning sign: L.L. actually has stars in her eyes when she\\'s in love. Still, I\\'ll give Emily Mortimer an award just for having to act with that spotlight in her eyes (I wonder . did they use contacts?)<br /><br />And lastly, fourth warning sign: no on-screen female character is \"Mrs.\" She\\'s either \"Miss\" or \"Lady.\"<br /><br />When all was said and done, I still couldn\\'t tell you who was pursuing whom and why. I couldn\\'t even tell you what was said and done.<br /><br />To sum up: they all live through World War II without anything happening to them at all.<br /><br />OK, at the end, L.L. finds she\\'s lost her parents to the Japanese prison camps and baby sis comes home catatonic. Meanwhile (there\\'s always a \"meanwhile,\") some young guy L.L. had a crush on (when, I don\\'t know) comes home from some wartime tough spot and is found living on the street by Lady of the Manor (must be some street if SHE\\'s going to find him there.) Both war casualties are whisked away to recover at Nancherrow (SOMEBODY has to be \"whisked away\" SOMEWHERE in these romance stories!)<br /><br />Great drama.',\n",
            "       b'The film is based on a genuine 1950s novel.<br /><br />Journalist Colin McInnes wrote a set of three \"London novels\": \"Absolute Beginners\", \"City of Spades\" and \"Mr Love and Justice\". I have read all three. The first two are excellent. The last, perhaps an experiment that did not come off. But McInnes\\'s work is highly acclaimed; and rightly so. This musical is the novelist\\'s ultimate nightmare - to see the fruits of one\\'s mind being turned into a glitzy, badly-acted, soporific one-dimensional apology of a film that says it captures the spirit of 1950s London, and does nothing of the sort.<br /><br />Thank goodness Colin McInnes wasn\\'t alive to witness it.',\n",
            "       b'I really love the sexy action and sci-fi films of the sixties and its because of the actress\\'s that appeared in them. They found the sexiest women to be in these films and it didn\\'t matter if they could act (Remember \"Candy\"?). The reason I was disappointed by this film was because it wasn\\'t nostalgic enough. The story here has a European sci-fi film called \"Dragonfly\" being made and the director is fired. So the producers decide to let a young aspiring filmmaker (Jeremy Davies) to complete the picture. They\\'re is one real beautiful woman in the film who plays Dragonfly but she\\'s barely in it. Film is written and directed by Roman Coppola who uses some of his fathers exploits from his early days and puts it into the script. I wish the film could have been an homage to those early films. They could have lots of cameos by actors who appeared in them. There is one actor in this film who was popular from the sixties and its John Phillip Law (Barbarella). Gerard Depardieu, Giancarlo Giannini and Dean Stockwell appear as well. I guess I\\'m going to have to continue waiting for a director to make a good homage to the films of the sixties. If any are reading this, \"Make it as sexy as you can\"! I\\'ll be waiting!',\n",
            "       b'Sure, this one isn\\'t really a blockbuster, nor does it target such a position. \"Dieter\" is the first name of a quite popular German musician, who is either loved or hated for his kind of acting and thats exactly what this movie is about. It is based on the autobiography \"Dieter Bohlen\" wrote a few years ago but isn\\'t meant to be accurate on that. The movie is filled with some sexual offensive content (at least for American standard) which is either amusing (not for the other \"actors\" of course) or dumb - it depends on your individual kind of humor or on you being a \"Bohlen\"-Fan or not. Technically speaking there isn\\'t much to criticize. Speaking of me I find this movie to be an OK-movie.'],\n",
            "      dtype=object)>, <tf.Tensor: shape=(5,), dtype=int64, numpy=array([1, 0, 0, 0, 0])>)\n"
          ]
        }
      ]
    },
    {
      "cell_type": "markdown",
      "metadata": {
        "id": "4OqOaYk6k7wy"
      },
      "source": [
        "### get_next()"
      ]
    },
    {
      "cell_type": "code",
      "metadata": {
        "id": "m57rjJsskp8t",
        "colab": {
          "base_uri": "https://localhost:8080/"
        },
        "outputId": "7695ae8c-7341-4354-c894-fa66411f8070"
      },
      "source": [
        "dataset = Dataset.range(2)\n",
        "for element in dataset:\n",
        "  print(element)"
      ],
      "execution_count": 82,
      "outputs": [
        {
          "output_type": "stream",
          "name": "stdout",
          "text": [
            "tf.Tensor(0, shape=(), dtype=int64)\n",
            "tf.Tensor(1, shape=(), dtype=int64)\n"
          ]
        }
      ]
    },
    {
      "cell_type": "code",
      "metadata": {
        "id": "vitlC-JCkp4U",
        "colab": {
          "base_uri": "https://localhost:8080/"
        },
        "outputId": "74ae803c-6f04-4c0a-8232-23892792a278"
      },
      "source": [
        "dataset = Dataset.range(2)\n",
        "iterator = iter(dataset)\n",
        "\n",
        "print(dataset)\n",
        "print(iterator.get_next())\n",
        "print(iterator.get_next())"
      ],
      "execution_count": 83,
      "outputs": [
        {
          "output_type": "stream",
          "name": "stdout",
          "text": [
            "<RangeDataset element_spec=TensorSpec(shape=(), dtype=tf.int64, name=None)>\n",
            "tf.Tensor(0, shape=(), dtype=int64)\n",
            "tf.Tensor(1, shape=(), dtype=int64)\n"
          ]
        }
      ]
    },
    {
      "cell_type": "code",
      "metadata": {
        "id": "6o4XRcpLg3Fm",
        "colab": {
          "base_uri": "https://localhost:8080/"
        },
        "outputId": "4c155e4e-44ee-49ea-a913-543cc475292d"
      },
      "source": [
        "a = np.random.randint(0, 10, size =(2,3))\n",
        "print(a)\n",
        "\n",
        "dataset = Dataset.from_tensor_slices(a)\n",
        "iterator = iter(dataset)\n",
        "\n",
        "print(iterator.get_next())\n",
        "print(iterator.get_next())"
      ],
      "execution_count": 84,
      "outputs": [
        {
          "output_type": "stream",
          "name": "stdout",
          "text": [
            "[[2 1 8]\n",
            " [1 9 5]]\n",
            "tf.Tensor([2 1 8], shape=(3,), dtype=int64)\n",
            "tf.Tensor([1 9 5], shape=(3,), dtype=int64)\n"
          ]
        }
      ]
    },
    {
      "cell_type": "markdown",
      "metadata": {
        "id": "oAK97VN4JObZ"
      },
      "source": [
        "## tf.dataset을 이용한 Fashion-MNIST 분류"
      ]
    },
    {
      "cell_type": "markdown",
      "metadata": {
        "id": "8FyGWr9h5s9m"
      },
      "source": [
        "### modules import"
      ]
    },
    {
      "cell_type": "code",
      "metadata": {
        "id": "wtumZQhkobI5"
      },
      "source": [
        "import matplotlib.pyplot as plt\n",
        "plt.style.use('seaborn-white')\n",
        "\n",
        "from tensorflow.data import Dataset\n",
        "import tensorflow as tf\n",
        "from tensorflow.keras.layers import Dense, Input, Flatten, Dropout, Activation, BatchNormalization\n",
        "from tensorflow.keras.models import Model\n",
        "from tensorflow.keras.datasets.fashion_mnist import load_data"
      ],
      "execution_count": 85,
      "outputs": []
    },
    {
      "cell_type": "markdown",
      "metadata": {
        "id": "VOTtgNwc3R6f"
      },
      "source": [
        "### 데이터 로드"
      ]
    },
    {
      "cell_type": "code",
      "metadata": {
        "id": "8434sHHjob1L"
      },
      "source": [
        "(x_train, y_train),(x_test, y_test) = load_data()"
      ],
      "execution_count": 86,
      "outputs": []
    },
    {
      "cell_type": "code",
      "metadata": {
        "id": "bfxxi0TJ3kwq",
        "colab": {
          "base_uri": "https://localhost:8080/"
        },
        "outputId": "a9efa9c6-f20d-47f2-d99a-fd0f7d1c12ad"
      },
      "source": [
        "print(x_train.shape)\n",
        "print(y_train.shape)\n",
        "print(x_test.shape)\n",
        "print(y_test.shape)"
      ],
      "execution_count": 87,
      "outputs": [
        {
          "output_type": "stream",
          "name": "stdout",
          "text": [
            "(60000, 28, 28)\n",
            "(60000,)\n",
            "(10000, 28, 28)\n",
            "(10000,)\n"
          ]
        }
      ]
    },
    {
      "cell_type": "markdown",
      "metadata": {
        "id": "PPR9OD1w3mBQ"
      },
      "source": [
        "### 데이터 전처리"
      ]
    },
    {
      "cell_type": "code",
      "metadata": {
        "id": "U3W43mhxob4P"
      },
      "source": [
        "x_train = x_train / 255.\n",
        "x_test = x_test / 255."
      ],
      "execution_count": 88,
      "outputs": []
    },
    {
      "cell_type": "markdown",
      "metadata": {
        "id": "nm8NM-QX32sf"
      },
      "source": [
        "### tf.data 이용"
      ]
    },
    {
      "cell_type": "code",
      "metadata": {
        "id": "VC9howR-obaW"
      },
      "source": [
        "train_ds = Dataset.from_tensor_slices((x_train, y_train))\n",
        "\n",
        "train_ds = train_ds.shuffle(1000)\n",
        "train_ds = train_ds.batch(32)\n",
        "\n",
        "test_ds = Dataset.from_tensor_slices((x_test, y_test))\n",
        "test_ds = test_ds.batch(32)"
      ],
      "execution_count": 89,
      "outputs": []
    },
    {
      "cell_type": "code",
      "metadata": {
        "id": "FkbVvnrU5Idc"
      },
      "source": [
        "class_names=['T-shirt/top', 'Trouser',' Pullover', 'Dress', 'Coat', 'Sandal', 'Shirt', 'Sneaker', 'Bag' ,'Ankle boot']"
      ],
      "execution_count": 90,
      "outputs": []
    },
    {
      "cell_type": "markdown",
      "metadata": {
        "id": "aXJEB1qg4eB0"
      },
      "source": [
        "### 데이터 확인"
      ]
    },
    {
      "cell_type": "code",
      "metadata": {
        "id": "COlETHf2obVD",
        "colab": {
          "base_uri": "https://localhost:8080/",
          "height": 537
        },
        "outputId": "cfa92266-f3a6-4b0d-af37-709a8144a882"
      },
      "source": [
        "for image, label in train_ds.take(2):\n",
        "  plt.title(\"{}\".format(class_names[label[0]]))\n",
        "  plt.imshow(image[0, : ,:], cmap='gray')\n",
        "  plt.show()"
      ],
      "execution_count": 91,
      "outputs": [
        {
          "output_type": "display_data",
          "data": {
            "text/plain": [
              "<Figure size 432x288 with 1 Axes>"
            ],
            "image/png": "[encoded data removed]"
          },
          "metadata": {}
        },
        {
          "output_type": "display_data",
          "data": {
            "text/plain": [
              "<Figure size 432x288 with 1 Axes>"
            ],
            "image/png": "[encoded data removed]"
          },
          "metadata": {}
        }
      ]
    },
    {
      "cell_type": "markdown",
      "metadata": {
        "id": "-2PTjY1D5g4L"
      },
      "source": [
        "### 모델 생성\n",
        "- 임의의 모델"
      ]
    },
    {
      "cell_type": "code",
      "metadata": {
        "id": "g29WUBIKobRN"
      },
      "source": [
        "def build_model():\n",
        "  input = Input(shape=(28,28), name='input')\n",
        "  flatten = Flatten(input_shape=[28,28], name='flatten')(input)\n",
        "  \n",
        "  hidden1 = Dense(256, kernel_initializer='he_normal', name='hidden1')(flatten)\n",
        "  hidden1 = BatchNormalization()(hidden1)\n",
        "  hidden1 = Activation('relu')(hidden1)\n",
        "  dropout1 = Dropout(0.5)(hidden1)\n",
        "\n",
        "  hidden2 = Dense(100, kernel_initializer='he_normal', name='hidden2')(dropout1)\n",
        "  hidden2 = BatchNormalization()(hidden2)\n",
        "  hidden2 = Activation('relu')(hidden2)\n",
        "  dropout2 = Dropout(0.5)(hidden2)\n",
        "\n",
        "  hidden3 = Dense(100, kernel_initializer='he_normal', name='hidden3')(dropout2)\n",
        "  hidden3 = BatchNormalization()(hidden3)\n",
        "  hidden3 = Activation('relu')(hidden3)\n",
        "  dropout3 = Dropout(0.5)(hidden3)\n",
        "\n",
        "  hidden4 = Dense(50, kernel_initializer='he_normal', name='hidden4')(dropout3)\n",
        "  hidden4 = BatchNormalization()(hidden4)\n",
        "  hidden4 = Activation('relu')(hidden4)\n",
        "  dropout4 = Dropout(0.5)(hidden4)\n",
        "\n",
        "  output = Dense(10, activation= 'softmax', name = 'output')(dropout4)\n",
        "\n",
        "  model = Model(inputs=[input], outputs=output)\n",
        "\n",
        "  return model\n"
      ],
      "execution_count": 92,
      "outputs": []
    },
    {
      "cell_type": "code",
      "metadata": {
        "id": "q7YYIDZq8iRN"
      },
      "source": [
        "model = build_model()"
      ],
      "execution_count": 93,
      "outputs": []
    },
    {
      "cell_type": "code",
      "metadata": {
        "id": "qNlPrHBT9w-G",
        "colab": {
          "base_uri": "https://localhost:8080/"
        },
        "outputId": "8d460468-9d4d-447e-fed2-478c51e68032"
      },
      "source": [
        "model.summary()"
      ],
      "execution_count": 94,
      "outputs": [
        {
          "output_type": "stream",
          "name": "stdout",
          "text": [
            "Model: \"model_1\"\n",
            "_________________________________________________________________\n",
            " Layer (type)                Output Shape              Param #   \n",
            "=================================================================\n",
            " input (InputLayer)          [(None, 28, 28)]          0         \n",
            "                                                                 \n",
            " flatten (Flatten)           (None, 784)               0         \n",
            "                                                                 \n",
            " hidden1 (Dense)             (None, 256)               200960    \n",
            "                                                                 \n",
            " batch_normalization_4 (Batc  (None, 256)              1024      \n",
            " hNormalization)                                                 \n",
            "                                                                 \n",
            " activation_4 (Activation)   (None, 256)               0         \n",
            "                                                                 \n",
            " dropout_4 (Dropout)         (None, 256)               0         \n",
            "                                                                 \n",
            " hidden2 (Dense)             (None, 100)               25700     \n",
            "                                                                 \n",
            " batch_normalization_5 (Batc  (None, 100)              400       \n",
            " hNormalization)                                                 \n",
            "                                                                 \n",
            " activation_5 (Activation)   (None, 100)               0         \n",
            "                                                                 \n",
            " dropout_5 (Dropout)         (None, 100)               0         \n",
            "                                                                 \n",
            " hidden3 (Dense)             (None, 100)               10100     \n",
            "                                                                 \n",
            " batch_normalization_6 (Batc  (None, 100)              400       \n",
            " hNormalization)                                                 \n",
            "                                                                 \n",
            " activation_6 (Activation)   (None, 100)               0         \n",
            "                                                                 \n",
            " dropout_6 (Dropout)         (None, 100)               0         \n",
            "                                                                 \n",
            " hidden4 (Dense)             (None, 50)                5050      \n",
            "                                                                 \n",
            " batch_normalization_7 (Batc  (None, 50)               200       \n",
            " hNormalization)                                                 \n",
            "                                                                 \n",
            " activation_7 (Activation)   (None, 50)                0         \n",
            "                                                                 \n",
            " dropout_7 (Dropout)         (None, 50)                0         \n",
            "                                                                 \n",
            " output (Dense)              (None, 10)                510       \n",
            "                                                                 \n",
            "=================================================================\n",
            "Total params: 244,344\n",
            "Trainable params: 243,332\n",
            "Non-trainable params: 1,012\n",
            "_________________________________________________________________\n"
          ]
        }
      ]
    },
    {
      "cell_type": "markdown",
      "metadata": {
        "id": "8noHcg8C6xMM"
      },
      "source": [
        "### 모델 컴파일\n",
        "- 평가(metrics)방식의 다른 방법\n",
        "  - `tf.keras.metrics.Mean`\n",
        "  - `tf.keras.metrics.SparseCategoricalAccuracy`\n",
        "\n",
        "- 위 두 방식을 사용하여 loss값을 좀 더 smooth하게 만들기(평균을 내는 방식)"
      ]
    },
    {
      "cell_type": "code",
      "metadata": {
        "id": "gpjwC1pa7pvI"
      },
      "source": [
        "loss_object = tf.keras.losses.SparseCategoricalCrossentropy()\n",
        "optimizer = tf.keras.optimizers.Adam()"
      ],
      "execution_count": 95,
      "outputs": []
    },
    {
      "cell_type": "code",
      "metadata": {
        "id": "DSA2H53-6967"
      },
      "source": [
        "train_loss = tf.keras.metrics.Mean(name='train_loss')\n",
        "train_accuracy = tf.keras.metrics.SparseCategoricalAccuracy(name='train_accuracy')\n",
        "\n",
        "test_loss = tf.keras.metrics.Mean(name='test_loss')\n",
        "test_accuracy = tf.keras.metrics.SparseCategoricalAccuracy(name='test_accuracy')"
      ],
      "execution_count": 96,
      "outputs": []
    },
    {
      "cell_type": "markdown",
      "metadata": {
        "id": "1uC7KjrU6WqL"
      },
      "source": [
        "### 모델 학습"
      ]
    },
    {
      "cell_type": "markdown",
      "metadata": {
        "id": "ZTF2mvFYRoj_"
      },
      "source": [
        "@tf.function 으로 인해 학습이 시작되면 그래프를 생성하여 속도가 빠름\n"
      ]
    },
    {
      "cell_type": "code",
      "metadata": {
        "id": "rRw0DDmqobEv"
      },
      "source": [
        "@tf.function\n",
        "def train_step(images, labels):\n",
        "  with tf.GradientTape() as tape:\n",
        "   predictions = model(images)\n",
        "   loss = loss_object(labels, predictions)\n",
        "\n",
        "  gradients = tape.gradient(loss, model.trainable_variables)\n",
        "  optimizer.apply_gradients(zip(gradients, model.trainable_variables))\n",
        "\n",
        "  train_loss(loss)\n",
        "  train_accuracy(labels, predictions)"
      ],
      "execution_count": 97,
      "outputs": []
    },
    {
      "cell_type": "code",
      "metadata": {
        "id": "rKoMJ7iJobB_"
      },
      "source": [
        "@tf.function\n",
        "\n",
        "def test_step(images, labels):\n",
        "  predictions = model(images)\n",
        "  t_loss = loss_object(labels, predictions)\n",
        "\n",
        "  test_loss(t_loss)\n",
        "  test_accuracy(labels, predictions)"
      ],
      "execution_count": 98,
      "outputs": []
    },
    {
      "cell_type": "code",
      "metadata": {
        "id": "sYkJhFWIoa_m",
        "colab": {
          "base_uri": "https://localhost:8080/"
        },
        "outputId": "5b54c097-1dd9-4713-c93f-5a284ab17cc9"
      },
      "source": [
        "epochs = 20\n",
        "\n",
        "for epoch in range(epochs):\n",
        "  for images, labels in train_ds:\n",
        "    train_step(images, labels)\n",
        "\n",
        "  for test_images, test_labels in test_ds:\n",
        "    test_step(test_images, test_labels)\n",
        "  \n",
        "  template = \"Epochs: {:3d}\\tLoss: {:.4f}\\tAccuracy: {:.4f}\\tTest Loss: {:.4f}\\tTest Accuracy: {:.4f}\\t\"\n",
        "  print(template.format(epoch+1,\n",
        "                        train_loss.result(),\n",
        "                        train_accuracy.result()*100,\n",
        "                        test_loss.result(),\n",
        "                        test_accuracy.result()*100))"
      ],
      "execution_count": 99,
      "outputs": [
        {
          "output_type": "stream",
          "name": "stdout",
          "text": [
            "Epochs:   1\tLoss: 0.4956\tAccuracy: 82.0550\tTest Loss: 0.4568\tTest Accuracy: 83.1900\t\n",
            "Epochs:   2\tLoss: 0.4320\tAccuracy: 84.2517\tTest Loss: 0.4243\tTest Accuracy: 84.6800\t\n",
            "Epochs:   3\tLoss: 0.4003\tAccuracy: 85.3694\tTest Loss: 0.4023\tTest Accuracy: 85.5267\t\n",
            "Epochs:   4\tLoss: 0.3778\tAccuracy: 86.1546\tTest Loss: 0.3896\tTest Accuracy: 85.9900\t\n",
            "Epochs:   5\tLoss: 0.3608\tAccuracy: 86.7467\tTest Loss: 0.3808\tTest Accuracy: 86.2500\t\n",
            "Epochs:   6\tLoss: 0.3467\tAccuracy: 87.2364\tTest Loss: 0.3748\tTest Accuracy: 86.4783\t\n",
            "Epochs:   7\tLoss: 0.3353\tAccuracy: 87.6200\tTest Loss: 0.3707\tTest Accuracy: 86.6243\t\n",
            "Epochs:   8\tLoss: 0.3250\tAccuracy: 87.9927\tTest Loss: 0.3677\tTest Accuracy: 86.7975\t\n",
            "Epochs:   9\tLoss: 0.3161\tAccuracy: 88.3163\tTest Loss: 0.3641\tTest Accuracy: 86.9433\t\n",
            "Epochs:  10\tLoss: 0.3077\tAccuracy: 88.6118\tTest Loss: 0.3645\tTest Accuracy: 87.0230\t\n",
            "Epochs:  11\tLoss: 0.3005\tAccuracy: 88.8694\tTest Loss: 0.3622\tTest Accuracy: 87.1318\t\n",
            "Epochs:  12\tLoss: 0.2937\tAccuracy: 89.1119\tTest Loss: 0.3627\tTest Accuracy: 87.1700\t\n",
            "Epochs:  13\tLoss: 0.2875\tAccuracy: 89.3392\tTest Loss: 0.3612\tTest Accuracy: 87.2762\t\n",
            "Epochs:  14\tLoss: 0.2817\tAccuracy: 89.5408\tTest Loss: 0.3617\tTest Accuracy: 87.3621\t\n",
            "Epochs:  15\tLoss: 0.2763\tAccuracy: 89.7330\tTest Loss: 0.3611\tTest Accuracy: 87.4260\t\n",
            "Epochs:  16\tLoss: 0.2711\tAccuracy: 89.9182\tTest Loss: 0.3613\tTest Accuracy: 87.5031\t\n",
            "Epochs:  17\tLoss: 0.2660\tAccuracy: 90.0991\tTest Loss: 0.3626\tTest Accuracy: 87.5653\t\n",
            "Epochs:  18\tLoss: 0.2614\tAccuracy: 90.2625\tTest Loss: 0.3639\tTest Accuracy: 87.6244\t\n",
            "Epochs:  19\tLoss: 0.2569\tAccuracy: 90.4214\tTest Loss: 0.3638\tTest Accuracy: 87.6716\t\n",
            "Epochs:  20\tLoss: 0.2527\tAccuracy: 90.5724\tTest Loss: 0.3660\tTest Accuracy: 87.7150\t\n"
          ]
        }
      ]
    },
    {
      "cell_type": "markdown",
      "metadata": {
        "id": "ZEUXDyCMKWRo"
      },
      "source": [
        "### 모델 학습 : 2번째 방법 (Keras)"
      ]
    },
    {
      "cell_type": "code",
      "metadata": {
        "id": "TRlqurJ_Mz6v"
      },
      "source": [
        "from sklearn.model_selection import train_test_split"
      ],
      "execution_count": 100,
      "outputs": []
    },
    {
      "cell_type": "code",
      "metadata": {
        "id": "XGLv1B6-KiWK",
        "colab": {
          "base_uri": "https://localhost:8080/"
        },
        "outputId": "34c91cdc-d191-4161-8aa7-9c76d519385a"
      },
      "source": [
        "(x_train_full, y_train_full), (x_test, y_test) = load_data()\n",
        "\n",
        "x_train, x_val, y_train, y_val = train_test_split(x_train_full, y_train_full,\n",
        "                                                  test_size=0.3,\n",
        "                                                  random_state=777)\n",
        "\n",
        "x_train = x_train /255.\n",
        "x_val = x_val/255.\n",
        "x_test = x_test/255.\n",
        "\n",
        "print(x_train.shape)\n",
        "print(y_train.shape)\n",
        "print(x_val.shape)\n",
        "print(y_val.shape)\n",
        "print(x_test.shape)\n",
        "print(y_test.shape)\n",
        "\n",
        "model = build_model()\n",
        "model.compile(optimizer='sgd',\n",
        "              loss='sparse_categorical_crossentropy',\n",
        "              metrics=['accuracy'])\n",
        "\n",
        "model.summary()"
      ],
      "execution_count": 159,
      "outputs": [
        {
          "output_type": "stream",
          "name": "stdout",
          "text": [
            "(42000, 28, 28)\n",
            "(42000,)\n",
            "(18000, 28, 28)\n",
            "(18000,)\n",
            "(10000, 28, 28)\n",
            "(10000,)\n",
            "Model: \"model_4\"\n",
            "_________________________________________________________________\n",
            " Layer (type)                Output Shape              Param #   \n",
            "=================================================================\n",
            " input (InputLayer)          [(None, 28, 28)]          0         \n",
            "                                                                 \n",
            " flatten (Flatten)           (None, 784)               0         \n",
            "                                                                 \n",
            " hidden1 (Dense)             (None, 256)               200960    \n",
            "                                                                 \n",
            " batch_normalization_16 (Bat  (None, 256)              1024      \n",
            " chNormalization)                                                \n",
            "                                                                 \n",
            " activation_16 (Activation)  (None, 256)               0         \n",
            "                                                                 \n",
            " dropout_16 (Dropout)        (None, 256)               0         \n",
            "                                                                 \n",
            " hidden2 (Dense)             (None, 100)               25700     \n",
            "                                                                 \n",
            " batch_normalization_17 (Bat  (None, 100)              400       \n",
            " chNormalization)                                                \n",
            "                                                                 \n",
            " activation_17 (Activation)  (None, 100)               0         \n",
            "                                                                 \n",
            " dropout_17 (Dropout)        (None, 100)               0         \n",
            "                                                                 \n",
            " hidden3 (Dense)             (None, 100)               10100     \n",
            "                                                                 \n",
            " batch_normalization_18 (Bat  (None, 100)              400       \n",
            " chNormalization)                                                \n",
            "                                                                 \n",
            " activation_18 (Activation)  (None, 100)               0         \n",
            "                                                                 \n",
            " dropout_18 (Dropout)        (None, 100)               0         \n",
            "                                                                 \n",
            " hidden4 (Dense)             (None, 50)                5050      \n",
            "                                                                 \n",
            " batch_normalization_19 (Bat  (None, 50)               200       \n",
            " chNormalization)                                                \n",
            "                                                                 \n",
            " activation_19 (Activation)  (None, 50)                0         \n",
            "                                                                 \n",
            " dropout_19 (Dropout)        (None, 50)                0         \n",
            "                                                                 \n",
            " output (Dense)              (None, 10)                510       \n",
            "                                                                 \n",
            "=================================================================\n",
            "Total params: 244,344\n",
            "Trainable params: 243,332\n",
            "Non-trainable params: 1,012\n",
            "_________________________________________________________________\n"
          ]
        }
      ]
    },
    {
      "cell_type": "markdown",
      "metadata": {
        "id": "xBBuYErFFj0b"
      },
      "source": [
        "5~6분 소요"
      ]
    },
    {
      "cell_type": "code",
      "metadata": {
        "id": "32TtgSsWLT-0"
      },
      "source": [
        "from tensorflow.keras.callbacks import EarlyStopping"
      ],
      "execution_count": 145,
      "outputs": []
    },
    {
      "cell_type": "code",
      "metadata": {
        "id": "TYEmlqkGKZbH",
        "colab": {
          "base_uri": "https://localhost:8080/"
        },
        "outputId": "a85ce1d4-b45f-449a-c850-7055d6555d40"
      },
      "source": [
        "early_stopping_cb = EarlyStopping(patience=3, monitor='val_loss',\n",
        "                                  restore_best_weights=True)\n",
        "\n",
        "history = model.fit(x_train, y_train,\n",
        "                    batch_size=256,\n",
        "                    epochs=200,\n",
        "                    shuffle=True,\n",
        "                    validation_data=(x_val, y_val))"
      ],
      "execution_count": 146,
      "outputs": [
        {
          "output_type": "stream",
          "name": "stdout",
          "text": [
            "Epoch 1/200\n",
            "165/165 [==============================] - 3s 17ms/step - loss: 0.5650 - accuracy: 0.8157 - val_loss: 0.4028 - val_accuracy: 0.8640\n",
            "Epoch 2/200\n",
            "165/165 [==============================] - 3s 16ms/step - loss: 0.5566 - accuracy: 0.8182 - val_loss: 0.4032 - val_accuracy: 0.8633\n",
            "Epoch 3/200\n",
            "165/165 [==============================] - 3s 16ms/step - loss: 0.5684 - accuracy: 0.8154 - val_loss: 0.4040 - val_accuracy: 0.8632\n",
            "Epoch 4/200\n",
            "165/165 [==============================] - 3s 16ms/step - loss: 0.5560 - accuracy: 0.8204 - val_loss: 0.4035 - val_accuracy: 0.8623\n",
            "Epoch 5/200\n",
            "165/165 [==============================] - 3s 16ms/step - loss: 0.5609 - accuracy: 0.8158 - val_loss: 0.4024 - val_accuracy: 0.8638\n",
            "Epoch 6/200\n",
            "165/165 [==============================] - 3s 16ms/step - loss: 0.5549 - accuracy: 0.8177 - val_loss: 0.4029 - val_accuracy: 0.8640\n",
            "Epoch 7/200\n",
            "165/165 [==============================] - 3s 16ms/step - loss: 0.5565 - accuracy: 0.8174 - val_loss: 0.4002 - val_accuracy: 0.8637\n",
            "Epoch 8/200\n",
            "165/165 [==============================] - 3s 16ms/step - loss: 0.5518 - accuracy: 0.8196 - val_loss: 0.4019 - val_accuracy: 0.8634\n",
            "Epoch 9/200\n",
            "165/165 [==============================] - 3s 16ms/step - loss: 0.5508 - accuracy: 0.8203 - val_loss: 0.4034 - val_accuracy: 0.8642\n",
            "Epoch 10/200\n",
            "165/165 [==============================] - 3s 17ms/step - loss: 0.5548 - accuracy: 0.8174 - val_loss: 0.3989 - val_accuracy: 0.8641\n",
            "Epoch 11/200\n",
            "165/165 [==============================] - 3s 17ms/step - loss: 0.5572 - accuracy: 0.8189 - val_loss: 0.4021 - val_accuracy: 0.8659\n",
            "Epoch 12/200\n",
            "165/165 [==============================] - 3s 17ms/step - loss: 0.5546 - accuracy: 0.8192 - val_loss: 0.3991 - val_accuracy: 0.8645\n",
            "Epoch 13/200\n",
            "165/165 [==============================] - 3s 16ms/step - loss: 0.5491 - accuracy: 0.8200 - val_loss: 0.3990 - val_accuracy: 0.8641\n",
            "Epoch 14/200\n",
            "165/165 [==============================] - 3s 16ms/step - loss: 0.5534 - accuracy: 0.8209 - val_loss: 0.3994 - val_accuracy: 0.8656\n",
            "Epoch 15/200\n",
            "165/165 [==============================] - 4s 22ms/step - loss: 0.5490 - accuracy: 0.8224 - val_loss: 0.3987 - val_accuracy: 0.8656\n",
            "Epoch 16/200\n",
            "165/165 [==============================] - 3s 21ms/step - loss: 0.5535 - accuracy: 0.8218 - val_loss: 0.4007 - val_accuracy: 0.8633\n",
            "Epoch 17/200\n",
            "165/165 [==============================] - 4s 22ms/step - loss: 0.5458 - accuracy: 0.8222 - val_loss: 0.3985 - val_accuracy: 0.8643\n",
            "Epoch 18/200\n",
            "165/165 [==============================] - 4s 22ms/step - loss: 0.5499 - accuracy: 0.8210 - val_loss: 0.3972 - val_accuracy: 0.8650\n",
            "Epoch 19/200\n",
            "165/165 [==============================] - 3s 21ms/step - loss: 0.5508 - accuracy: 0.8181 - val_loss: 0.3971 - val_accuracy: 0.8656\n",
            "Epoch 20/200\n",
            "165/165 [==============================] - 4s 21ms/step - loss: 0.5456 - accuracy: 0.8221 - val_loss: 0.4084 - val_accuracy: 0.8628\n",
            "Epoch 21/200\n",
            "165/165 [==============================] - 4s 23ms/step - loss: 0.5478 - accuracy: 0.8241 - val_loss: 0.3964 - val_accuracy: 0.8673\n",
            "Epoch 22/200\n",
            "165/165 [==============================] - 3s 18ms/step - loss: 0.5439 - accuracy: 0.8228 - val_loss: 0.3954 - val_accuracy: 0.8654\n",
            "Epoch 23/200\n",
            "165/165 [==============================] - 4s 27ms/step - loss: 0.5450 - accuracy: 0.8218 - val_loss: 0.3943 - val_accuracy: 0.8644\n",
            "Epoch 24/200\n",
            "165/165 [==============================] - 4s 25ms/step - loss: 0.5443 - accuracy: 0.8235 - val_loss: 0.3940 - val_accuracy: 0.8673\n",
            "Epoch 25/200\n",
            "165/165 [==============================] - 4s 27ms/step - loss: 0.5453 - accuracy: 0.8221 - val_loss: 0.3934 - val_accuracy: 0.8658\n",
            "Epoch 26/200\n",
            "165/165 [==============================] - 3s 20ms/step - loss: 0.5453 - accuracy: 0.8228 - val_loss: 0.3947 - val_accuracy: 0.8648\n",
            "Epoch 27/200\n",
            "165/165 [==============================] - 4s 24ms/step - loss: 0.5399 - accuracy: 0.8268 - val_loss: 0.3939 - val_accuracy: 0.8659\n",
            "Epoch 28/200\n",
            "165/165 [==============================] - 4s 22ms/step - loss: 0.5401 - accuracy: 0.8244 - val_loss: 0.3937 - val_accuracy: 0.8662\n",
            "Epoch 29/200\n",
            "165/165 [==============================] - 4s 22ms/step - loss: 0.5392 - accuracy: 0.8228 - val_loss: 0.3947 - val_accuracy: 0.8659\n",
            "Epoch 30/200\n",
            "165/165 [==============================] - 5s 28ms/step - loss: 0.5385 - accuracy: 0.8252 - val_loss: 0.3955 - val_accuracy: 0.8644\n",
            "Epoch 31/200\n",
            "165/165 [==============================] - 4s 21ms/step - loss: 0.5374 - accuracy: 0.8248 - val_loss: 0.3905 - val_accuracy: 0.8671\n",
            "Epoch 32/200\n",
            "165/165 [==============================] - 3s 21ms/step - loss: 0.5428 - accuracy: 0.8236 - val_loss: 0.3909 - val_accuracy: 0.8673\n",
            "Epoch 33/200\n",
            "165/165 [==============================] - 5s 28ms/step - loss: 0.5417 - accuracy: 0.8240 - val_loss: 0.3926 - val_accuracy: 0.8664\n",
            "Epoch 34/200\n",
            "165/165 [==============================] - 4s 25ms/step - loss: 0.5362 - accuracy: 0.8236 - val_loss: 0.3922 - val_accuracy: 0.8663\n",
            "Epoch 35/200\n",
            "165/165 [==============================] - 4s 23ms/step - loss: 0.5364 - accuracy: 0.8249 - val_loss: 0.3925 - val_accuracy: 0.8663\n",
            "Epoch 36/200\n",
            "165/165 [==============================] - 4s 26ms/step - loss: 0.5385 - accuracy: 0.8236 - val_loss: 0.3912 - val_accuracy: 0.8670\n",
            "Epoch 37/200\n",
            "165/165 [==============================] - 4s 26ms/step - loss: 0.5338 - accuracy: 0.8240 - val_loss: 0.3901 - val_accuracy: 0.8690\n",
            "Epoch 38/200\n",
            "165/165 [==============================] - 4s 22ms/step - loss: 0.5352 - accuracy: 0.8251 - val_loss: 0.3896 - val_accuracy: 0.8668\n",
            "Epoch 39/200\n",
            "165/165 [==============================] - 4s 22ms/step - loss: 0.5335 - accuracy: 0.8251 - val_loss: 0.3889 - val_accuracy: 0.8682\n",
            "Epoch 40/200\n",
            "165/165 [==============================] - 4s 24ms/step - loss: 0.5352 - accuracy: 0.8283 - val_loss: 0.3876 - val_accuracy: 0.8687\n",
            "Epoch 41/200\n",
            "165/165 [==============================] - 4s 25ms/step - loss: 0.5346 - accuracy: 0.8278 - val_loss: 0.3882 - val_accuracy: 0.8683\n",
            "Epoch 42/200\n",
            "165/165 [==============================] - 4s 23ms/step - loss: 0.5343 - accuracy: 0.8277 - val_loss: 0.3875 - val_accuracy: 0.8679\n",
            "Epoch 43/200\n",
            "165/165 [==============================] - 3s 20ms/step - loss: 0.5281 - accuracy: 0.8289 - val_loss: 0.3858 - val_accuracy: 0.8686\n",
            "Epoch 44/200\n",
            "165/165 [==============================] - 3s 20ms/step - loss: 0.5346 - accuracy: 0.8269 - val_loss: 0.3871 - val_accuracy: 0.8691\n",
            "Epoch 45/200\n",
            "165/165 [==============================] - 3s 21ms/step - loss: 0.5308 - accuracy: 0.8291 - val_loss: 0.3926 - val_accuracy: 0.8652\n",
            "Epoch 46/200\n",
            "165/165 [==============================] - 3s 18ms/step - loss: 0.5277 - accuracy: 0.8291 - val_loss: 0.3884 - val_accuracy: 0.8678\n",
            "Epoch 47/200\n",
            "165/165 [==============================] - 3s 16ms/step - loss: 0.5279 - accuracy: 0.8269 - val_loss: 0.3871 - val_accuracy: 0.8682\n",
            "Epoch 48/200\n",
            "165/165 [==============================] - 3s 16ms/step - loss: 0.5213 - accuracy: 0.8313 - val_loss: 0.3845 - val_accuracy: 0.8691\n",
            "Epoch 49/200\n",
            "165/165 [==============================] - 3s 16ms/step - loss: 0.5259 - accuracy: 0.8285 - val_loss: 0.3878 - val_accuracy: 0.8669\n",
            "Epoch 50/200\n",
            "165/165 [==============================] - 3s 17ms/step - loss: 0.5247 - accuracy: 0.8301 - val_loss: 0.3843 - val_accuracy: 0.8689\n",
            "Epoch 51/200\n",
            "165/165 [==============================] - 3s 17ms/step - loss: 0.5217 - accuracy: 0.8299 - val_loss: 0.3854 - val_accuracy: 0.8694\n",
            "Epoch 52/200\n",
            "165/165 [==============================] - 3s 19ms/step - loss: 0.5264 - accuracy: 0.8275 - val_loss: 0.3841 - val_accuracy: 0.8691\n",
            "Epoch 53/200\n",
            "165/165 [==============================] - 3s 17ms/step - loss: 0.5298 - accuracy: 0.8281 - val_loss: 0.3852 - val_accuracy: 0.8699\n",
            "Epoch 54/200\n",
            "165/165 [==============================] - 3s 16ms/step - loss: 0.5261 - accuracy: 0.8299 - val_loss: 0.3833 - val_accuracy: 0.8695\n",
            "Epoch 55/200\n",
            "165/165 [==============================] - 3s 16ms/step - loss: 0.5225 - accuracy: 0.8274 - val_loss: 0.3903 - val_accuracy: 0.8687\n",
            "Epoch 56/200\n",
            "165/165 [==============================] - 3s 16ms/step - loss: 0.5225 - accuracy: 0.8310 - val_loss: 0.3829 - val_accuracy: 0.8696\n",
            "Epoch 57/200\n",
            "165/165 [==============================] - 3s 16ms/step - loss: 0.5232 - accuracy: 0.8290 - val_loss: 0.3838 - val_accuracy: 0.8702\n",
            "Epoch 58/200\n",
            "165/165 [==============================] - 3s 16ms/step - loss: 0.5183 - accuracy: 0.8314 - val_loss: 0.3832 - val_accuracy: 0.8693\n",
            "Epoch 59/200\n",
            "165/165 [==============================] - 3s 16ms/step - loss: 0.5203 - accuracy: 0.8320 - val_loss: 0.3840 - val_accuracy: 0.8692\n",
            "Epoch 60/200\n",
            "165/165 [==============================] - 3s 21ms/step - loss: 0.5219 - accuracy: 0.8308 - val_loss: 0.3815 - val_accuracy: 0.8704\n",
            "Epoch 61/200\n",
            "165/165 [==============================] - 4s 23ms/step - loss: 0.5192 - accuracy: 0.8313 - val_loss: 0.3841 - val_accuracy: 0.8691\n",
            "Epoch 62/200\n",
            "165/165 [==============================] - 4s 22ms/step - loss: 0.5197 - accuracy: 0.8329 - val_loss: 0.3815 - val_accuracy: 0.8709\n",
            "Epoch 63/200\n",
            "165/165 [==============================] - 4s 25ms/step - loss: 0.5214 - accuracy: 0.8313 - val_loss: 0.3799 - val_accuracy: 0.8716\n",
            "Epoch 64/200\n",
            "165/165 [==============================] - 4s 22ms/step - loss: 0.5149 - accuracy: 0.8325 - val_loss: 0.3808 - val_accuracy: 0.8692\n",
            "Epoch 65/200\n",
            "165/165 [==============================] - 4s 23ms/step - loss: 0.5179 - accuracy: 0.8336 - val_loss: 0.3816 - val_accuracy: 0.8712\n",
            "Epoch 66/200\n",
            "165/165 [==============================] - 5s 33ms/step - loss: 0.5103 - accuracy: 0.8328 - val_loss: 0.3794 - val_accuracy: 0.8708\n",
            "Epoch 67/200\n",
            "165/165 [==============================] - 5s 29ms/step - loss: 0.5183 - accuracy: 0.8315 - val_loss: 0.3795 - val_accuracy: 0.8714\n",
            "Epoch 68/200\n",
            "165/165 [==============================] - 4s 25ms/step - loss: 0.5153 - accuracy: 0.8349 - val_loss: 0.3807 - val_accuracy: 0.8698\n",
            "Epoch 69/200\n",
            "165/165 [==============================] - 4s 23ms/step - loss: 0.5119 - accuracy: 0.8344 - val_loss: 0.3832 - val_accuracy: 0.8690\n",
            "Epoch 70/200\n",
            "165/165 [==============================] - 3s 19ms/step - loss: 0.5159 - accuracy: 0.8337 - val_loss: 0.3817 - val_accuracy: 0.8710\n",
            "Epoch 71/200\n",
            "165/165 [==============================] - 4s 22ms/step - loss: 0.5122 - accuracy: 0.8337 - val_loss: 0.3852 - val_accuracy: 0.8679\n",
            "Epoch 72/200\n",
            "165/165 [==============================] - 5s 28ms/step - loss: 0.5166 - accuracy: 0.8328 - val_loss: 0.3784 - val_accuracy: 0.8717\n",
            "Epoch 73/200\n",
            "165/165 [==============================] - 4s 22ms/step - loss: 0.5100 - accuracy: 0.8350 - val_loss: 0.3773 - val_accuracy: 0.8719\n",
            "Epoch 74/200\n",
            "165/165 [==============================] - 4s 26ms/step - loss: 0.5095 - accuracy: 0.8352 - val_loss: 0.3778 - val_accuracy: 0.8697\n",
            "Epoch 75/200\n",
            "165/165 [==============================] - 5s 29ms/step - loss: 0.5077 - accuracy: 0.8365 - val_loss: 0.3770 - val_accuracy: 0.8717\n",
            "Epoch 76/200\n",
            "165/165 [==============================] - 4s 26ms/step - loss: 0.5100 - accuracy: 0.8343 - val_loss: 0.3776 - val_accuracy: 0.8721\n",
            "Epoch 77/200\n",
            "165/165 [==============================] - 4s 25ms/step - loss: 0.5106 - accuracy: 0.8332 - val_loss: 0.3762 - val_accuracy: 0.8709\n",
            "Epoch 78/200\n",
            "165/165 [==============================] - 4s 23ms/step - loss: 0.5086 - accuracy: 0.8357 - val_loss: 0.3871 - val_accuracy: 0.8661\n",
            "Epoch 79/200\n",
            "165/165 [==============================] - 4s 23ms/step - loss: 0.5102 - accuracy: 0.8340 - val_loss: 0.3774 - val_accuracy: 0.8718\n",
            "Epoch 80/200\n",
            "165/165 [==============================] - 4s 22ms/step - loss: 0.5072 - accuracy: 0.8367 - val_loss: 0.3759 - val_accuracy: 0.8724\n",
            "Epoch 81/200\n",
            "165/165 [==============================] - 3s 18ms/step - loss: 0.5078 - accuracy: 0.8341 - val_loss: 0.3758 - val_accuracy: 0.8723\n",
            "Epoch 82/200\n",
            "165/165 [==============================] - 3s 18ms/step - loss: 0.5064 - accuracy: 0.8375 - val_loss: 0.3796 - val_accuracy: 0.8705\n",
            "Epoch 83/200\n",
            "165/165 [==============================] - 4s 25ms/step - loss: 0.5079 - accuracy: 0.8365 - val_loss: 0.3759 - val_accuracy: 0.8718\n",
            "Epoch 84/200\n",
            "165/165 [==============================] - 4s 23ms/step - loss: 0.5060 - accuracy: 0.8364 - val_loss: 0.3773 - val_accuracy: 0.8734\n",
            "Epoch 85/200\n",
            "165/165 [==============================] - 3s 18ms/step - loss: 0.5067 - accuracy: 0.8364 - val_loss: 0.3747 - val_accuracy: 0.8727\n",
            "Epoch 86/200\n",
            "165/165 [==============================] - 3s 16ms/step - loss: 0.5015 - accuracy: 0.8404 - val_loss: 0.3746 - val_accuracy: 0.8723\n",
            "Epoch 87/200\n",
            "165/165 [==============================] - 3s 17ms/step - loss: 0.5006 - accuracy: 0.8362 - val_loss: 0.3735 - val_accuracy: 0.8732\n",
            "Epoch 88/200\n",
            "165/165 [==============================] - 4s 22ms/step - loss: 0.5020 - accuracy: 0.8379 - val_loss: 0.3790 - val_accuracy: 0.8726\n",
            "Epoch 89/200\n",
            "165/165 [==============================] - 4s 24ms/step - loss: 0.5033 - accuracy: 0.8371 - val_loss: 0.3740 - val_accuracy: 0.8728\n",
            "Epoch 90/200\n",
            "165/165 [==============================] - 3s 18ms/step - loss: 0.5045 - accuracy: 0.8400 - val_loss: 0.3747 - val_accuracy: 0.8736\n",
            "Epoch 91/200\n",
            "165/165 [==============================] - 3s 16ms/step - loss: 0.5008 - accuracy: 0.8386 - val_loss: 0.3725 - val_accuracy: 0.8737\n",
            "Epoch 92/200\n",
            "165/165 [==============================] - 3s 16ms/step - loss: 0.5004 - accuracy: 0.8385 - val_loss: 0.3734 - val_accuracy: 0.8738\n",
            "Epoch 93/200\n",
            "165/165 [==============================] - 3s 17ms/step - loss: 0.4989 - accuracy: 0.8395 - val_loss: 0.3726 - val_accuracy: 0.8747\n",
            "Epoch 94/200\n",
            "165/165 [==============================] - 3s 17ms/step - loss: 0.5000 - accuracy: 0.8394 - val_loss: 0.3837 - val_accuracy: 0.8697\n",
            "Epoch 95/200\n",
            "165/165 [==============================] - 3s 18ms/step - loss: 0.4991 - accuracy: 0.8388 - val_loss: 0.3733 - val_accuracy: 0.8745\n",
            "Epoch 96/200\n",
            "165/165 [==============================] - 3s 17ms/step - loss: 0.5001 - accuracy: 0.8395 - val_loss: 0.3748 - val_accuracy: 0.8735\n",
            "Epoch 97/200\n",
            "165/165 [==============================] - 3s 16ms/step - loss: 0.4989 - accuracy: 0.8405 - val_loss: 0.3862 - val_accuracy: 0.8654\n",
            "Epoch 98/200\n",
            "165/165 [==============================] - 3s 16ms/step - loss: 0.5002 - accuracy: 0.8383 - val_loss: 0.3722 - val_accuracy: 0.8740\n",
            "Epoch 99/200\n",
            "165/165 [==============================] - 3s 16ms/step - loss: 0.4898 - accuracy: 0.8397 - val_loss: 0.3734 - val_accuracy: 0.8735\n",
            "Epoch 100/200\n",
            "165/165 [==============================] - 3s 16ms/step - loss: 0.4942 - accuracy: 0.8393 - val_loss: 0.3719 - val_accuracy: 0.8739\n",
            "Epoch 101/200\n",
            "165/165 [==============================] - 3s 17ms/step - loss: 0.4981 - accuracy: 0.8382 - val_loss: 0.3785 - val_accuracy: 0.8707\n",
            "Epoch 102/200\n",
            "165/165 [==============================] - 3s 21ms/step - loss: 0.4918 - accuracy: 0.8385 - val_loss: 0.3696 - val_accuracy: 0.8759\n",
            "Epoch 103/200\n",
            "165/165 [==============================] - 4s 23ms/step - loss: 0.4970 - accuracy: 0.8402 - val_loss: 0.3699 - val_accuracy: 0.8747\n",
            "Epoch 104/200\n",
            "165/165 [==============================] - 4s 27ms/step - loss: 0.4989 - accuracy: 0.8408 - val_loss: 0.5758 - val_accuracy: 0.8061\n",
            "Epoch 105/200\n",
            "165/165 [==============================] - 5s 30ms/step - loss: 0.4940 - accuracy: 0.8401 - val_loss: 0.3702 - val_accuracy: 0.8742\n",
            "Epoch 106/200\n",
            "165/165 [==============================] - 4s 26ms/step - loss: 0.4941 - accuracy: 0.8408 - val_loss: 0.3702 - val_accuracy: 0.8736\n",
            "Epoch 107/200\n",
            "165/165 [==============================] - 4s 25ms/step - loss: 0.4976 - accuracy: 0.8416 - val_loss: 0.3692 - val_accuracy: 0.8752\n",
            "Epoch 108/200\n",
            "165/165 [==============================] - 4s 24ms/step - loss: 0.4933 - accuracy: 0.8402 - val_loss: 0.3696 - val_accuracy: 0.8763\n",
            "Epoch 109/200\n",
            "165/165 [==============================] - 4s 24ms/step - loss: 0.4912 - accuracy: 0.8427 - val_loss: 0.3704 - val_accuracy: 0.8739\n",
            "Epoch 110/200\n",
            "165/165 [==============================] - 4s 24ms/step - loss: 0.4900 - accuracy: 0.8422 - val_loss: 0.3687 - val_accuracy: 0.8766\n",
            "Epoch 111/200\n",
            "165/165 [==============================] - 4s 24ms/step - loss: 0.4916 - accuracy: 0.8421 - val_loss: 0.3676 - val_accuracy: 0.8766\n",
            "Epoch 112/200\n",
            "165/165 [==============================] - 4s 23ms/step - loss: 0.4867 - accuracy: 0.8422 - val_loss: 0.3705 - val_accuracy: 0.8760\n",
            "Epoch 113/200\n",
            "165/165 [==============================] - 4s 26ms/step - loss: 0.4881 - accuracy: 0.8420 - val_loss: 0.3672 - val_accuracy: 0.8772\n",
            "Epoch 114/200\n",
            "165/165 [==============================] - 4s 25ms/step - loss: 0.4918 - accuracy: 0.8426 - val_loss: 0.3675 - val_accuracy: 0.8752\n",
            "Epoch 115/200\n",
            "165/165 [==============================] - 4s 23ms/step - loss: 0.4941 - accuracy: 0.8415 - val_loss: 0.3664 - val_accuracy: 0.8762\n",
            "Epoch 116/200\n",
            "165/165 [==============================] - 4s 24ms/step - loss: 0.4847 - accuracy: 0.8446 - val_loss: 0.3677 - val_accuracy: 0.8772\n",
            "Epoch 117/200\n",
            "165/165 [==============================] - 4s 23ms/step - loss: 0.4888 - accuracy: 0.8427 - val_loss: 0.3761 - val_accuracy: 0.8744\n",
            "Epoch 118/200\n",
            "165/165 [==============================] - 3s 17ms/step - loss: 0.4886 - accuracy: 0.8406 - val_loss: 0.3658 - val_accuracy: 0.8760\n",
            "Epoch 119/200\n",
            "165/165 [==============================] - 4s 26ms/step - loss: 0.4854 - accuracy: 0.8440 - val_loss: 0.3660 - val_accuracy: 0.8769\n",
            "Epoch 120/200\n",
            "165/165 [==============================] - 4s 25ms/step - loss: 0.4843 - accuracy: 0.8444 - val_loss: 0.3639 - val_accuracy: 0.8773\n",
            "Epoch 121/200\n",
            "165/165 [==============================] - 4s 22ms/step - loss: 0.4849 - accuracy: 0.8440 - val_loss: 0.3734 - val_accuracy: 0.8719\n",
            "Epoch 122/200\n",
            "165/165 [==============================] - 4s 25ms/step - loss: 0.4835 - accuracy: 0.8430 - val_loss: 0.3652 - val_accuracy: 0.8771\n",
            "Epoch 123/200\n",
            "165/165 [==============================] - 4s 25ms/step - loss: 0.4875 - accuracy: 0.8440 - val_loss: 0.3640 - val_accuracy: 0.8768\n",
            "Epoch 124/200\n",
            "165/165 [==============================] - 3s 17ms/step - loss: 0.4869 - accuracy: 0.8427 - val_loss: 0.3648 - val_accuracy: 0.8781\n",
            "Epoch 125/200\n",
            "165/165 [==============================] - 3s 18ms/step - loss: 0.4822 - accuracy: 0.8432 - val_loss: 0.3643 - val_accuracy: 0.8771\n",
            "Epoch 126/200\n",
            "165/165 [==============================] - 3s 18ms/step - loss: 0.4819 - accuracy: 0.8449 - val_loss: 0.3642 - val_accuracy: 0.8777\n",
            "Epoch 127/200\n",
            "165/165 [==============================] - 3s 18ms/step - loss: 0.4834 - accuracy: 0.8437 - val_loss: 0.3648 - val_accuracy: 0.8769\n",
            "Epoch 128/200\n",
            "165/165 [==============================] - 3s 18ms/step - loss: 0.4863 - accuracy: 0.8433 - val_loss: 0.3655 - val_accuracy: 0.8781\n",
            "Epoch 129/200\n",
            "165/165 [==============================] - 3s 18ms/step - loss: 0.4813 - accuracy: 0.8429 - val_loss: 0.3643 - val_accuracy: 0.8761\n",
            "Epoch 130/200\n",
            "165/165 [==============================] - 3s 17ms/step - loss: 0.4793 - accuracy: 0.8461 - val_loss: 0.3709 - val_accuracy: 0.8767\n",
            "Epoch 131/200\n",
            "165/165 [==============================] - 3s 17ms/step - loss: 0.4826 - accuracy: 0.8443 - val_loss: 0.3637 - val_accuracy: 0.8767\n",
            "Epoch 132/200\n",
            "165/165 [==============================] - 3s 17ms/step - loss: 0.4800 - accuracy: 0.8448 - val_loss: 0.3640 - val_accuracy: 0.8784\n",
            "Epoch 133/200\n",
            "165/165 [==============================] - 3s 19ms/step - loss: 0.4801 - accuracy: 0.8449 - val_loss: 0.3634 - val_accuracy: 0.8773\n",
            "Epoch 134/200\n",
            "165/165 [==============================] - 3s 17ms/step - loss: 0.4777 - accuracy: 0.8444 - val_loss: 0.3622 - val_accuracy: 0.8781\n",
            "Epoch 135/200\n",
            "165/165 [==============================] - 3s 17ms/step - loss: 0.4773 - accuracy: 0.8479 - val_loss: 0.4408 - val_accuracy: 0.8449\n",
            "Epoch 136/200\n",
            "165/165 [==============================] - 3s 18ms/step - loss: 0.4760 - accuracy: 0.8463 - val_loss: 0.3622 - val_accuracy: 0.8779\n",
            "Epoch 137/200\n",
            "165/165 [==============================] - 3s 17ms/step - loss: 0.4786 - accuracy: 0.8460 - val_loss: 0.3692 - val_accuracy: 0.8737\n",
            "Epoch 138/200\n",
            "165/165 [==============================] - 3s 17ms/step - loss: 0.4773 - accuracy: 0.8469 - val_loss: 0.3611 - val_accuracy: 0.8775\n",
            "Epoch 139/200\n",
            "165/165 [==============================] - 3s 17ms/step - loss: 0.4797 - accuracy: 0.8460 - val_loss: 0.3614 - val_accuracy: 0.8772\n",
            "Epoch 140/200\n",
            "165/165 [==============================] - 3s 17ms/step - loss: 0.4785 - accuracy: 0.8459 - val_loss: 0.3603 - val_accuracy: 0.8781\n",
            "Epoch 141/200\n",
            "165/165 [==============================] - 3s 17ms/step - loss: 0.4812 - accuracy: 0.8447 - val_loss: 0.3607 - val_accuracy: 0.8783\n",
            "Epoch 142/200\n",
            "165/165 [==============================] - 3s 19ms/step - loss: 0.4729 - accuracy: 0.8472 - val_loss: 0.3603 - val_accuracy: 0.8791\n",
            "Epoch 143/200\n",
            "165/165 [==============================] - 3s 17ms/step - loss: 0.4705 - accuracy: 0.8476 - val_loss: 0.3619 - val_accuracy: 0.8776\n",
            "Epoch 144/200\n",
            "165/165 [==============================] - 3s 19ms/step - loss: 0.4776 - accuracy: 0.8482 - val_loss: 0.3637 - val_accuracy: 0.8783\n",
            "Epoch 145/200\n",
            "165/165 [==============================] - 3s 18ms/step - loss: 0.4737 - accuracy: 0.8475 - val_loss: 0.3611 - val_accuracy: 0.8769\n",
            "Epoch 146/200\n",
            "165/165 [==============================] - 3s 18ms/step - loss: 0.4721 - accuracy: 0.8481 - val_loss: 0.3591 - val_accuracy: 0.8789\n",
            "Epoch 147/200\n",
            "165/165 [==============================] - 3s 17ms/step - loss: 0.4718 - accuracy: 0.8472 - val_loss: 0.3602 - val_accuracy: 0.8795\n",
            "Epoch 148/200\n",
            "165/165 [==============================] - 3s 17ms/step - loss: 0.4713 - accuracy: 0.8499 - val_loss: 0.3629 - val_accuracy: 0.8776\n",
            "Epoch 149/200\n",
            "165/165 [==============================] - 3s 17ms/step - loss: 0.4708 - accuracy: 0.8484 - val_loss: 0.3762 - val_accuracy: 0.8742\n",
            "Epoch 150/200\n",
            "165/165 [==============================] - 3s 18ms/step - loss: 0.4772 - accuracy: 0.8454 - val_loss: 0.3598 - val_accuracy: 0.8787\n",
            "Epoch 151/200\n",
            "165/165 [==============================] - 3s 17ms/step - loss: 0.4668 - accuracy: 0.8498 - val_loss: 0.3730 - val_accuracy: 0.8739\n",
            "Epoch 152/200\n",
            "165/165 [==============================] - 3s 18ms/step - loss: 0.4641 - accuracy: 0.8496 - val_loss: 0.3696 - val_accuracy: 0.8763\n",
            "Epoch 153/200\n",
            "165/165 [==============================] - 3s 17ms/step - loss: 0.4728 - accuracy: 0.8482 - val_loss: 0.3612 - val_accuracy: 0.8776\n",
            "Epoch 154/200\n",
            "165/165 [==============================] - 3s 18ms/step - loss: 0.4640 - accuracy: 0.8506 - val_loss: 0.3583 - val_accuracy: 0.8807\n",
            "Epoch 155/200\n",
            "165/165 [==============================] - 3s 18ms/step - loss: 0.4691 - accuracy: 0.8491 - val_loss: 0.3606 - val_accuracy: 0.8776\n",
            "Epoch 156/200\n",
            "165/165 [==============================] - 3s 18ms/step - loss: 0.4716 - accuracy: 0.8483 - val_loss: 0.3642 - val_accuracy: 0.8789\n",
            "Epoch 157/200\n",
            "165/165 [==============================] - 3s 18ms/step - loss: 0.4706 - accuracy: 0.8478 - val_loss: 0.3605 - val_accuracy: 0.8792\n",
            "Epoch 158/200\n",
            "165/165 [==============================] - 3s 17ms/step - loss: 0.4672 - accuracy: 0.8487 - val_loss: 0.3802 - val_accuracy: 0.8741\n",
            "Epoch 159/200\n",
            "165/165 [==============================] - 3s 17ms/step - loss: 0.4657 - accuracy: 0.8511 - val_loss: 0.3601 - val_accuracy: 0.8792\n",
            "Epoch 160/200\n",
            "165/165 [==============================] - 3s 17ms/step - loss: 0.4641 - accuracy: 0.8490 - val_loss: 0.3571 - val_accuracy: 0.8812\n",
            "Epoch 161/200\n",
            "165/165 [==============================] - 3s 20ms/step - loss: 0.4651 - accuracy: 0.8523 - val_loss: 0.3571 - val_accuracy: 0.8808\n",
            "Epoch 162/200\n",
            "165/165 [==============================] - 3s 18ms/step - loss: 0.4669 - accuracy: 0.8518 - val_loss: 0.4103 - val_accuracy: 0.8650\n",
            "Epoch 163/200\n",
            "165/165 [==============================] - 3s 18ms/step - loss: 0.4676 - accuracy: 0.8500 - val_loss: 0.3585 - val_accuracy: 0.8803\n",
            "Epoch 164/200\n",
            "165/165 [==============================] - 3s 18ms/step - loss: 0.4632 - accuracy: 0.8490 - val_loss: 0.3574 - val_accuracy: 0.8804\n",
            "Epoch 165/200\n",
            "165/165 [==============================] - 3s 18ms/step - loss: 0.4691 - accuracy: 0.8493 - val_loss: 0.3557 - val_accuracy: 0.8806\n",
            "Epoch 166/200\n",
            "165/165 [==============================] - 3s 18ms/step - loss: 0.4625 - accuracy: 0.8495 - val_loss: 0.3569 - val_accuracy: 0.8809\n",
            "Epoch 167/200\n",
            "165/165 [==============================] - 3s 18ms/step - loss: 0.4634 - accuracy: 0.8516 - val_loss: 0.3571 - val_accuracy: 0.8802\n",
            "Epoch 168/200\n",
            "165/165 [==============================] - 3s 18ms/step - loss: 0.4645 - accuracy: 0.8502 - val_loss: 0.3627 - val_accuracy: 0.8787\n",
            "Epoch 169/200\n",
            "165/165 [==============================] - 3s 18ms/step - loss: 0.4670 - accuracy: 0.8497 - val_loss: 0.3567 - val_accuracy: 0.8812\n",
            "Epoch 170/200\n",
            "165/165 [==============================] - 3s 18ms/step - loss: 0.4628 - accuracy: 0.8515 - val_loss: 0.3553 - val_accuracy: 0.8811\n",
            "Epoch 171/200\n",
            "165/165 [==============================] - 3s 17ms/step - loss: 0.4601 - accuracy: 0.8522 - val_loss: 0.3568 - val_accuracy: 0.8794\n",
            "Epoch 172/200\n",
            "165/165 [==============================] - 3s 17ms/step - loss: 0.4598 - accuracy: 0.8522 - val_loss: 0.3567 - val_accuracy: 0.8794\n",
            "Epoch 173/200\n",
            "165/165 [==============================] - 3s 19ms/step - loss: 0.4535 - accuracy: 0.8550 - val_loss: 0.3540 - val_accuracy: 0.8813\n",
            "Epoch 174/200\n",
            "165/165 [==============================] - 3s 19ms/step - loss: 0.4561 - accuracy: 0.8519 - val_loss: 0.3564 - val_accuracy: 0.8796\n",
            "Epoch 175/200\n",
            "165/165 [==============================] - 3s 20ms/step - loss: 0.4514 - accuracy: 0.8521 - val_loss: 0.3525 - val_accuracy: 0.8826\n",
            "Epoch 176/200\n",
            "165/165 [==============================] - 3s 19ms/step - loss: 0.4570 - accuracy: 0.8526 - val_loss: 0.3538 - val_accuracy: 0.8797\n",
            "Epoch 177/200\n",
            "165/165 [==============================] - 3s 18ms/step - loss: 0.4577 - accuracy: 0.8528 - val_loss: 0.3601 - val_accuracy: 0.8779\n",
            "Epoch 178/200\n",
            "165/165 [==============================] - 3s 20ms/step - loss: 0.4583 - accuracy: 0.8518 - val_loss: 0.3573 - val_accuracy: 0.8799\n",
            "Epoch 179/200\n",
            "165/165 [==============================] - 3s 20ms/step - loss: 0.4556 - accuracy: 0.8520 - val_loss: 0.3539 - val_accuracy: 0.8804\n",
            "Epoch 180/200\n",
            "165/165 [==============================] - 3s 18ms/step - loss: 0.4561 - accuracy: 0.8536 - val_loss: 0.3544 - val_accuracy: 0.8813\n",
            "Epoch 181/200\n",
            "165/165 [==============================] - 3s 18ms/step - loss: 0.4562 - accuracy: 0.8526 - val_loss: 0.3531 - val_accuracy: 0.8817\n",
            "Epoch 182/200\n",
            "165/165 [==============================] - 3s 19ms/step - loss: 0.4552 - accuracy: 0.8536 - val_loss: 0.3555 - val_accuracy: 0.8804\n",
            "Epoch 183/200\n",
            "165/165 [==============================] - 3s 18ms/step - loss: 0.4565 - accuracy: 0.8533 - val_loss: 0.3548 - val_accuracy: 0.8811\n",
            "Epoch 184/200\n",
            "165/165 [==============================] - 3s 18ms/step - loss: 0.4505 - accuracy: 0.8530 - val_loss: 0.3540 - val_accuracy: 0.8811\n",
            "Epoch 185/200\n",
            "165/165 [==============================] - 3s 20ms/step - loss: 0.4538 - accuracy: 0.8555 - val_loss: 0.3523 - val_accuracy: 0.8821\n",
            "Epoch 186/200\n",
            "165/165 [==============================] - 3s 18ms/step - loss: 0.4552 - accuracy: 0.8540 - val_loss: 0.3537 - val_accuracy: 0.8816\n",
            "Epoch 187/200\n",
            "165/165 [==============================] - 3s 19ms/step - loss: 0.4484 - accuracy: 0.8564 - val_loss: 0.3703 - val_accuracy: 0.8784\n",
            "Epoch 188/200\n",
            "165/165 [==============================] - 3s 19ms/step - loss: 0.4514 - accuracy: 0.8559 - val_loss: 0.3592 - val_accuracy: 0.8804\n",
            "Epoch 189/200\n",
            "165/165 [==============================] - 3s 18ms/step - loss: 0.4519 - accuracy: 0.8558 - val_loss: 0.3525 - val_accuracy: 0.8814\n",
            "Epoch 190/200\n",
            "165/165 [==============================] - 3s 17ms/step - loss: 0.4503 - accuracy: 0.8549 - val_loss: 0.3526 - val_accuracy: 0.8827\n",
            "Epoch 191/200\n",
            "165/165 [==============================] - 3s 17ms/step - loss: 0.4523 - accuracy: 0.8559 - val_loss: 0.3519 - val_accuracy: 0.8831\n",
            "Epoch 192/200\n",
            "165/165 [==============================] - 3s 18ms/step - loss: 0.4525 - accuracy: 0.8525 - val_loss: 0.3540 - val_accuracy: 0.8828\n",
            "Epoch 193/200\n",
            "165/165 [==============================] - 3s 19ms/step - loss: 0.4480 - accuracy: 0.8557 - val_loss: 0.3553 - val_accuracy: 0.8817\n",
            "Epoch 194/200\n",
            "165/165 [==============================] - 3s 19ms/step - loss: 0.4509 - accuracy: 0.8549 - val_loss: 0.3521 - val_accuracy: 0.8820\n",
            "Epoch 195/200\n",
            "165/165 [==============================] - 3s 18ms/step - loss: 0.4523 - accuracy: 0.8527 - val_loss: 0.3514 - val_accuracy: 0.8831\n",
            "Epoch 196/200\n",
            "165/165 [==============================] - 3s 18ms/step - loss: 0.4450 - accuracy: 0.8543 - val_loss: 0.3515 - val_accuracy: 0.8826\n",
            "Epoch 197/200\n",
            "165/165 [==============================] - 3s 18ms/step - loss: 0.4470 - accuracy: 0.8554 - val_loss: 0.3505 - val_accuracy: 0.8823\n",
            "Epoch 198/200\n",
            "165/165 [==============================] - 3s 17ms/step - loss: 0.4525 - accuracy: 0.8538 - val_loss: 0.3541 - val_accuracy: 0.8810\n",
            "Epoch 199/200\n",
            "165/165 [==============================] - 3s 17ms/step - loss: 0.4455 - accuracy: 0.8564 - val_loss: 0.3592 - val_accuracy: 0.8781\n",
            "Epoch 200/200\n",
            "165/165 [==============================] - 3s 18ms/step - loss: 0.4466 - accuracy: 0.8571 - val_loss: 0.3582 - val_accuracy: 0.8803\n"
          ]
        }
      ]
    },
    {
      "cell_type": "code",
      "metadata": {
        "id": "RaeHz1VFKZVM",
        "colab": {
          "base_uri": "https://localhost:8080/"
        },
        "outputId": "c3e8f7eb-7764-42f7-bb49-94e8d90934df"
      },
      "source": [
        "history.history.keys()"
      ],
      "execution_count": 147,
      "outputs": [
        {
          "output_type": "execute_result",
          "data": {
            "text/plain": [
              "dict_keys(['loss', 'accuracy', 'val_loss', 'val_accuracy'])"
            ]
          },
          "metadata": {},
          "execution_count": 147
        }
      ]
    },
    {
      "cell_type": "markdown",
      "metadata": {
        "id": "5pJ6MDW9CcwX"
      },
      "source": [
        "### 모델 평가"
      ]
    },
    {
      "cell_type": "code",
      "metadata": {
        "id": "e4MxgLKOCeL9",
        "colab": {
          "base_uri": "https://localhost:8080/"
        },
        "outputId": "25cc6bf0-29bc-47d6-fd40-b9676a21cb5d"
      },
      "source": [
        "model.evaluate(x_test, y_test, batch_size=100)"
      ],
      "execution_count": 148,
      "outputs": [
        {
          "output_type": "stream",
          "name": "stdout",
          "text": [
            "100/100 [==============================] - 0s 5ms/step - loss: 4.2918 - accuracy: 0.1000\n"
          ]
        },
        {
          "output_type": "execute_result",
          "data": {
            "text/plain": [
              "[4.291759967803955, 0.10000000149011612]"
            ]
          },
          "metadata": {},
          "execution_count": 148
        }
      ]
    },
    {
      "cell_type": "markdown",
      "metadata": {
        "id": "8McnnarjV2Tf"
      },
      "source": [
        "### 결과 확인"
      ]
    },
    {
      "cell_type": "code",
      "metadata": {
        "id": "7zHvs2FICeHD",
        "colab": {
          "base_uri": "https://localhost:8080/"
        },
        "outputId": "3d20d480-941f-492d-a174-e877cf5f8cc9"
      },
      "source": [
        "test_img = x_test[0, :, :]\n",
        "print(test_img.shape)"
      ],
      "execution_count": 160,
      "outputs": [
        {
          "output_type": "stream",
          "name": "stdout",
          "text": [
            "(28, 28)\n"
          ]
        }
      ]
    },
    {
      "cell_type": "code",
      "metadata": {
        "id": "L9TlZb73CeEj",
        "colab": {
          "base_uri": "https://localhost:8080/",
          "height": 277
        },
        "outputId": "24634a07-21d0-4547-c785-f6ced33090be"
      },
      "source": [
        "plt.title(class_names[y_test[0]])\n",
        "plt.imshow(test_img, cmap='gray')\n",
        "plt.show()"
      ],
      "execution_count": 161,
      "outputs": [
        {
          "output_type": "display_data",
          "data": {
            "text/plain": [
              "<Figure size 432x288 with 1 Axes>"
            ],
            "image/png": "[encoded data removed]"
          },
          "metadata": {}
        }
      ]
    },
    {
      "cell_type": "code",
      "source": [
        "pred = model.predict(test_img.reshape(1,28,28))"
      ],
      "metadata": {
        "id": "n3QMRfldrnxg"
      },
      "execution_count": 162,
      "outputs": []
    },
    {
      "cell_type": "code",
      "metadata": {
        "id": "VvN3dvdZWXRd",
        "colab": {
          "base_uri": "https://localhost:8080/"
        },
        "outputId": "8fdb178f-a1d4-4db5-893d-b83f5dd782b9"
      },
      "source": [
        "pred.shape"
      ],
      "execution_count": 163,
      "outputs": [
        {
          "output_type": "execute_result",
          "data": {
            "text/plain": [
              "(1, 10)"
            ]
          },
          "metadata": {},
          "execution_count": 163
        }
      ]
    },
    {
      "cell_type": "code",
      "source": [
        "pred"
      ],
      "metadata": {
        "colab": {
          "base_uri": "https://localhost:8080/"
        },
        "id": "tZHu1ofprfzM",
        "outputId": "49920409-7126-4039-8e2d-b30a0b29432f"
      },
      "execution_count": 164,
      "outputs": [
        {
          "output_type": "execute_result",
          "data": {
            "text/plain": [
              "array([[0.06398062, 0.1684449 , 0.06026201, 0.0635703 , 0.14015754,\n",
              "        0.0869423 , 0.06548354, 0.08069204, 0.06897833, 0.20148835]],\n",
              "      dtype=float32)"
            ]
          },
          "metadata": {},
          "execution_count": 164
        }
      ]
    },
    {
      "cell_type": "code",
      "metadata": {
        "id": "E_7gFZNAWZip",
        "colab": {
          "base_uri": "https://localhost:8080/",
          "height": 35
        },
        "outputId": "98ae8659-7cc9-475a-f1c7-deec865e17ed"
      },
      "source": [
        "class_names[np.argmax(pred)]"
      ],
      "execution_count": 165,
      "outputs": [
        {
          "output_type": "execute_result",
          "data": {
            "text/plain": [
              "'Ankle boot'"
            ],
            "application/vnd.google.colaboratory.intrinsic+json": {
              "type": "string"
            }
          },
          "metadata": {},
          "execution_count": 165
        }
      ]
    },
    {
      "cell_type": "markdown",
      "metadata": {
        "id": "MJL5wVZiWqtw"
      },
      "source": [
        "### Test Batch Dataset"
      ]
    },
    {
      "cell_type": "code",
      "metadata": {
        "id": "joaO3OqrWxIp",
        "colab": {
          "base_uri": "https://localhost:8080/"
        },
        "outputId": "40a42393-adb5-462a-9838-9c51f742f1fe"
      },
      "source": [
        "test_batch = x_test[:32, :, :]\n",
        "test_batch_y = y_test[:32]\n",
        "print(test_batch.shape)"
      ],
      "execution_count": 166,
      "outputs": [
        {
          "output_type": "stream",
          "name": "stdout",
          "text": [
            "(32, 28, 28)\n"
          ]
        }
      ]
    },
    {
      "cell_type": "code",
      "metadata": {
        "id": "OxqBhlqXWmXl",
        "colab": {
          "base_uri": "https://localhost:8080/"
        },
        "outputId": "48348aa2-f52b-4bad-eaee-c3a7dd8f9d0d"
      },
      "source": [
        "preds = model.predict(test_batch)\n",
        "preds.shape"
      ],
      "execution_count": 167,
      "outputs": [
        {
          "output_type": "execute_result",
          "data": {
            "text/plain": [
              "(32, 10)"
            ]
          },
          "metadata": {},
          "execution_count": 167
        }
      ]
    },
    {
      "cell_type": "code",
      "metadata": {
        "id": "5Pgwy4yXW2dt"
      },
      "source": [
        "preds_arg = np.argmax(preds, -1)"
      ],
      "execution_count": 171,
      "outputs": []
    },
    {
      "cell_type": "code",
      "metadata": {
        "id": "53xdFvATW85m",
        "colab": {
          "base_uri": "https://localhost:8080/",
          "height": 603
        },
        "outputId": "6cda72b9-8258-4a32-8eb1-fc4130a1c274"
      },
      "source": [
        "num_rows = 8\n",
        "num_cols =4\n",
        "num_images = num_rows*num_cols\n",
        "\n",
        "plt.figure(figsize=(16,10))\n",
        "\n",
        "for idx in range(1,33,1):\n",
        "  plt.subplot(num_rows, num_cols, idx)\n",
        "  plt.title(\"predicted: {}, True: {}\".format(class_names[preds_arg[idx-1]],\n",
        "                                             class_names[test_batch_y[idx-1]]))\n",
        "  plt.imshow(test_batch[idx-1], cmap='gray')\n",
        "\n",
        "plt.show()"
      ],
      "execution_count": 172,
      "outputs": [
        {
          "output_type": "display_data",
          "data": {
            "text/plain": [
              "<Figure size 1152x720 with 32 Axes>"
            ],
            "image/png": "[encoded data removed]"
          },
          "metadata": {}
        }
      ]
    }
  ]
}