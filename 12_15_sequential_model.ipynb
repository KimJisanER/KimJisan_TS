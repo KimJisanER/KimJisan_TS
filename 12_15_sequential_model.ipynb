{
  "nbformat": 4,
  "nbformat_minor": 0,
  "metadata": {
    "colab": {
      "name": "12_15.sequential model",
      "provenance": [],
      "authorship_tag": "ABX9TyMVD2vxEsIVJYIWIWDw4PtK",
      "include_colab_link": true
    },
    "kernelspec": {
      "name": "python3",
      "display_name": "Python 3"
    },
    "language_info": {
      "name": "python"
    }
  },
  "cells": [
    {
      "cell_type": "markdown",
      "metadata": {
        "id": "view-in-github",
        "colab_type": "text"
      },
      "source": [
        "<a href=\"https://colab.research.google.com/github/KimJisanER/KimJisan_TS/blob/main/12_15_sequential_model.ipynb\" target=\"_parent\"><img src=\"https://colab.research.google.com/assets/colab-badge.svg\" alt=\"Open In Colab\"/></a>"
      ]
    },
    {
      "cell_type": "code",
      "execution_count": 2,
      "metadata": {
        "colab": {
          "base_uri": "https://localhost:8080/"
        },
        "id": "DLSPtE2V__AO",
        "outputId": "594a6170-823d-4e87-b014-48fee86f8d94"
      },
      "outputs": [
        {
          "output_type": "stream",
          "name": "stdout",
          "text": [
            "Model: \"sequential\"\n",
            "_________________________________________________________________\n",
            " Layer (type)                Output Shape              Param #   \n",
            "=================================================================\n",
            " A (Flatten)                 (None, 784)               0         \n",
            "                                                                 \n",
            " B (Dense)                   (None, 128)               100480    \n",
            "                                                                 \n",
            " C (Dense)                   (None, 10)                1290      \n",
            "                                                                 \n",
            "=================================================================\n",
            "Total params: 101,770\n",
            "Trainable params: 101,770\n",
            "Non-trainable params: 0\n",
            "_________________________________________________________________\n"
          ]
        }
      ],
      "source": [
        "from tensorflow.keras.models import Sequential\n",
        "from tensorflow.keras.layers import Dense\n"
      ]
    },
    {
      "cell_type": "code",
      "source": [
        "# 시퀀셜 모델 만드는 방법1 (콤마주의)\n",
        "\n",
        "model = Sequential([\n",
        "                    Dense(units=128, activation='relu'),\n",
        "                    Dense(units=10, activation='softmax')\n",
        "])"
      ],
      "metadata": {
        "id": "eOudoyUgFU1X"
      },
      "execution_count": 4,
      "outputs": []
    },
    {
      "cell_type": "code",
      "source": [
        "# 시퀀셜 모델 만드는 방법2\n",
        "\n",
        "model = Sequential()\n",
        "\n",
        "model.add(Dense(units=128, activation='relu'))\n",
        "model.add(Dense(units=10, activation='softmax'))\n"
      ],
      "metadata": {
        "id": "G1AIHC7HGMQt"
      },
      "execution_count": null,
      "outputs": []
    },
    {
      "cell_type": "code",
      "source": [
        "# 입력\n",
        "\n",
        "model = Sequential([\n",
        "                    Dense(units=128, activation='relu', input_shape=(784,)),\n",
        "                    Dense(units=10, activation='softmax')\n",
        "])"
      ],
      "metadata": {
        "id": "dj1yST0eGwvF"
      },
      "execution_count": null,
      "outputs": []
    },
    {
      "cell_type": "code",
      "source": [
        "# Flatten layer\n",
        "\n",
        "from tensorflow.keras.layers import Flatten\n",
        "model = Sequential([\n",
        "                    Flatten(input_shape=(28,28)),\n",
        "                    Dense(units=128, activation='relu'),\n",
        "                    Dense(units=10, activation='softmax')\n",
        "])\n",
        "model.summary()"
      ],
      "metadata": {
        "colab": {
          "base_uri": "https://localhost:8080/"
        },
        "id": "xRe_CcDlIAaD",
        "outputId": "ffe2c11c-57d1-41db-852b-b8ae9a44d319"
      },
      "execution_count": 6,
      "outputs": [
        {
          "output_type": "stream",
          "name": "stdout",
          "text": [
            "Model: \"sequential_6\"\n",
            "_________________________________________________________________\n",
            " Layer (type)                Output Shape              Param #   \n",
            "=================================================================\n",
            " flatten_1 (Flatten)         (None, 784)               0         \n",
            "                                                                 \n",
            " dense_10 (Dense)            (None, 128)               100480    \n",
            "                                                                 \n",
            " dense_11 (Dense)            (None, 10)                1290      \n",
            "                                                                 \n",
            "=================================================================\n",
            "Total params: 101,770\n",
            "Trainable params: 101,770\n",
            "Non-trainable params: 0\n",
            "_________________________________________________________________\n"
          ]
        }
      ]
    },
    {
      "cell_type": "code",
      "source": [
        "# layer에 이름 붙이기\n",
        "model = Sequential([\n",
        "                    Flatten(input_shape=(28,28), name=\"A\"),\n",
        "                    Dense(units=128, activation='relu', name=\"B\"),\n",
        "                    Dense(units=10, activation='softmax', name=\"C\")\n",
        "])\n",
        "model.summary()"
      ],
      "metadata": {
        "colab": {
          "base_uri": "https://localhost:8080/"
        },
        "id": "S4C2BwzWIuwx",
        "outputId": "b9764781-ee16-48df-e608-5e357e31294f"
      },
      "execution_count": 7,
      "outputs": [
        {
          "output_type": "stream",
          "name": "stdout",
          "text": [
            "Model: \"sequential_7\"\n",
            "_________________________________________________________________\n",
            " Layer (type)                Output Shape              Param #   \n",
            "=================================================================\n",
            " A (Flatten)                 (None, 784)               0         \n",
            "                                                                 \n",
            " B (Dense)                   (None, 128)               100480    \n",
            "                                                                 \n",
            " C (Dense)                   (None, 10)                1290      \n",
            "                                                                 \n",
            "=================================================================\n",
            "Total params: 101,770\n",
            "Trainable params: 101,770\n",
            "Non-trainable params: 0\n",
            "_________________________________________________________________\n"
          ]
        }
      ]
    }
  ]
}